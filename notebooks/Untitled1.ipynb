{
 "cells": [
  {
   "cell_type": "code",
   "execution_count": 1,
   "metadata": {
    "collapsed": true
   },
   "outputs": [],
   "source": [
    "import os\n",
    "import numpy as np\n",
    "import pandas as pd\n",
    "import csv\n",
    "from io import StringIO"
   ]
  },
  {
   "cell_type": "code",
   "execution_count": 2,
   "metadata": {
    "collapsed": true
   },
   "outputs": [],
   "source": [
    "train = pd.read_csv(\"/Users/phani/dev/projects/harriee/dsproject/train_90.txt\",sep=\"\\s+\")"
   ]
  },
  {
   "cell_type": "code",
   "execution_count": 3,
   "metadata": {
    "collapsed": false
   },
   "outputs": [
    {
     "data": {
      "text/html": [
       "<div>\n",
       "<table border=\"1\" class=\"dataframe\">\n",
       "  <thead>\n",
       "    <tr style=\"text-align: right;\">\n",
       "      <th></th>\n",
       "      <th>Click</th>\n",
       "      <th>Impression</th>\n",
       "      <th>#users</th>\n",
       "      <th>#ads</th>\n",
       "      <th>Age_1</th>\n",
       "      <th>Age_2</th>\n",
       "      <th>Age_3</th>\n",
       "      <th>Age_4</th>\n",
       "      <th>Age_5</th>\n",
       "      <th>Age_6</th>\n",
       "      <th>...</th>\n",
       "      <th>Depth_1</th>\n",
       "      <th>Depth_2</th>\n",
       "      <th>Depth_3</th>\n",
       "      <th>Position_1</th>\n",
       "      <th>Position_2</th>\n",
       "      <th>Position_3</th>\n",
       "      <th>Tokenscore_query</th>\n",
       "      <th>Tokenscore_title</th>\n",
       "      <th>Tokenscore_desc</th>\n",
       "      <th>Tokenscore_key</th>\n",
       "    </tr>\n",
       "  </thead>\n",
       "  <tbody>\n",
       "    <tr>\n",
       "      <th>0</th>\n",
       "      <td>0</td>\n",
       "      <td>1</td>\n",
       "      <td>3547</td>\n",
       "      <td>1799</td>\n",
       "      <td>0.0</td>\n",
       "      <td>0.0</td>\n",
       "      <td>1.0</td>\n",
       "      <td>0.0</td>\n",
       "      <td>0.0</td>\n",
       "      <td>0.0</td>\n",
       "      <td>...</td>\n",
       "      <td>0.0</td>\n",
       "      <td>0.0</td>\n",
       "      <td>1.0</td>\n",
       "      <td>0.0</td>\n",
       "      <td>0.0</td>\n",
       "      <td>1.0</td>\n",
       "      <td>0</td>\n",
       "      <td>0</td>\n",
       "      <td>0</td>\n",
       "      <td>0</td>\n",
       "    </tr>\n",
       "    <tr>\n",
       "      <th>1</th>\n",
       "      <td>0</td>\n",
       "      <td>2</td>\n",
       "      <td>3547</td>\n",
       "      <td>1799</td>\n",
       "      <td>0.0</td>\n",
       "      <td>0.0</td>\n",
       "      <td>1.0</td>\n",
       "      <td>0.0</td>\n",
       "      <td>0.0</td>\n",
       "      <td>0.0</td>\n",
       "      <td>...</td>\n",
       "      <td>0.0</td>\n",
       "      <td>1.0</td>\n",
       "      <td>0.0</td>\n",
       "      <td>0.0</td>\n",
       "      <td>1.0</td>\n",
       "      <td>0.0</td>\n",
       "      <td>0</td>\n",
       "      <td>0</td>\n",
       "      <td>0</td>\n",
       "      <td>0</td>\n",
       "    </tr>\n",
       "    <tr>\n",
       "      <th>2</th>\n",
       "      <td>0</td>\n",
       "      <td>1</td>\n",
       "      <td>3547</td>\n",
       "      <td>1799</td>\n",
       "      <td>0.0</td>\n",
       "      <td>0.0</td>\n",
       "      <td>0.0</td>\n",
       "      <td>0.0</td>\n",
       "      <td>1.0</td>\n",
       "      <td>0.0</td>\n",
       "      <td>...</td>\n",
       "      <td>0.0</td>\n",
       "      <td>1.0</td>\n",
       "      <td>0.0</td>\n",
       "      <td>0.0</td>\n",
       "      <td>1.0</td>\n",
       "      <td>0.0</td>\n",
       "      <td>0</td>\n",
       "      <td>0</td>\n",
       "      <td>0</td>\n",
       "      <td>0</td>\n",
       "    </tr>\n",
       "    <tr>\n",
       "      <th>3</th>\n",
       "      <td>0</td>\n",
       "      <td>1</td>\n",
       "      <td>3547</td>\n",
       "      <td>1799</td>\n",
       "      <td>0.0</td>\n",
       "      <td>1.0</td>\n",
       "      <td>0.0</td>\n",
       "      <td>0.0</td>\n",
       "      <td>0.0</td>\n",
       "      <td>0.0</td>\n",
       "      <td>...</td>\n",
       "      <td>1.0</td>\n",
       "      <td>0.0</td>\n",
       "      <td>0.0</td>\n",
       "      <td>1.0</td>\n",
       "      <td>0.0</td>\n",
       "      <td>0.0</td>\n",
       "      <td>0</td>\n",
       "      <td>0</td>\n",
       "      <td>0</td>\n",
       "      <td>0</td>\n",
       "    </tr>\n",
       "    <tr>\n",
       "      <th>4</th>\n",
       "      <td>0</td>\n",
       "      <td>1</td>\n",
       "      <td>3547</td>\n",
       "      <td>1799</td>\n",
       "      <td>0.0</td>\n",
       "      <td>0.0</td>\n",
       "      <td>0.0</td>\n",
       "      <td>1.0</td>\n",
       "      <td>0.0</td>\n",
       "      <td>0.0</td>\n",
       "      <td>...</td>\n",
       "      <td>0.0</td>\n",
       "      <td>1.0</td>\n",
       "      <td>0.0</td>\n",
       "      <td>0.0</td>\n",
       "      <td>1.0</td>\n",
       "      <td>0.0</td>\n",
       "      <td>0</td>\n",
       "      <td>0</td>\n",
       "      <td>0</td>\n",
       "      <td>0</td>\n",
       "    </tr>\n",
       "  </tbody>\n",
       "</table>\n",
       "<p>5 rows × 23 columns</p>\n",
       "</div>"
      ],
      "text/plain": [
       "   Click  Impression  #users  #ads  Age_1  Age_2  Age_3  Age_4  Age_5  Age_6  \\\n",
       "0      0           1    3547  1799    0.0    0.0    1.0    0.0    0.0    0.0   \n",
       "1      0           2    3547  1799    0.0    0.0    1.0    0.0    0.0    0.0   \n",
       "2      0           1    3547  1799    0.0    0.0    0.0    0.0    1.0    0.0   \n",
       "3      0           1    3547  1799    0.0    1.0    0.0    0.0    0.0    0.0   \n",
       "4      0           1    3547  1799    0.0    0.0    0.0    1.0    0.0    0.0   \n",
       "\n",
       "        ...        Depth_1  Depth_2  Depth_3  Position_1  Position_2  \\\n",
       "0       ...            0.0      0.0      1.0         0.0         0.0   \n",
       "1       ...            0.0      1.0      0.0         0.0         1.0   \n",
       "2       ...            0.0      1.0      0.0         0.0         1.0   \n",
       "3       ...            1.0      0.0      0.0         1.0         0.0   \n",
       "4       ...            0.0      1.0      0.0         0.0         1.0   \n",
       "\n",
       "   Position_3  Tokenscore_query  Tokenscore_title  Tokenscore_desc  \\\n",
       "0         1.0                 0                 0                0   \n",
       "1         0.0                 0                 0                0   \n",
       "2         0.0                 0                 0                0   \n",
       "3         0.0                 0                 0                0   \n",
       "4         0.0                 0                 0                0   \n",
       "\n",
       "   Tokenscore_key  \n",
       "0               0  \n",
       "1               0  \n",
       "2               0  \n",
       "3               0  \n",
       "4               0  \n",
       "\n",
       "[5 rows x 23 columns]"
      ]
     },
     "execution_count": 3,
     "metadata": {},
     "output_type": "execute_result"
    }
   ],
   "source": [
    "train.head(5)"
   ]
  },
  {
   "cell_type": "code",
   "execution_count": 4,
   "metadata": {
    "collapsed": false
   },
   "outputs": [
    {
     "data": {
      "text/plain": [
       "231103"
      ]
     },
     "execution_count": 4,
     "metadata": {},
     "output_type": "execute_result"
    }
   ],
   "source": [
    "len(train)"
   ]
  },
  {
   "cell_type": "code",
   "execution_count": 6,
   "metadata": {
    "collapsed": false
   },
   "outputs": [],
   "source": [
    "from sklearn import datasets\n",
    "from sklearn import metrics\n",
    "from sklearn.linear_model import LogisticRegression\n",
    "from sklearn import cross_validation\n",
    "from sklearn.cross_validation import train_test_split\n",
    "from collections import Counter\n",
    "from imblearn import under_sampling, over_sampling\n",
    "from imblearn.over_sampling import RandomOverSampler\n",
    "from imblearn.under_sampling import RandomUnderSampler"
   ]
  },
  {
   "cell_type": "code",
   "execution_count": 7,
   "metadata": {
    "collapsed": true
   },
   "outputs": [],
   "source": [
    "X_c = train.as_matrix(columns=train.columns[2:])\n",
    "y_c = np.array(train['Click'])\n",
    "X_trainc, X_testc, Y_trainc, Y_testc = cross_validation.train_test_split(X_c, y_c, test_size=0.25, random_state=7)"
   ]
  },
  {
   "cell_type": "code",
   "execution_count": 11,
   "metadata": {
    "collapsed": false
   },
   "outputs": [],
   "source": [
    "np.savetxt(\"/Users/phani/dev/projects/harriee/dsproject/extras/Y_testc.csv\", Y_testc, delimiter=\",\")"
   ]
  },
  {
   "cell_type": "code",
   "execution_count": 12,
   "metadata": {
    "collapsed": true
   },
   "outputs": [],
   "source": [
    "X_imp = train.as_matrix(columns=train.columns[2:])\n",
    "y_imp = np.array(train['Impression'])\n",
    "X_traini, X_testi, Y_traini, Y_testi = cross_validation.train_test_split(X_imp, y_imp, test_size=0.25, random_state=7)\n"
   ]
  },
  {
   "cell_type": "code",
   "execution_count": 13,
   "metadata": {
    "collapsed": true
   },
   "outputs": [],
   "source": [
    "np.savetxt(\"/Users/phani/dev/projects/harriee/dsproject/extras/Y_testi.csv\", Y_testi, delimiter=\",\")"
   ]
  },
  {
   "cell_type": "code",
   "execution_count": 14,
   "metadata": {
    "collapsed": true
   },
   "outputs": [],
   "source": [
    "#over sampling clicks"
   ]
  },
  {
   "cell_type": "code",
   "execution_count": 15,
   "metadata": {
    "collapsed": false
   },
   "outputs": [
    {
     "name": "stdout",
     "output_type": "stream",
     "text": [
      "Original dataset shape Counter({0: 212284, 1: 18075, 2: 567, 3: 89, 4: 26, 5: 19, 6: 12, 7: 9, 8: 3, 9: 3, 11: 3, 17: 2, 24: 2, 12: 1, 13: 1, 25: 1, 31: 1, 34: 1, 43: 1, 47: 1, 48: 1, 63: 1})\n",
      "Resampled dataset shape Counter({0: 212284, 1: 212284, 2: 212284, 3: 212284, 4: 212284, 5: 212284, 6: 212284, 7: 212284, 8: 212284, 9: 212284, 11: 212284, 12: 212284, 13: 212284, 17: 212284, 24: 212284, 25: 212284, 31: 212284, 34: 212284, 43: 212284, 47: 212284, 48: 212284, 63: 212284})\n"
     ]
    }
   ],
   "source": [
    "print('Original dataset shape {}'.format(Counter(y_c)))\n",
    "\n",
    "# Apply the random over-sampling\n",
    "ros = RandomOverSampler()\n",
    "X_ros, y_ros = ros.fit_sample(X_c, y_c)\n",
    "print('Resampled dataset shape {}'.format(Counter(y_ros)))"
   ]
  },
  {
   "cell_type": "code",
   "execution_count": 16,
   "metadata": {
    "collapsed": false
   },
   "outputs": [
    {
     "name": "stdout",
     "output_type": "stream",
     "text": [
      "LogisticRegression(C=1.0, class_weight=None, dual=False, fit_intercept=True,\n",
      "          intercept_scaling=1, max_iter=100, multi_class='ovr', n_jobs=1,\n",
      "          penalty='l2', random_state=None, solver='liblinear', tol=0.0001,\n",
      "          verbose=0, warm_start=False)\n",
      "Accuracy: 44.088%\n"
     ]
    }
   ],
   "source": [
    "X_train, X_test, Y_trainc, Y_testc = cross_validation.train_test_split(X_ros, y_ros, test_size=0.25, random_state=7)\n",
    "\n",
    "model = LogisticRegression()\n",
    "model.fit(X_train, Y_trainc)\n",
    "print(model)\n",
    "# make predictions\n",
    "expected = Y_testc\n",
    "predicted = model.predict(X_test)\n",
    "result = model.score(X_test, Y_testc)\n",
    "print(\"Accuracy: %.3f%%\") % (result*100.0)\n",
    "# summarize the fit of the model\n",
    "#print(metrics.classification_report(expected, predicted))\n",
    "#print(metrics.confusion_matrix(expected, predicted))"
   ]
  },
  {
   "cell_type": "code",
   "execution_count": 17,
   "metadata": {
    "collapsed": true
   },
   "outputs": [],
   "source": [
    "np.savetxt(\"/Users/phani/dev/projects/harriee/dsproject/extras/predictedclicks_over.csv\", predicted, delimiter=\",\")"
   ]
  },
  {
   "cell_type": "code",
   "execution_count": 18,
   "metadata": {
    "collapsed": true
   },
   "outputs": [],
   "source": [
    "#under sampling clicks"
   ]
  },
  {
   "cell_type": "code",
   "execution_count": 19,
   "metadata": {
    "collapsed": false
   },
   "outputs": [
    {
     "name": "stdout",
     "output_type": "stream",
     "text": [
      "Original dataset shape Counter({0: 212284, 1: 18075, 2: 567, 3: 89, 4: 26, 5: 19, 6: 12, 7: 9, 8: 3, 9: 3, 11: 3, 17: 2, 24: 2, 12: 1, 13: 1, 25: 1, 31: 1, 34: 1, 43: 1, 47: 1, 48: 1, 63: 1})\n",
      "Resampled dataset shape Counter({0: 1, 1: 1, 2: 1, 3: 1, 4: 1, 5: 1, 6: 1, 7: 1, 8: 1, 9: 1, 11: 1, 12: 1, 13: 1, 17: 1, 24: 1, 25: 1, 31: 1, 34: 1, 43: 1, 47: 1, 48: 1, 63: 1})\n"
     ]
    }
   ],
   "source": [
    "print('Original dataset shape {}'.format(Counter(y_c)))\n",
    "\n",
    "# Apply the random under-sampling\n",
    "rus = RandomUnderSampler()\n",
    "X_rus, y_rus = rus.fit_sample(X_c, y_c)\n",
    "print('Resampled dataset shape {}'.format(Counter(y_rus)))"
   ]
  },
  {
   "cell_type": "code",
   "execution_count": 21,
   "metadata": {
    "collapsed": false
   },
   "outputs": [
    {
     "name": "stdout",
     "output_type": "stream",
     "text": [
      "LogisticRegression(C=1.0, class_weight=None, dual=False, fit_intercept=True,\n",
      "          intercept_scaling=1, max_iter=100, multi_class='ovr', n_jobs=1,\n",
      "          penalty='l2', random_state=None, solver='liblinear', tol=0.0001,\n",
      "          verbose=0, warm_start=False)\n",
      "Accuracy: 0.000%\n",
      "             precision    recall  f1-score   support\n",
      "\n",
      "          0       0.00      0.00      0.00         1\n",
      "          1       0.00      0.00      0.00         1\n",
      "          4       0.00      0.00      0.00         1\n",
      "          5       0.00      0.00      0.00         0\n",
      "          8       0.00      0.00      0.00         0\n",
      "          9       0.00      0.00      0.00         0\n",
      "         13       0.00      0.00      0.00         1\n",
      "         25       0.00      0.00      0.00         0\n",
      "         43       0.00      0.00      0.00         0\n",
      "         47       0.00      0.00      0.00         1\n",
      "         63       0.00      0.00      0.00         1\n",
      "\n",
      "avg / total       0.00      0.00      0.00         6\n",
      "\n",
      "[[0 0 0 1 0 0 0 0 0 0 0]\n",
      " [0 0 0 0 0 1 0 0 0 0 0]\n",
      " [0 0 0 0 1 0 0 0 0 0 0]\n",
      " [0 0 0 0 0 0 0 0 0 0 0]\n",
      " [0 0 0 0 0 0 0 0 0 0 0]\n",
      " [0 0 0 0 0 0 0 0 0 0 0]\n",
      " [0 0 0 0 0 0 0 1 0 0 0]\n",
      " [0 0 0 0 0 0 0 0 0 0 0]\n",
      " [0 0 0 0 0 0 0 0 0 0 0]\n",
      " [0 0 0 0 0 0 0 0 1 0 0]\n",
      " [0 0 0 0 0 0 0 1 0 0 0]]\n"
     ]
    }
   ],
   "source": [
    "X_train, X_test, Y_traincu, Y_testcu = cross_validation.train_test_split(X_rus, y_rus, test_size=0.25, random_state=7)\n",
    "\n",
    "model = LogisticRegression()\n",
    "model.fit(X_train, Y_traincu)\n",
    "print(model)\n",
    "# make predictions\n",
    "expected = Y_testcu\n",
    "predicted = model.predict(X_test)\n",
    "result = model.score(X_test, Y_testcu)\n",
    "print(\"Accuracy: %.3f%%\") % (result*100.0)\n",
    "# summarize the fit of the model\n",
    "print(metrics.classification_report(expected, predicted))\n",
    "print(metrics.confusion_matrix(expected, predicted))"
   ]
  },
  {
   "cell_type": "code",
   "execution_count": 22,
   "metadata": {
    "collapsed": true
   },
   "outputs": [],
   "source": [
    "np.savetxt(\"/Users/phani/dev/projects/harriee/dsproject/extras/predictedclicks_under.csv\", predicted, delimiter=\",\")"
   ]
  },
  {
   "cell_type": "code",
   "execution_count": 23,
   "metadata": {
    "collapsed": false
   },
   "outputs": [
    {
     "name": "stdout",
     "output_type": "stream",
     "text": [
      "Original dataset shape Counter({1: 190776, 2: 25793, 3: 7228, 4: 2960, 5: 1547, 6: 1041, 7: 426, 8: 301, 9: 190, 10: 142, 11: 101, 12: 87, 13: 64, 14: 49, 15: 41, 17: 41, 18: 33, 16: 30, 19: 21, 22: 18, 20: 16, 21: 16, 28: 13, 24: 12, 25: 12, 23: 11, 34: 11, 30: 10, 27: 8, 29: 7, 31: 6, 26: 5, 33: 5, 38: 5, 45: 5, 32: 4, 47: 4, 35: 3, 36: 3, 55: 3, 37: 3, 39: 2, 40: 2, 42: 2, 43: 2, 48: 2, 52: 2, 53: 2, 62: 2, 63: 2, 65: 2, 71: 2, 41: 2, 172: 1, 70: 1, 169: 1, 44: 1, 46: 1, 49: 1, 50: 1, 51: 1, 54: 1, 56: 1, 59: 1, 83: 1, 130: 1, 72: 1, 585: 1, 75: 1, 76: 1, 77: 1, 82: 1, 211: 1, 93: 1, 106: 1, 108: 1, 147: 1, 122: 1, 123: 1, 124: 1, 126: 1})\n",
      "Resampled dataset shape Counter({1: 1, 2: 1, 3: 1, 4: 1, 5: 1, 6: 1, 7: 1, 8: 1, 9: 1, 10: 1, 11: 1, 12: 1, 13: 1, 14: 1, 15: 1, 16: 1, 17: 1, 18: 1, 19: 1, 20: 1, 21: 1, 22: 1, 23: 1, 24: 1, 25: 1, 26: 1, 27: 1, 28: 1, 29: 1, 30: 1, 31: 1, 32: 1, 33: 1, 34: 1, 35: 1, 36: 1, 37: 1, 38: 1, 39: 1, 40: 1, 169: 1, 42: 1, 43: 1, 172: 1, 45: 1, 46: 1, 44: 1, 48: 1, 49: 1, 50: 1, 51: 1, 52: 1, 53: 1, 54: 1, 55: 1, 56: 1, 59: 1, 62: 1, 63: 1, 65: 1, 147: 1, 70: 1, 71: 1, 72: 1, 585: 1, 75: 1, 76: 1, 77: 1, 82: 1, 83: 1, 93: 1, 130: 1, 47: 1, 106: 1, 108: 1, 211: 1, 41: 1, 122: 1, 123: 1, 124: 1, 126: 1})\n"
     ]
    }
   ],
   "source": [
    "#impression\n",
    "print('Original dataset shape {}'.format(Counter(y_imp)))\n",
    "\n",
    "# Apply the random under-sampling\n",
    "rus = RandomUnderSampler()\n",
    "X_rusi, y_rusi = rus.fit_sample(X_imp, y_imp)\n",
    "print('Resampled dataset shape {}'.format(Counter(y_rusi)))"
   ]
  },
  {
   "cell_type": "code",
   "execution_count": 24,
   "metadata": {
    "collapsed": false,
    "scrolled": true
   },
   "outputs": [
    {
     "name": "stdout",
     "output_type": "stream",
     "text": [
      "LogisticRegression(C=1.0, class_weight=None, dual=False, fit_intercept=True,\n",
      "          intercept_scaling=1, max_iter=100, multi_class='ovr', n_jobs=1,\n",
      "          penalty='l2', random_state=None, solver='liblinear', tol=0.0001,\n",
      "          verbose=0, warm_start=False)\n",
      "Accuracy: 0.000%\n",
      "             precision    recall  f1-score   support\n",
      "\n",
      "          2       0.00      0.00      0.00         1\n",
      "         12       0.00      0.00      0.00         1\n",
      "         13       0.00      0.00      0.00         1\n",
      "         15       0.00      0.00      0.00         1\n",
      "         17       0.00      0.00      0.00         1\n",
      "         18       0.00      0.00      0.00         1\n",
      "         20       0.00      0.00      0.00         1\n",
      "         22       0.00      0.00      0.00         1\n",
      "         23       0.00      0.00      0.00         0\n",
      "         24       0.00      0.00      0.00         0\n",
      "         27       0.00      0.00      0.00         1\n",
      "         30       0.00      0.00      0.00         1\n",
      "         32       0.00      0.00      0.00         0\n",
      "         33       0.00      0.00      0.00         0\n",
      "         34       0.00      0.00      0.00         0\n",
      "         36       0.00      0.00      0.00         1\n",
      "         40       0.00      0.00      0.00         1\n",
      "         42       0.00      0.00      0.00         0\n",
      "         49       0.00      0.00      0.00         1\n",
      "         53       0.00      0.00      0.00         0\n",
      "         54       0.00      0.00      0.00         0\n",
      "         59       0.00      0.00      0.00         0\n",
      "         63       0.00      0.00      0.00         0\n",
      "         65       0.00      0.00      0.00         1\n",
      "         70       0.00      0.00      0.00         1\n",
      "         71       0.00      0.00      0.00         1\n",
      "         76       0.00      0.00      0.00         0\n",
      "         82       0.00      0.00      0.00         1\n",
      "         83       0.00      0.00      0.00         0\n",
      "        106       0.00      0.00      0.00         0\n",
      "        123       0.00      0.00      0.00         1\n",
      "        126       0.00      0.00      0.00         0\n",
      "        130       0.00      0.00      0.00         1\n",
      "        147       0.00      0.00      0.00         1\n",
      "        169       0.00      0.00      0.00         1\n",
      "        172       0.00      0.00      0.00         0\n",
      "        585       0.00      0.00      0.00         0\n",
      "\n",
      "avg / total       0.00      0.00      0.00        21\n",
      "\n",
      "[[0 0 0 ..., 0 0 0]\n",
      " [0 0 0 ..., 0 0 0]\n",
      " [0 0 0 ..., 0 0 0]\n",
      " ..., \n",
      " [0 0 0 ..., 0 0 0]\n",
      " [0 0 0 ..., 0 0 0]\n",
      " [0 0 0 ..., 0 0 0]]\n"
     ]
    }
   ],
   "source": [
    "X_train, X_test, Y_trainiu, Y_testiu = cross_validation.train_test_split(X_rusi, y_rusi, test_size=0.25, random_state=7)\n",
    "\n",
    "model = LogisticRegression()\n",
    "model.fit(X_train, Y_trainiu)\n",
    "print(model)\n",
    "# make predictions\n",
    "expec_i = Y_testiu\n",
    "pred_i = model.predict(X_test)\n",
    "result = model.score(X_test, Y_testiu)\n",
    "print(\"Accuracy: %.3f%%\") % (result*100.0)\n",
    "# summarize the fit of the model\n",
    "print(metrics.classification_report(expec_i, pred_i))\n",
    "print(metrics.confusion_matrix(expec_i, pred_i))"
   ]
  },
  {
   "cell_type": "code",
   "execution_count": 25,
   "metadata": {
    "collapsed": true
   },
   "outputs": [],
   "source": [
    "np.savetxt(\"/Users/phani/dev/projects/harriee/dsproject/extras/predictedimp_under.csv\", pred_i, delimiter=\",\")"
   ]
  },
  {
   "cell_type": "code",
   "execution_count": 26,
   "metadata": {
    "collapsed": true
   },
   "outputs": [],
   "source": [
    "#over sampling"
   ]
  },
  {
   "cell_type": "code",
   "execution_count": 27,
   "metadata": {
    "collapsed": false
   },
   "outputs": [
    {
     "name": "stdout",
     "output_type": "stream",
     "text": [
      "Original dataset shape Counter({1: 190776, 2: 25793, 3: 7228, 4: 2960, 5: 1547, 6: 1041, 7: 426, 8: 301, 9: 190, 10: 142, 11: 101, 12: 87, 13: 64, 14: 49, 15: 41, 17: 41, 18: 33, 16: 30, 19: 21, 22: 18, 20: 16, 21: 16, 28: 13, 24: 12, 25: 12, 23: 11, 34: 11, 30: 10, 27: 8, 29: 7, 31: 6, 26: 5, 33: 5, 38: 5, 45: 5, 32: 4, 47: 4, 35: 3, 36: 3, 55: 3, 37: 3, 39: 2, 40: 2, 42: 2, 43: 2, 48: 2, 52: 2, 53: 2, 62: 2, 63: 2, 65: 2, 71: 2, 41: 2, 172: 1, 70: 1, 169: 1, 44: 1, 46: 1, 49: 1, 50: 1, 51: 1, 54: 1, 56: 1, 59: 1, 83: 1, 130: 1, 72: 1, 585: 1, 75: 1, 76: 1, 77: 1, 82: 1, 211: 1, 93: 1, 106: 1, 108: 1, 147: 1, 122: 1, 123: 1, 124: 1, 126: 1})\n",
      "Resampled dataset shape Counter({1: 190776, 2: 190776, 3: 190776, 4: 190776, 5: 190776, 6: 190776, 7: 190776, 8: 190776, 9: 190776, 10: 190776, 11: 190776, 12: 190776, 13: 190776, 14: 190776, 15: 190776, 16: 190776, 17: 190776, 18: 190776, 19: 190776, 20: 190776, 21: 190776, 22: 190776, 23: 190776, 24: 190776, 25: 190776, 26: 190776, 27: 190776, 28: 190776, 29: 190776, 30: 190776, 31: 190776, 32: 190776, 33: 190776, 34: 190776, 35: 190776, 36: 190776, 37: 190776, 38: 190776, 39: 190776, 40: 190776, 169: 190776, 42: 190776, 43: 190776, 172: 190776, 45: 190776, 46: 190776, 44: 190776, 48: 190776, 49: 190776, 50: 190776, 51: 190776, 52: 190776, 53: 190776, 54: 190776, 55: 190776, 56: 190776, 59: 190776, 62: 190776, 63: 190776, 65: 190776, 147: 190776, 70: 190776, 71: 190776, 72: 190776, 585: 190776, 75: 190776, 76: 190776, 77: 190776, 82: 190776, 83: 190776, 93: 190776, 130: 190776, 47: 190776, 106: 190776, 108: 190776, 211: 190776, 41: 190776, 122: 190776, 123: 190776, 124: 190776, 126: 190776})\n"
     ]
    }
   ],
   "source": [
    "print('Original dataset shape {}'.format(Counter(y_imp)))\n",
    "\n",
    "# Apply the random over-sampling\n",
    "ros = RandomOverSampler()\n",
    "X_rosi, y_rosi = ros.fit_sample(X_imp, y_imp)\n",
    "print('Resampled dataset shape {}'.format(Counter(y_rosi)))"
   ]
  },
  {
   "cell_type": "code",
   "execution_count": null,
   "metadata": {
    "collapsed": true
   },
   "outputs": [],
   "source": [
    "X_train, X_test, Y_traini, Y_testi = cross_validation.train_test_split(X_rosi, y_rosi, test_size=0.25, random_state=7)\n",
    "\n",
    "model = LogisticRegression()\n",
    "model.fit(X_train, Y_traini)\n",
    "print(model)\n",
    "# make predictions\n",
    "expec_i = Y_testi\n",
    "pred_i = model.predict(X_test)\n",
    "result = model.score(X_test, Y_testi)\n",
    "print(\"Accuracy: %.3f%%\") % (result*100.0)\n",
    "# summarize the fit of the model\n",
    "#print(metrics.classification_report(expec_i, pred_i))\n",
    "#print(metrics.confusion_matrix(expec_i, pred_i))"
   ]
  },
  {
   "cell_type": "code",
   "execution_count": null,
   "metadata": {
    "collapsed": true
   },
   "outputs": [],
   "source": [
    "np.savetxt(\"/Users/phani/dev/projects/harriee/dsproject/extras/predictedimp_over.csv\", pred_i, delimiter=\",\")"
   ]
  }
 ],
 "metadata": {
  "anaconda-cloud": {},
  "kernelspec": {
   "display_name": "Python [Root]",
   "language": "python",
   "name": "Python [Root]"
  },
  "language_info": {
   "codemirror_mode": {
    "name": "ipython",
    "version": 2
   },
   "file_extension": ".py",
   "mimetype": "text/x-python",
   "name": "python",
   "nbconvert_exporter": "python",
   "pygments_lexer": "ipython2",
   "version": "2.7.12"
  }
 },
 "nbformat": 4,
 "nbformat_minor": 1
}
