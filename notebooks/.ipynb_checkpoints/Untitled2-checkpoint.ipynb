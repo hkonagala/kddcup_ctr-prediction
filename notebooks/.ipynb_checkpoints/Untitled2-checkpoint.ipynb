{
 "cells": [
  {
   "cell_type": "code",
   "execution_count": 1,
   "metadata": {
    "collapsed": true
   },
   "outputs": [],
   "source": [
    "import os\n",
    "import numpy as np\n",
    "import pandas as pd\n",
    "import csv\n",
    "from io import StringIO"
   ]
  },
  {
   "cell_type": "code",
   "execution_count": 2,
   "metadata": {
    "collapsed": true
   },
   "outputs": [],
   "source": [
    "train = pd.read_csv(\"C:/Users/Harika Konagala/Desktop/kddcup/extras/train_test/train_full.txt\",sep=\"\\s+\")"
   ]
  },
  {
   "cell_type": "code",
   "execution_count": 3,
   "metadata": {
    "collapsed": false
   },
   "outputs": [
    {
     "data": {
      "text/html": [
       "<div>\n",
       "<table border=\"1\" class=\"dataframe\">\n",
       "  <thead>\n",
       "    <tr style=\"text-align: right;\">\n",
       "      <th></th>\n",
       "      <th>Click</th>\n",
       "      <th>Impression</th>\n",
       "      <th>Depth</th>\n",
       "      <th>Position</th>\n",
       "      <th>#users</th>\n",
       "      <th>#ads</th>\n",
       "      <th>Gender</th>\n",
       "      <th>Age</th>\n",
       "      <th>Tokenscore_query</th>\n",
       "      <th>Tokenscore_title</th>\n",
       "      <th>Tokenscore_desc</th>\n",
       "      <th>Tokenscore_key</th>\n",
       "    </tr>\n",
       "  </thead>\n",
       "  <tbody>\n",
       "    <tr>\n",
       "      <th>0</th>\n",
       "      <td>0</td>\n",
       "      <td>1</td>\n",
       "      <td>3</td>\n",
       "      <td>3</td>\n",
       "      <td>3547</td>\n",
       "      <td>1799</td>\n",
       "      <td>1</td>\n",
       "      <td>3</td>\n",
       "      <td>0</td>\n",
       "      <td>0</td>\n",
       "      <td>0</td>\n",
       "      <td>0</td>\n",
       "    </tr>\n",
       "    <tr>\n",
       "      <th>1</th>\n",
       "      <td>0</td>\n",
       "      <td>2</td>\n",
       "      <td>2</td>\n",
       "      <td>2</td>\n",
       "      <td>3547</td>\n",
       "      <td>1799</td>\n",
       "      <td>1</td>\n",
       "      <td>3</td>\n",
       "      <td>0</td>\n",
       "      <td>0</td>\n",
       "      <td>0</td>\n",
       "      <td>0</td>\n",
       "    </tr>\n",
       "  </tbody>\n",
       "</table>\n",
       "</div>"
      ],
      "text/plain": [
       "   Click  Impression  Depth  Position  #users  #ads  Gender  Age  \\\n",
       "0      0           1      3         3    3547  1799       1    3   \n",
       "1      0           2      2         2    3547  1799       1    3   \n",
       "\n",
       "   Tokenscore_query  Tokenscore_title  Tokenscore_desc  Tokenscore_key  \n",
       "0                 0                 0                0               0  \n",
       "1                 0                 0                0               0  "
      ]
     },
     "execution_count": 3,
     "metadata": {},
     "output_type": "execute_result"
    }
   ],
   "source": [
    "train.head(2)"
   ]
  },
  {
   "cell_type": "code",
   "execution_count": 4,
   "metadata": {
    "collapsed": false
   },
   "outputs": [
    {
     "data": {
      "text/plain": [
       "231103"
      ]
     },
     "execution_count": 4,
     "metadata": {},
     "output_type": "execute_result"
    }
   ],
   "source": [
    "len(train)"
   ]
  },
  {
   "cell_type": "code",
   "execution_count": 5,
   "metadata": {
    "collapsed": false
   },
   "outputs": [],
   "source": [
    "import warnings # current version of seaborn generates a bunch of warnings that we'll ignore\n",
    "warnings.filterwarnings(\"ignore\")\n",
    "import seaborn as sns\n",
    "import matplotlib.pyplot as plt\n",
    "sns.set(style=\"white\", color_codes=True)"
   ]
  },
  {
   "cell_type": "code",
   "execution_count": 6,
   "metadata": {
    "collapsed": false
   },
   "outputs": [
    {
     "data": {
      "text/plain": [
       "<matplotlib.axes._subplots.AxesSubplot at 0xbfc50f0>"
      ]
     },
     "execution_count": 6,
     "metadata": {},
     "output_type": "execute_result"
    }
   ],
   "source": [
    "train.plot(kind=\"scatter\", x=\"Click\", y=\"Impression\")"
   ]
  },
  {
   "cell_type": "code",
   "execution_count": 7,
   "metadata": {
    "collapsed": true
   },
   "outputs": [],
   "source": [
    "plt.show()"
   ]
  },
  {
   "cell_type": "code",
   "execution_count": 8,
   "metadata": {
    "collapsed": false
   },
   "outputs": [
    {
     "data": {
      "text/plain": [
       "array([ 0,  1,  3,  2,  6,  7,  5,  4, 13, 25,  9, 17, 47, 24, 48, 43, 11,\n",
       "       34,  8, 63, 12, 31], dtype=int64)"
      ]
     },
     "execution_count": 8,
     "metadata": {},
     "output_type": "execute_result"
    }
   ],
   "source": [
    "train['Click'].unique()"
   ]
  },
  {
   "cell_type": "code",
   "execution_count": 9,
   "metadata": {
    "collapsed": false
   },
   "outputs": [
    {
     "data": {
      "text/plain": [
       "array([  1,   2,   3,   4,   7,  11,   5,  14,   6,  12,  10,  17,   9,\n",
       "        15,  47,  33,   8,  24,  13,  22,  16,  18,  21,  26,  19,  28,\n",
       "        27,  20,  54,  59,  29,  30,  43,  38, 106,  36, 169, 130,  72,\n",
       "        45,  63, 122,  53,  82, 585,  41, 147,  35, 211, 124,  40,  77,\n",
       "        34,  32,  23,  25, 108,  93,  71,  62,  31,  44,  55,  75,  52,\n",
       "        49,  39,  42,  50,  51,  70,  83,  46,  65, 172,  56, 123,  76,\n",
       "        37, 126,  48], dtype=int64)"
      ]
     },
     "execution_count": 9,
     "metadata": {},
     "output_type": "execute_result"
    }
   ],
   "source": [
    "train['Impression'].unique()"
   ]
  },
  {
   "cell_type": "code",
   "execution_count": 11,
   "metadata": {
    "collapsed": false
   },
   "outputs": [
    {
     "data": {
      "text/plain": [
       "<seaborn.axisgrid.FacetGrid at 0x908c208>"
      ]
     },
     "execution_count": 11,
     "metadata": {},
     "output_type": "execute_result"
    }
   ],
   "source": [
    "sns.FacetGrid(train, hue=\"Click\", size=6) \\\n",
    "   .map(sns.kdeplot, \"Gender\") \\\n",
    "   .add_legend()"
   ]
  },
  {
   "cell_type": "code",
   "execution_count": 12,
   "metadata": {
    "collapsed": true
   },
   "outputs": [],
   "source": [
    "plt.show()"
   ]
  },
  {
   "cell_type": "code",
   "execution_count": 13,
   "metadata": {
    "collapsed": false
   },
   "outputs": [
    {
     "data": {
      "text/plain": [
       "<matplotlib.axes._subplots.AxesSubplot at 0xcaad080>"
      ]
     },
     "execution_count": 13,
     "metadata": {},
     "output_type": "execute_result"
    }
   ],
   "source": [
    "from pandas.tools.plotting import radviz\n",
    "radviz(train.drop(\"Impression\", axis=1), \"Click\")"
   ]
  },
  {
   "cell_type": "code",
   "execution_count": 14,
   "metadata": {
    "collapsed": true
   },
   "outputs": [],
   "source": [
    "plt.show()"
   ]
  },
  {
   "cell_type": "code",
   "execution_count": 17,
   "metadata": {
    "collapsed": false
   },
   "outputs": [
    {
     "data": {
      "text/plain": [
       "<seaborn.axisgrid.FacetGrid at 0x1324b240>"
      ]
     },
     "execution_count": 17,
     "metadata": {},
     "output_type": "execute_result"
    }
   ],
   "source": [
    "sns.factorplot(data=train, x=\"Age\", y=\"Click\", col=\"Gender\")"
   ]
  },
  {
   "cell_type": "code",
   "execution_count": 18,
   "metadata": {
    "collapsed": true
   },
   "outputs": [],
   "source": [
    "plt.show()"
   ]
  },
  {
   "cell_type": "code",
   "execution_count": 19,
   "metadata": {
    "collapsed": true
   },
   "outputs": [],
   "source": [
    "g = sns.FacetGrid(train, col=\"Gender\")  \n",
    "g.map(plt.scatter, \"Click\", \"Age\")\n",
    "plt.show()"
   ]
  },
  {
   "cell_type": "code",
   "execution_count": 20,
   "metadata": {
    "collapsed": false
   },
   "outputs": [
    {
     "data": {
      "text/plain": [
       "PCA(copy=True, n_components=12, whiten=False)"
      ]
     },
     "execution_count": 20,
     "metadata": {},
     "output_type": "execute_result"
    }
   ],
   "source": [
    "from sklearn.decomposition import PCA\n",
    "\n",
    "\n",
    "pca = PCA(n_components=12)\n",
    "pca.fit(train)"
   ]
  },
  {
   "cell_type": "code",
   "execution_count": 30,
   "metadata": {
    "collapsed": false
   },
   "outputs": [],
   "source": [
    "from matplotlib import pyplot as plt\n",
    "import numpy as np\n",
    "import math\n",
    "X = train.ix[2:].values\n",
    "y = train.ix[:1].values\n",
    "label_dict = {1: 'Click'}\n",
    "\n",
    "feature_dict = {0: 'Depth',\n",
    "                1: 'position',\n",
    "                2: '#users',\n",
    "                3: '#ads',\n",
    "                4: 'Gender',\n",
    "                5: 'Age',\n",
    "                6: 'Tokenscore_query',\n",
    "                7: 'Tokenscore_title',\n",
    "                8: 'Tokenscore_desc',\n",
    "                9: 'Tokenscore_key'}\n",
    "\n",
    "with plt.style.context('seaborn-whitegrid'):\n",
    "    plt.figure(figsize=(8, 6))\n",
    "    for cnt in range(10):\n",
    "        plt.subplot(5, 5, cnt+1)\n",
    "        for lab in ('Click'):\n",
    "            plt.hist(X[y==lab, cnt],\n",
    "                     label=lab,\n",
    "                     bins=10,\n",
    "                     alpha=0.3,)\n",
    "        plt.xlabel(feature_dict[cnt])\n",
    "    plt.legend(loc='upper right', fancybox=True, fontsize=8)\n",
    "\n",
    "    plt.tight_layout()\n",
    "    plt.show()"
   ]
  },
  {
   "cell_type": "code",
   "execution_count": 28,
   "metadata": {
    "collapsed": false
   },
   "outputs": [
    {
     "data": {
      "text/plain": [
       "Index([u'Click'], dtype='object')"
      ]
     },
     "execution_count": 28,
     "metadata": {},
     "output_type": "execute_result"
    }
   ],
   "source": [
    "train.columns[0:1]"
   ]
  },
  {
   "cell_type": "code",
   "execution_count": 31,
   "metadata": {
    "collapsed": false
   },
   "outputs": [
    {
     "name": "stderr",
     "output_type": "stream",
     "text": [
      "C:\\Users\\Harika Konagala\\Anaconda2\\lib\\site-packages\\sklearn\\utils\\validation.py:420: DataConversionWarning: Data with input dtype int64 was converted to float64 by StandardScaler.\n",
      "  warnings.warn(msg, DataConversionWarning)\n",
      "C:\\Users\\Harika Konagala\\Anaconda2\\lib\\site-packages\\sklearn\\utils\\validation.py:420: DataConversionWarning: Data with input dtype int64 was converted to float64 by StandardScaler.\n",
      "  warnings.warn(msg, DataConversionWarning)\n"
     ]
    }
   ],
   "source": [
    "from sklearn.preprocessing import StandardScaler\n",
    "X_std = StandardScaler().fit_transform(X)"
   ]
  },
  {
   "cell_type": "code",
   "execution_count": 32,
   "metadata": {
    "collapsed": false,
    "scrolled": true
   },
   "outputs": [
    {
     "name": "stdout",
     "output_type": "stream",
     "text": [
      "Covariance matrix \n",
      "[[ 1.00000433  0.11878049 -0.02438713 -0.06178749  0.01413096  0.00656271\n",
      "  -0.00410775 -0.00348932 -0.02761173 -0.01697773 -0.00864131 -0.01833402]\n",
      " [ 0.11878049  1.00000433 -0.04594421 -0.03110664  0.04220089  0.0345206\n",
      "  -0.01209731 -0.01257195 -0.01942843 -0.01355519  0.00461521 -0.01463423]\n",
      " [-0.02438713 -0.04594421  1.00000433  0.55612377 -0.12892018 -0.11756845\n",
      "   0.01216412  0.02563191 -0.06420542 -0.07145599 -0.0438488  -0.11914618]\n",
      " [-0.06178749 -0.03110664  0.55612377  1.00000433 -0.0437561  -0.0377968\n",
      "   0.00782159  0.01457717 -0.03486007 -0.04636926 -0.03307834 -0.06404344]\n",
      " [ 0.01413096  0.04220089 -0.12892018 -0.0437561   1.00000433  0.83158216\n",
      "  -0.01077629 -0.02170396  0.06873004  0.01928421 -0.0302882   0.17086167]\n",
      " [ 0.00656271  0.0345206  -0.11756845 -0.0377968   0.83158216  1.00000433\n",
      "  -0.00348432 -0.01901861  0.05904112  0.0105829  -0.06574846  0.17712269]\n",
      " [-0.00410775 -0.01209731  0.01216412  0.00782159 -0.01077629 -0.00348432\n",
      "   1.00000433  0.10562046  0.00595169  0.00312997 -0.00955708 -0.00517694]\n",
      " [-0.00348932 -0.01257195  0.02563191  0.01457717 -0.02170396 -0.01901861\n",
      "   0.10562046  1.00000433  0.00917636 -0.00667584 -0.01220655 -0.0108317 ]\n",
      " [-0.02761173 -0.01942843 -0.06420542 -0.03486007  0.06873004  0.05904112\n",
      "   0.00595169  0.00917636  1.00000433 -0.03479657 -0.04571253 -0.02767365]\n",
      " [-0.01697773 -0.01355519 -0.07145599 -0.04636926  0.01928421  0.0105829\n",
      "   0.00312997 -0.00667584 -0.03479657  1.00000433  0.28521418  0.21993531]\n",
      " [-0.00864131  0.00461521 -0.0438488  -0.03307834 -0.0302882  -0.06574846\n",
      "  -0.00955708 -0.01220655 -0.04571253  0.28521418  1.00000433  0.06128183]\n",
      " [-0.01833402 -0.01463423 -0.11914618 -0.06404344  0.17086167  0.17712269\n",
      "  -0.00517694 -0.0108317  -0.02767365  0.21993531  0.06128183  1.00000433]]\n"
     ]
    }
   ],
   "source": [
    "mean_vec = np.mean(X_std, axis=0)\n",
    "cov_mat = (X_std - mean_vec).T.dot((X_std - mean_vec)) / (X_std.shape[0]-1)\n",
    "print('Covariance matrix \\n%s' %cov_mat)"
   ]
  },
  {
   "cell_type": "code",
   "execution_count": 33,
   "metadata": {
    "collapsed": false,
    "scrolled": true
   },
   "outputs": [
    {
     "name": "stdout",
     "output_type": "stream",
     "text": [
      "Eigenvectors \n",
      "[[ 0.03457356  0.00604949  0.06342773 -0.04851938 -0.17526075  0.015472\n",
      "  -0.52995253 -0.37708046 -0.09876244  0.16508389 -0.70395852  0.07636415]\n",
      " [ 0.06567831  0.00495496  0.03564386  0.02755202 -0.14264165 -0.00976275\n",
      "  -0.555267   -0.33177703 -0.25777903 -0.39649035  0.57263301 -0.05682988]\n",
      " [-0.33948618 -0.01006814 -0.50751723  0.71427567  0.30022521  0.00167638\n",
      "  -0.11068472 -0.04255948 -0.07921324 -0.0274175  -0.0749935   0.00577989]\n",
      " [-0.26371622  0.00335349 -0.5428127  -0.69318744  0.35124089  0.02947788\n",
      "  -0.09134924 -0.01701638 -0.1193885  -0.08611794 -0.02690826 -0.00455298]\n",
      " [ 0.59673252 -0.70606655 -0.32273082  0.02879829  0.05163281 -0.02203012\n",
      "  -0.02503857 -0.02085996 -0.01213526  0.18225067  0.05231214 -0.0091289 ]\n",
      " [ 0.59295958  0.70720009 -0.33943987  0.0419064   0.043172   -0.04285586\n",
      "  -0.01372883 -0.02095851  0.01728884  0.15667757  0.04476401 -0.01061292]\n",
      " [-0.02034631 -0.00559469 -0.02417325 -0.00251539  0.00485578  0.02436354\n",
      "   0.37057481 -0.60171574  0.05236104 -0.03085572 -0.05110942 -0.70189276]\n",
      " [-0.04213661 -0.00095091 -0.0342445  -0.01048831 -0.00504681  0.00438015\n",
      "   0.36846377 -0.59656079  0.00180377  0.05788395  0.12798588  0.69678672]\n",
      " [ 0.09020049  0.00925755 -0.04230599  0.03317101 -0.20454597  0.04891651\n",
      "   0.32337654  0.14126842 -0.85711443 -0.21499895 -0.19795293  0.00848323]\n",
      " [ 0.11283502 -0.00124429  0.31716622  0.00790207  0.56799693 -0.72399229\n",
      "  -0.01501384 -0.06150542 -0.16431876 -0.06188814 -0.07043149  0.00497777]\n",
      " [ 0.01227591  0.03126018  0.32012947  0.01372599  0.48445709  0.5399777\n",
      "  -0.09689139 -0.05508535 -0.30528269  0.48159881  0.17281314 -0.05004573]\n",
      " [ 0.28070469 -0.00822463  0.12840697  0.04620832  0.36289754  0.42157473\n",
      "   0.04626762 -0.00619498  0.21268091 -0.68067378 -0.26915143  0.09961059]]\n",
      "\n",
      "Eigenvalues \n",
      "[ 2.02015943  0.16738885  1.53988158  0.43534638  1.34116176  0.6649483\n",
      "  1.13123925  1.09405644  0.96350365  0.86508963  0.88294013  0.89433651]\n"
     ]
    }
   ],
   "source": [
    "cov_mat = np.cov(X_std.T)\n",
    "\n",
    "eig_vals, eig_vecs = np.linalg.eig(cov_mat)\n",
    "\n",
    "print('Eigenvectors \\n%s' %eig_vecs)\n",
    "print('\\nEigenvalues \\n%s' %eig_vals)"
   ]
  },
  {
   "cell_type": "code",
   "execution_count": 34,
   "metadata": {
    "collapsed": false
   },
   "outputs": [
    {
     "ename": "MemoryError",
     "evalue": "",
     "output_type": "error",
     "traceback": [
      "\u001b[1;31m---------------------------------------------------------------------------\u001b[0m",
      "\u001b[1;31mMemoryError\u001b[0m                               Traceback (most recent call last)",
      "\u001b[1;32m<ipython-input-34-6bd0f64304de>\u001b[0m in \u001b[0;36m<module>\u001b[1;34m()\u001b[0m\n\u001b[1;32m----> 1\u001b[1;33m \u001b[0mu\u001b[0m\u001b[1;33m,\u001b[0m\u001b[0ms\u001b[0m\u001b[1;33m,\u001b[0m\u001b[0mv\u001b[0m \u001b[1;33m=\u001b[0m \u001b[0mnp\u001b[0m\u001b[1;33m.\u001b[0m\u001b[0mlinalg\u001b[0m\u001b[1;33m.\u001b[0m\u001b[0msvd\u001b[0m\u001b[1;33m(\u001b[0m\u001b[0mX_std\u001b[0m\u001b[1;33m.\u001b[0m\u001b[0mT\u001b[0m\u001b[1;33m)\u001b[0m\u001b[1;33m\u001b[0m\u001b[0m\n\u001b[0m\u001b[0;32m      2\u001b[0m \u001b[0mu\u001b[0m\u001b[1;33m\u001b[0m\u001b[0m\n",
      "\u001b[1;32mC:\\Users\\Harika Konagala\\Anaconda2\\lib\\site-packages\\numpy\\linalg\\linalg.pyc\u001b[0m in \u001b[0;36msvd\u001b[1;34m(a, full_matrices, compute_uv)\u001b[0m\n\u001b[0;32m   1357\u001b[0m \u001b[1;33m\u001b[0m\u001b[0m\n\u001b[0;32m   1358\u001b[0m         \u001b[0msignature\u001b[0m \u001b[1;33m=\u001b[0m \u001b[1;34m'D->DdD'\u001b[0m \u001b[1;32mif\u001b[0m \u001b[0misComplexType\u001b[0m\u001b[1;33m(\u001b[0m\u001b[0mt\u001b[0m\u001b[1;33m)\u001b[0m \u001b[1;32melse\u001b[0m \u001b[1;34m'd->ddd'\u001b[0m\u001b[1;33m\u001b[0m\u001b[0m\n\u001b[1;32m-> 1359\u001b[1;33m         \u001b[0mu\u001b[0m\u001b[1;33m,\u001b[0m \u001b[0ms\u001b[0m\u001b[1;33m,\u001b[0m \u001b[0mvt\u001b[0m \u001b[1;33m=\u001b[0m \u001b[0mgufunc\u001b[0m\u001b[1;33m(\u001b[0m\u001b[0ma\u001b[0m\u001b[1;33m,\u001b[0m \u001b[0msignature\u001b[0m\u001b[1;33m=\u001b[0m\u001b[0msignature\u001b[0m\u001b[1;33m,\u001b[0m \u001b[0mextobj\u001b[0m\u001b[1;33m=\u001b[0m\u001b[0mextobj\u001b[0m\u001b[1;33m)\u001b[0m\u001b[1;33m\u001b[0m\u001b[0m\n\u001b[0m\u001b[0;32m   1360\u001b[0m         \u001b[0mu\u001b[0m \u001b[1;33m=\u001b[0m \u001b[0mu\u001b[0m\u001b[1;33m.\u001b[0m\u001b[0mastype\u001b[0m\u001b[1;33m(\u001b[0m\u001b[0mresult_t\u001b[0m\u001b[1;33m,\u001b[0m \u001b[0mcopy\u001b[0m\u001b[1;33m=\u001b[0m\u001b[0mFalse\u001b[0m\u001b[1;33m)\u001b[0m\u001b[1;33m\u001b[0m\u001b[0m\n\u001b[0;32m   1361\u001b[0m         \u001b[0ms\u001b[0m \u001b[1;33m=\u001b[0m \u001b[0ms\u001b[0m\u001b[1;33m.\u001b[0m\u001b[0mastype\u001b[0m\u001b[1;33m(\u001b[0m\u001b[0m_realType\u001b[0m\u001b[1;33m(\u001b[0m\u001b[0mresult_t\u001b[0m\u001b[1;33m)\u001b[0m\u001b[1;33m,\u001b[0m \u001b[0mcopy\u001b[0m\u001b[1;33m=\u001b[0m\u001b[0mFalse\u001b[0m\u001b[1;33m)\u001b[0m\u001b[1;33m\u001b[0m\u001b[0m\n",
      "\u001b[1;31mMemoryError\u001b[0m: "
     ]
    }
   ],
   "source": [
    "u,s,v = np.linalg.svd(X_std.T)\n",
    "u"
   ]
  },
  {
   "cell_type": "code",
   "execution_count": 35,
   "metadata": {
    "collapsed": false
   },
   "outputs": [
    {
     "name": "stdout",
     "output_type": "stream",
     "text": [
      "Everything ok!\n"
     ]
    }
   ],
   "source": [
    "for ev in eig_vecs:\n",
    "    np.testing.assert_array_almost_equal(1.0, np.linalg.norm(ev))\n",
    "print('Everything ok!')"
   ]
  },
  {
   "cell_type": "code",
   "execution_count": 36,
   "metadata": {
    "collapsed": false
   },
   "outputs": [
    {
     "name": "stdout",
     "output_type": "stream",
     "text": [
      "Eigenvalues in descending order:\n",
      "2.02015942977\n",
      "1.53988157892\n",
      "1.34116176027\n",
      "1.13123925249\n",
      "1.09405644347\n",
      "0.963503650352\n",
      "0.894336514708\n",
      "0.882940134386\n",
      "0.865089630236\n",
      "0.664948297739\n",
      "0.435346382058\n",
      "0.167388851177\n"
     ]
    }
   ],
   "source": [
    "# Make a list of (eigenvalue, eigenvector) tuples\n",
    "eig_pairs = [(np.abs(eig_vals[i]), eig_vecs[:,i]) for i in range(len(eig_vals))]\n",
    "\n",
    "# Sort the (eigenvalue, eigenvector) tuples from high to low\n",
    "eig_pairs.sort(key=lambda x: x[0], reverse=True)\n",
    "\n",
    "# Visually confirm that the list is correctly sorted by decreasing eigenvalues\n",
    "print('Eigenvalues in descending order:')\n",
    "for i in eig_pairs:\n",
    "    print(i[0])"
   ]
  },
  {
   "cell_type": "code",
   "execution_count": 37,
   "metadata": {
    "collapsed": true
   },
   "outputs": [],
   "source": [
    "tot = sum(eig_vals)\n",
    "var_exp = [(i / tot)*100 for i in sorted(eig_vals, reverse=True)]\n",
    "cum_var_exp = np.cumsum(var_exp)"
   ]
  },
  {
   "cell_type": "code",
   "execution_count": 39,
   "metadata": {
    "collapsed": false
   },
   "outputs": [
    {
     "ename": "ValueError",
     "evalue": "incompatible sizes: argument 'height' must be length 11 or scalar",
     "output_type": "error",
     "traceback": [
      "\u001b[1;31m---------------------------------------------------------------------------\u001b[0m",
      "\u001b[1;31mValueError\u001b[0m                                Traceback (most recent call last)",
      "\u001b[1;32m<ipython-input-39-d0d0507be1d9>\u001b[0m in \u001b[0;36m<module>\u001b[1;34m()\u001b[0m\n\u001b[0;32m      3\u001b[0m \u001b[1;33m\u001b[0m\u001b[0m\n\u001b[0;32m      4\u001b[0m     plt.bar(range(11), var_exp, alpha=0.5, align='center',\n\u001b[1;32m----> 5\u001b[1;33m             label='individual explained variance')\n\u001b[0m\u001b[0;32m      6\u001b[0m     plt.step(range(11), cum_var_exp, where='mid',\n\u001b[0;32m      7\u001b[0m              label='cumulative explained variance')\n",
      "\u001b[1;32mC:\\Users\\Harika Konagala\\Anaconda2\\lib\\site-packages\\matplotlib\\pyplot.pyc\u001b[0m in \u001b[0;36mbar\u001b[1;34m(left, height, width, bottom, hold, data, **kwargs)\u001b[0m\n\u001b[0;32m   2641\u001b[0m     \u001b[1;32mtry\u001b[0m\u001b[1;33m:\u001b[0m\u001b[1;33m\u001b[0m\u001b[0m\n\u001b[0;32m   2642\u001b[0m         ret = ax.bar(left, height, width=width, bottom=bottom, data=data,\n\u001b[1;32m-> 2643\u001b[1;33m                      **kwargs)\n\u001b[0m\u001b[0;32m   2644\u001b[0m     \u001b[1;32mfinally\u001b[0m\u001b[1;33m:\u001b[0m\u001b[1;33m\u001b[0m\u001b[0m\n\u001b[0;32m   2645\u001b[0m         \u001b[0max\u001b[0m\u001b[1;33m.\u001b[0m\u001b[0mhold\u001b[0m\u001b[1;33m(\u001b[0m\u001b[0mwashold\u001b[0m\u001b[1;33m)\u001b[0m\u001b[1;33m\u001b[0m\u001b[0m\n",
      "\u001b[1;32mC:\\Users\\Harika Konagala\\Anaconda2\\lib\\site-packages\\matplotlib\\__init__.pyc\u001b[0m in \u001b[0;36minner\u001b[1;34m(ax, *args, **kwargs)\u001b[0m\n\u001b[0;32m   1809\u001b[0m                     warnings.warn(msg % (label_namer, func.__name__),\n\u001b[0;32m   1810\u001b[0m                                   RuntimeWarning, stacklevel=2)\n\u001b[1;32m-> 1811\u001b[1;33m             \u001b[1;32mreturn\u001b[0m \u001b[0mfunc\u001b[0m\u001b[1;33m(\u001b[0m\u001b[0max\u001b[0m\u001b[1;33m,\u001b[0m \u001b[1;33m*\u001b[0m\u001b[0margs\u001b[0m\u001b[1;33m,\u001b[0m \u001b[1;33m**\u001b[0m\u001b[0mkwargs\u001b[0m\u001b[1;33m)\u001b[0m\u001b[1;33m\u001b[0m\u001b[0m\n\u001b[0m\u001b[0;32m   1812\u001b[0m         \u001b[0mpre_doc\u001b[0m \u001b[1;33m=\u001b[0m \u001b[0minner\u001b[0m\u001b[1;33m.\u001b[0m\u001b[0m__doc__\u001b[0m\u001b[1;33m\u001b[0m\u001b[0m\n\u001b[0;32m   1813\u001b[0m         \u001b[1;32mif\u001b[0m \u001b[0mpre_doc\u001b[0m \u001b[1;32mis\u001b[0m \u001b[0mNone\u001b[0m\u001b[1;33m:\u001b[0m\u001b[1;33m\u001b[0m\u001b[0m\n",
      "\u001b[1;32mC:\\Users\\Harika Konagala\\Anaconda2\\lib\\site-packages\\matplotlib\\axes\\_axes.pyc\u001b[0m in \u001b[0;36mbar\u001b[1;34m(self, left, height, width, bottom, **kwargs)\u001b[0m\n\u001b[0;32m   2078\u001b[0m         \u001b[1;32mif\u001b[0m \u001b[0mlen\u001b[0m\u001b[1;33m(\u001b[0m\u001b[0mheight\u001b[0m\u001b[1;33m)\u001b[0m \u001b[1;33m!=\u001b[0m \u001b[0mnbars\u001b[0m\u001b[1;33m:\u001b[0m\u001b[1;33m\u001b[0m\u001b[0m\n\u001b[0;32m   2079\u001b[0m             raise ValueError(\"incompatible sizes: argument 'height' \"\n\u001b[1;32m-> 2080\u001b[1;33m                               \"must be length %d or scalar\" % nbars)\n\u001b[0m\u001b[0;32m   2081\u001b[0m         \u001b[1;32mif\u001b[0m \u001b[0mlen\u001b[0m\u001b[1;33m(\u001b[0m\u001b[0mwidth\u001b[0m\u001b[1;33m)\u001b[0m \u001b[1;33m!=\u001b[0m \u001b[0mnbars\u001b[0m\u001b[1;33m:\u001b[0m\u001b[1;33m\u001b[0m\u001b[0m\n\u001b[0;32m   2082\u001b[0m             raise ValueError(\"incompatible sizes: argument 'width' \"\n",
      "\u001b[1;31mValueError\u001b[0m: incompatible sizes: argument 'height' must be length 11 or scalar"
     ]
    }
   ],
   "source": [
    "with plt.style.context('seaborn-whitegrid'):\n",
    "    plt.figure(figsize=(6, 4))\n",
    "\n",
    "    plt.bar(range(10), var_exp, alpha=0.5, align='center',\n",
    "            label='individual explained variance')\n",
    "    plt.step(range(10), cum_var_exp, where='mid',\n",
    "             label='cumulative explained variance')\n",
    "    plt.ylabel('Explained variance ratio')\n",
    "    plt.xlabel('Principal components')\n",
    "    plt.legend(loc='best')\n",
    "    plt.tight_layout()"
   ]
  },
  {
   "cell_type": "code",
   "execution_count": 40,
   "metadata": {
    "collapsed": false
   },
   "outputs": [
    {
     "data": {
      "text/plain": [
       "Index([u'Click', u'Impression', u'Depth', u'Position', u'#users', u'#ads',\n",
       "       u'Gender', u'Age', u'Tokenscore_query', u'Tokenscore_title',\n",
       "       u'Tokenscore_desc', u'Tokenscore_key'],\n",
       "      dtype='object')"
      ]
     },
     "execution_count": 40,
     "metadata": {},
     "output_type": "execute_result"
    }
   ],
   "source": [
    "train.columns"
   ]
  },
  {
   "cell_type": "code",
   "execution_count": 41,
   "metadata": {
    "collapsed": true
   },
   "outputs": [],
   "source": [
    "df=train.copy()"
   ]
  },
  {
   "cell_type": "code",
   "execution_count": 42,
   "metadata": {
    "collapsed": true
   },
   "outputs": [],
   "source": [
    "df['CTR'] = (df['Click']/df['Impression'])*100"
   ]
  },
  {
   "cell_type": "code",
   "execution_count": 67,
   "metadata": {
    "collapsed": false,
    "scrolled": true
   },
   "outputs": [
    {
     "data": {
      "text/plain": [
       "array([ 0,  1,  3,  2,  6,  7,  5,  4, 13, 25,  9, 17, 47, 24, 48, 43, 11,\n",
       "       34,  8, 63, 12, 31], dtype=int64)"
      ]
     },
     "execution_count": 67,
     "metadata": {},
     "output_type": "execute_result"
    }
   ],
   "source": [
    "df['Click'].unique()"
   ]
  },
  {
   "cell_type": "code",
   "execution_count": 68,
   "metadata": {
    "collapsed": true
   },
   "outputs": [],
   "source": [
    "df['Click']=df['Click'].replace([0,1,3,2,6,7,5,4,13,25,9,17,47,24,48,43,11,34,8,63,12,31],[0,1,1,1,1,1,1,1,1,1,1,1,1,1,1,1,1,1,1,1,1,1])"
   ]
  },
  {
   "cell_type": "code",
   "execution_count": 70,
   "metadata": {
    "collapsed": false
   },
   "outputs": [
    {
     "data": {
      "text/plain": [
       "0    212284\n",
       "1     18819\n",
       "Name: Click, dtype: int64"
      ]
     },
     "execution_count": 70,
     "metadata": {},
     "output_type": "execute_result"
    }
   ],
   "source": [
    "df['Click'].value_counts()"
   ]
  },
  {
   "cell_type": "code",
   "execution_count": 124,
   "metadata": {
    "collapsed": false
   },
   "outputs": [
    {
     "name": "stdout",
     "output_type": "stream",
     "text": [
      "Original dataset shape Counter({0: 212284, 1: 18819})\n",
      "Resampled dataset shape Counter({0: 212284, 1: 212284})\n"
     ]
    }
   ],
   "source": [
    "from collections import Counter\n",
    "from imblearn import under_sampling, over_sampling\n",
    "from imblearn.over_sampling import RandomOverSampler\n",
    "\n",
    "X = df.as_matrix(columns=train.columns[2:12])\n",
    "y_click = np.array(df['Click'])\n",
    "print('Original dataset shape {}'.format(Counter(y_click)))\n",
    "\n",
    "# Apply the random over-sampling\n",
    "ros = RandomOverSampler()\n",
    "X_ros, y_ros = ros.fit_sample(X, y_click)\n",
    "print('Resampled dataset shape {}'.format(Counter(y_ros)))"
   ]
  },
  {
   "cell_type": "code",
   "execution_count": null,
   "metadata": {
    "collapsed": true
   },
   "outputs": [],
   "source": []
  },
  {
   "cell_type": "code",
   "execution_count": null,
   "metadata": {
    "collapsed": true
   },
   "outputs": [],
   "source": []
  },
  {
   "cell_type": "code",
   "execution_count": 50,
   "metadata": {
    "collapsed": false
   },
   "outputs": [
    {
     "data": {
      "text/html": [
       "<div>\n",
       "<table border=\"1\" class=\"dataframe\">\n",
       "  <thead>\n",
       "    <tr style=\"text-align: right;\">\n",
       "      <th></th>\n",
       "      <th>Click</th>\n",
       "      <th>Impression</th>\n",
       "      <th>Depth</th>\n",
       "      <th>Position</th>\n",
       "      <th>#users</th>\n",
       "      <th>#ads</th>\n",
       "      <th>Gender</th>\n",
       "      <th>Age</th>\n",
       "      <th>Tokenscore_query</th>\n",
       "      <th>Tokenscore_title</th>\n",
       "      <th>Tokenscore_desc</th>\n",
       "      <th>Tokenscore_key</th>\n",
       "      <th>CTR</th>\n",
       "    </tr>\n",
       "  </thead>\n",
       "  <tbody>\n",
       "    <tr>\n",
       "      <th>497333</th>\n",
       "      <td>0</td>\n",
       "      <td>1</td>\n",
       "      <td>1</td>\n",
       "      <td>1</td>\n",
       "      <td>2</td>\n",
       "      <td>3</td>\n",
       "      <td>1</td>\n",
       "      <td>2</td>\n",
       "      <td>0</td>\n",
       "      <td>0</td>\n",
       "      <td>61</td>\n",
       "      <td>0</td>\n",
       "      <td>0.0</td>\n",
       "    </tr>\n",
       "    <tr>\n",
       "      <th>497334</th>\n",
       "      <td>0</td>\n",
       "      <td>1</td>\n",
       "      <td>1</td>\n",
       "      <td>1</td>\n",
       "      <td>1</td>\n",
       "      <td>1</td>\n",
       "      <td>0</td>\n",
       "      <td>3</td>\n",
       "      <td>0</td>\n",
       "      <td>0</td>\n",
       "      <td>0</td>\n",
       "      <td>0</td>\n",
       "      <td>0.0</td>\n",
       "    </tr>\n",
       "    <tr>\n",
       "      <th>497335</th>\n",
       "      <td>0</td>\n",
       "      <td>1</td>\n",
       "      <td>1</td>\n",
       "      <td>1</td>\n",
       "      <td>1</td>\n",
       "      <td>1</td>\n",
       "      <td>2</td>\n",
       "      <td>1</td>\n",
       "      <td>0</td>\n",
       "      <td>0</td>\n",
       "      <td>0</td>\n",
       "      <td>0</td>\n",
       "      <td>0.0</td>\n",
       "    </tr>\n",
       "    <tr>\n",
       "      <th>497336</th>\n",
       "      <td>0</td>\n",
       "      <td>1</td>\n",
       "      <td>1</td>\n",
       "      <td>1</td>\n",
       "      <td>1</td>\n",
       "      <td>1</td>\n",
       "      <td>1</td>\n",
       "      <td>4</td>\n",
       "      <td>35</td>\n",
       "      <td>291</td>\n",
       "      <td>104</td>\n",
       "      <td>33</td>\n",
       "      <td>0.0</td>\n",
       "    </tr>\n",
       "    <tr>\n",
       "      <th>497337</th>\n",
       "      <td>0</td>\n",
       "      <td>1</td>\n",
       "      <td>1</td>\n",
       "      <td>1</td>\n",
       "      <td>1</td>\n",
       "      <td>1</td>\n",
       "      <td>2</td>\n",
       "      <td>2</td>\n",
       "      <td>6</td>\n",
       "      <td>7</td>\n",
       "      <td>188</td>\n",
       "      <td>7</td>\n",
       "      <td>0.0</td>\n",
       "    </tr>\n",
       "  </tbody>\n",
       "</table>\n",
       "</div>"
      ],
      "text/plain": [
       "        Click  Impression  Depth  Position  #users  #ads  Gender  Age  \\\n",
       "497333      0           1      1         1       2     3       1    2   \n",
       "497334      0           1      1         1       1     1       0    3   \n",
       "497335      0           1      1         1       1     1       2    1   \n",
       "497336      0           1      1         1       1     1       1    4   \n",
       "497337      0           1      1         1       1     1       2    2   \n",
       "\n",
       "        Tokenscore_query  Tokenscore_title  Tokenscore_desc  Tokenscore_key  \\\n",
       "497333                 0                 0               61               0   \n",
       "497334                 0                 0                0               0   \n",
       "497335                 0                 0                0               0   \n",
       "497336                35               291              104              33   \n",
       "497337                 6                 7              188               7   \n",
       "\n",
       "        CTR  \n",
       "497333  0.0  \n",
       "497334  0.0  \n",
       "497335  0.0  \n",
       "497336  0.0  \n",
       "497337  0.0  "
      ]
     },
     "execution_count": 50,
     "metadata": {},
     "output_type": "execute_result"
    }
   ],
   "source": [
    "df.tail(5)"
   ]
  },
  {
   "cell_type": "code",
   "execution_count": 71,
   "metadata": {
    "collapsed": true
   },
   "outputs": [],
   "source": [
    "#pca"
   ]
  },
  {
   "cell_type": "code",
   "execution_count": 72,
   "metadata": {
    "collapsed": false
   },
   "outputs": [],
   "source": [
    "X = df.ix[2:].values\n",
    "y = df.ix[:1].values"
   ]
  },
  {
   "cell_type": "code",
   "execution_count": 73,
   "metadata": {
    "collapsed": false
   },
   "outputs": [],
   "source": [
    "import plotly.plotly as py\n",
    "from plotly.graph_objs import *\n",
    "import plotly.tools as tls"
   ]
  },
  {
   "cell_type": "code",
   "execution_count": 74,
   "metadata": {
    "collapsed": true
   },
   "outputs": [],
   "source": [
    "from sklearn.preprocessing import StandardScaler\n",
    "X_std = StandardScaler().fit_transform(X)"
   ]
  },
  {
   "cell_type": "code",
   "execution_count": 75,
   "metadata": {
    "collapsed": false,
    "scrolled": true
   },
   "outputs": [
    {
     "name": "stdout",
     "output_type": "stream",
     "text": [
      "Covariance matrix \n",
      "[[  1.00000433e+00   1.87967722e-02  -2.14690666e-02  -7.72293542e-02\n",
      "    1.87166581e-02   1.04984873e-02  -2.78607317e-03   3.58576265e-04\n",
      "   -3.58778322e-02  -2.07721756e-02  -1.31683962e-02  -1.97885685e-02\n",
      "    9.65033187e-01]\n",
      " [  1.87967722e-02   1.00000433e+00  -4.59442068e-02  -3.11066421e-02\n",
      "    4.22008923e-02   3.45205997e-02  -1.20973052e-02  -1.25719528e-02\n",
      "   -1.94284339e-02  -1.35551884e-02   4.61521332e-03  -1.46342252e-02\n",
      "   -1.99202383e-02]\n",
      " [ -2.14690666e-02  -4.59442068e-02   1.00000433e+00   5.56123773e-01\n",
      "   -1.28920177e-01  -1.17568453e-01   1.21641227e-02   2.56319068e-02\n",
      "   -6.42054248e-02  -7.14559935e-02  -4.38488007e-02  -1.19146183e-01\n",
      "   -1.24874266e-02]\n",
      " [ -7.72293542e-02  -3.11066421e-02   5.56123773e-01   1.00000433e+00\n",
      "   -4.37561016e-02  -3.77967958e-02   7.82158623e-03   1.45771739e-02\n",
      "   -3.48600651e-02  -4.63692645e-02  -3.30783438e-02  -6.40434366e-02\n",
      "   -7.15454204e-02]\n",
      " [  1.87166581e-02   4.22008923e-02  -1.28920177e-01  -4.37561016e-02\n",
      "    1.00000433e+00   8.31582158e-01  -1.07762922e-02  -2.17039576e-02\n",
      "    6.87300362e-02   1.92842136e-02  -3.02881962e-02   1.70861669e-01\n",
      "    9.43057445e-03]\n",
      " [  1.04984873e-02   3.45205997e-02  -1.17568453e-01  -3.77967958e-02\n",
      "    8.31582158e-01   1.00000433e+00  -3.48432168e-03  -1.90186109e-02\n",
      "    5.90411173e-02   1.05829022e-02  -6.57484557e-02   1.77122690e-01\n",
      "    3.87831619e-03]\n",
      " [ -2.78607317e-03  -1.20973052e-02   1.21641227e-02   7.82158623e-03\n",
      "   -1.07762922e-02  -3.48432168e-03   1.00000433e+00   1.05620461e-01\n",
      "    5.95169178e-03   3.12996956e-03  -9.55708269e-03  -5.17693661e-03\n",
      "   -2.76922838e-03]\n",
      " [  3.58576265e-04  -1.25719528e-02   2.56319068e-02   1.45771739e-02\n",
      "   -2.17039576e-02  -1.90186109e-02   1.05620461e-01   1.00000433e+00\n",
      "    9.17636221e-03  -6.67583590e-03  -1.22065492e-02  -1.08317024e-02\n",
      "    2.35837783e-03]\n",
      " [ -3.58778322e-02  -1.94284339e-02  -6.42054248e-02  -3.48600651e-02\n",
      "    6.87300362e-02   5.90411173e-02   5.95169178e-03   9.17636221e-03\n",
      "    1.00000433e+00  -3.47965658e-02  -4.57125337e-02  -2.76736472e-02\n",
      "   -3.37047563e-02]\n",
      " [ -2.07721756e-02  -1.35551884e-02  -7.14559935e-02  -4.63692645e-02\n",
      "    1.92842136e-02   1.05829022e-02   3.12996956e-03  -6.67583590e-03\n",
      "   -3.47965658e-02   1.00000433e+00   2.85214176e-01   2.19935310e-01\n",
      "   -2.01131665e-02]\n",
      " [ -1.31683962e-02   4.61521332e-03  -4.38488007e-02  -3.30783438e-02\n",
      "   -3.02881962e-02  -6.57484557e-02  -9.55708269e-03  -1.22065492e-02\n",
      "   -4.57125337e-02   2.85214176e-01   1.00000433e+00   6.12818345e-02\n",
      "   -1.69078269e-02]\n",
      " [ -1.97885685e-02  -1.46342252e-02  -1.19146183e-01  -6.40434366e-02\n",
      "    1.70861669e-01   1.77122690e-01  -5.17693661e-03  -1.08317024e-02\n",
      "   -2.76736472e-02   2.19935310e-01   6.12818345e-02   1.00000433e+00\n",
      "   -1.76506803e-02]\n",
      " [  9.65033187e-01  -1.99202383e-02  -1.24874266e-02  -7.15454204e-02\n",
      "    9.43057445e-03   3.87831619e-03  -2.76922838e-03   2.35837783e-03\n",
      "   -3.37047563e-02  -2.01131665e-02  -1.69078269e-02  -1.76506803e-02\n",
      "    1.00000433e+00]]\n"
     ]
    }
   ],
   "source": [
    "mean_vec = np.mean(X_std, axis=0)\n",
    "cov_mat = (X_std - mean_vec).T.dot((X_std - mean_vec)) / (X_std.shape[0]-1)\n",
    "print('Covariance matrix \\n%s' %cov_mat)"
   ]
  },
  {
   "cell_type": "code",
   "execution_count": 76,
   "metadata": {
    "collapsed": false,
    "scrolled": true
   },
   "outputs": [
    {
     "name": "stdout",
     "output_type": "stream",
     "text": [
      "Eigenvectors \n",
      "[[  3.77717662e-01   5.87081620e-01  -7.06939824e-01  -2.38796995e-03\n",
      "    6.06642941e-02  -2.64645859e-02  -7.33613896e-02  -4.98715253e-03\n",
      "    1.28689009e-03  -3.24691121e-03  -4.78326259e-02  -2.82244859e-02\n",
      "    3.29331031e-03]\n",
      " [  5.36386043e-02  -2.99163760e-02   2.77380354e-02   6.07692786e-03\n",
      "   -1.99645363e-02   1.72087696e-02   8.75967582e-02   4.31198278e-03\n",
      "   -1.73214535e-01   8.37507274e-01  -4.23022682e-01  -2.76419475e-01\n",
      "   -1.60452101e-02]\n",
      " [ -3.14564883e-01   1.25931087e-01  -4.55677108e-03  -1.02785221e-02\n",
      "    4.98548611e-01   7.14268716e-01  -3.41826599e-01  -1.32479334e-03\n",
      "   -2.41867082e-02  -3.97324815e-03  -7.82308677e-02  -5.25344122e-02\n",
      "    2.33902369e-03]\n",
      " [ -2.80329848e-01   3.32775715e-02  -5.89379208e-04   3.60733856e-03\n",
      "    5.22022756e-01  -6.94412339e-01  -3.76358719e-01  -2.96660069e-02\n",
      "   -3.22544840e-02  -9.96092473e-03  -1.15004401e-01  -9.29834093e-02\n",
      "    6.38032504e-03]\n",
      " [  4.93578552e-01  -3.42153681e-01   8.30157709e-03  -7.06055394e-01\n",
      "    3.14464348e-01   2.90428534e-02  -6.37210100e-02   2.22147786e-02\n",
      "    3.04060942e-04   2.48968781e-02  -2.31872500e-02   1.87746743e-01\n",
      "    6.02688817e-03]\n",
      " [  4.87804942e-01  -3.44763761e-01  -3.08856238e-03   7.07164637e-01\n",
      "    3.30693377e-01   4.24585876e-02  -5.38663703e-02   4.30137484e-02\n",
      "    7.46488724e-03   2.33026337e-02   8.09468865e-03   1.62643889e-01\n",
      "    7.93847470e-03]\n",
      " [ -1.91596480e-02   6.94296862e-03   6.02443061e-04  -5.58299328e-03\n",
      "    2.31450328e-02  -2.64713440e-03   1.43624557e-04  -2.44558943e-02\n",
      "    6.89933967e-01   1.64414528e-01   3.46010524e-02  -3.45999522e-02\n",
      "    7.02123175e-01]\n",
      " [ -3.46943506e-02   2.35265414e-02  -8.96948922e-04  -9.82274097e-04\n",
      "    3.48114435e-02  -1.02130058e-02   7.48981007e-03  -4.35908563e-03\n",
      "    6.85690551e-01   1.47582224e-01  -1.84540843e-02   7.64708852e-02\n",
      "   -7.06193599e-01]\n",
      " [  5.42258732e-02  -8.70998833e-02  -1.74177862e-03   9.32739624e-03\n",
      "    3.61768227e-02   3.18458541e-02   2.52264309e-01  -4.89008668e-02\n",
      "    1.27861968e-01  -4.85229130e-01  -7.71503872e-01  -2.71787799e-01\n",
      "    1.21987845e-02]\n",
      " [  7.65728306e-02  -9.39646186e-02  -8.71261425e-04  -1.22329136e-03\n",
      "   -3.45937308e-01   7.53933453e-03  -5.52084565e-01   7.24123598e-01\n",
      "    5.49607903e-02  -5.58652473e-02  -1.52647694e-01  -8.35173322e-02\n",
      "    2.25898474e-03]\n",
      " [ -1.57368514e-03  -2.71068511e-02   2.76220138e-03   3.13205754e-02\n",
      "   -3.41825142e-01   1.33870648e-02  -4.77296701e-01  -5.39948153e-01\n",
      "   -1.28821878e-02   3.67106478e-02  -3.33862356e-01   4.97457807e-01\n",
      "    3.81100904e-02]\n",
      " [  2.17754916e-01  -1.85940671e-01  -2.68679315e-03  -8.22664900e-03\n",
      "   -1.51769502e-01   4.55484562e-02  -3.45040540e-01  -4.21672728e-01\n",
      "    5.01999914e-02  -8.43702542e-02   2.57502049e-01  -7.16749065e-01\n",
      "   -7.93067061e-02]\n",
      " [  3.70875474e-01   5.90945680e-01   7.06645110e-01   8.56599334e-03\n",
      "    6.33208204e-02  -2.30820432e-02  -7.83311599e-02  -3.96983290e-03\n",
      "    8.83913150e-03  -3.80296471e-02  -3.13988905e-02  -2.46130447e-02\n",
      "    1.99619001e-03]]\n",
      "\n",
      "Eigenvalues \n",
      "[ 2.04283178  1.95987957  0.03412431  0.1673926   1.53426565  0.4347538\n",
      "  1.3239687   0.66496677  1.1082912   1.01288574  0.95801732  0.86449257\n",
      "  0.89418625]\n"
     ]
    }
   ],
   "source": [
    "cov_mat = np.cov(X_std.T)\n",
    "\n",
    "eig_vals, eig_vecs = np.linalg.eig(cov_mat)\n",
    "\n",
    "print('Eigenvectors \\n%s' %eig_vecs)\n",
    "print('\\nEigenvalues \\n%s' %eig_vals)"
   ]
  },
  {
   "cell_type": "code",
   "execution_count": 77,
   "metadata": {
    "collapsed": false
   },
   "outputs": [
    {
     "name": "stdout",
     "output_type": "stream",
     "text": [
      "Eigenvalues in descending order:\n",
      "2.04283178426\n",
      "1.95987956928\n",
      "1.53426564762\n",
      "1.32396869917\n",
      "1.10829120418\n",
      "1.01288573829\n",
      "0.958017319005\n",
      "0.894186248085\n",
      "0.864492565044\n",
      "0.664966768158\n",
      "0.434753803491\n",
      "0.167392597876\n",
      "0.0341243082544\n"
     ]
    }
   ],
   "source": [
    "# Make a list of (eigenvalue, eigenvector) tuples\n",
    "eig_pairs = [(np.abs(eig_vals[i]), eig_vecs[:,i]) for i in range(len(eig_vals))]\n",
    "\n",
    "# Sort the (eigenvalue, eigenvector) tuples from high to low\n",
    "eig_pairs.sort()\n",
    "eig_pairs.reverse()\n",
    "\n",
    "# Visually confirm that the list is correctly sorted by decreasing eigenvalues\n",
    "print('Eigenvalues in descending order:')\n",
    "for i in eig_pairs:\n",
    "    print(i[0])"
   ]
  },
  {
   "cell_type": "code",
   "execution_count": 78,
   "metadata": {
    "collapsed": false
   },
   "outputs": [
    {
     "name": "stdout",
     "output_type": "stream",
     "text": [
      "Aw, snap! We don't have an account for ''. Want to try again? You can authenticate with your email address or username. Sign in is not case sensitive.\n",
      "\n",
      "Don't have an account? plot.ly\n",
      "\n",
      "Questions? support@plot.ly\n"
     ]
    },
    {
     "ename": "IndexError",
     "evalue": "list index out of range",
     "output_type": "error",
     "traceback": [
      "\u001b[1;31m---------------------------------------------------------------------------\u001b[0m",
      "\u001b[1;31mIndexError\u001b[0m                                Traceback (most recent call last)",
      "\u001b[1;32m<ipython-input-78-793568a705a5>\u001b[0m in \u001b[0;36m<module>\u001b[1;34m()\u001b[0m\n\u001b[0;32m     20\u001b[0m \u001b[1;33m\u001b[0m\u001b[0m\n\u001b[0;32m     21\u001b[0m \u001b[0mfig\u001b[0m \u001b[1;33m=\u001b[0m \u001b[0mFigure\u001b[0m\u001b[1;33m(\u001b[0m\u001b[0mdata\u001b[0m\u001b[1;33m=\u001b[0m\u001b[0mdata\u001b[0m\u001b[1;33m,\u001b[0m \u001b[0mlayout\u001b[0m\u001b[1;33m=\u001b[0m\u001b[0mlayout\u001b[0m\u001b[1;33m)\u001b[0m\u001b[1;33m\u001b[0m\u001b[0m\n\u001b[1;32m---> 22\u001b[1;33m \u001b[0mpy\u001b[0m\u001b[1;33m.\u001b[0m\u001b[0miplot\u001b[0m\u001b[1;33m(\u001b[0m\u001b[0mfig\u001b[0m\u001b[1;33m)\u001b[0m\u001b[1;33m\u001b[0m\u001b[0m\n\u001b[0m",
      "\u001b[1;32mC:\\Users\\Harika Konagala\\Anaconda2\\lib\\site-packages\\plotly\\plotly\\plotly.pyc\u001b[0m in \u001b[0;36miplot\u001b[1;34m(figure_or_data, **plot_options)\u001b[0m\n\u001b[0;32m    107\u001b[0m     \u001b[0mres\u001b[0m \u001b[1;33m=\u001b[0m \u001b[0mplot\u001b[0m\u001b[1;33m(\u001b[0m\u001b[0mfigure_or_data\u001b[0m\u001b[1;33m,\u001b[0m \u001b[1;33m**\u001b[0m\u001b[0mplot_options\u001b[0m\u001b[1;33m)\u001b[0m\u001b[1;33m\u001b[0m\u001b[0m\n\u001b[0;32m    108\u001b[0m     \u001b[0murlsplit\u001b[0m \u001b[1;33m=\u001b[0m \u001b[0mres\u001b[0m\u001b[1;33m.\u001b[0m\u001b[0msplit\u001b[0m\u001b[1;33m(\u001b[0m\u001b[1;34m'/'\u001b[0m\u001b[1;33m)\u001b[0m\u001b[1;33m\u001b[0m\u001b[0m\n\u001b[1;32m--> 109\u001b[1;33m     \u001b[0musername\u001b[0m\u001b[1;33m,\u001b[0m \u001b[0mplot_id\u001b[0m \u001b[1;33m=\u001b[0m \u001b[0murlsplit\u001b[0m\u001b[1;33m[\u001b[0m\u001b[1;33m-\u001b[0m\u001b[1;36m2\u001b[0m\u001b[1;33m]\u001b[0m\u001b[1;33m[\u001b[0m\u001b[1;36m1\u001b[0m\u001b[1;33m:\u001b[0m\u001b[1;33m]\u001b[0m\u001b[1;33m,\u001b[0m \u001b[0murlsplit\u001b[0m\u001b[1;33m[\u001b[0m\u001b[1;33m-\u001b[0m\u001b[1;36m1\u001b[0m\u001b[1;33m]\u001b[0m  \u001b[1;31m# TODO: HACKY!\u001b[0m\u001b[1;33m\u001b[0m\u001b[0m\n\u001b[0m\u001b[0;32m    110\u001b[0m \u001b[1;33m\u001b[0m\u001b[0m\n\u001b[0;32m    111\u001b[0m     \u001b[0membed_options\u001b[0m \u001b[1;33m=\u001b[0m \u001b[0mdict\u001b[0m\u001b[1;33m(\u001b[0m\u001b[1;33m)\u001b[0m\u001b[1;33m\u001b[0m\u001b[0m\n",
      "\u001b[1;31mIndexError\u001b[0m: list index out of range"
     ]
    }
   ],
   "source": [
    "tot = sum(eig_vals)\n",
    "var_exp = [(i / tot)*100 for i in sorted(eig_vals, reverse=True)]\n",
    "cum_var_exp = np.cumsum(var_exp)\n",
    "\n",
    "trace1 = Bar(\n",
    "        x=['PC %s' %i for i in range(0,14)],\n",
    "        y=var_exp,\n",
    "        showlegend=False)\n",
    "\n",
    "trace2 = Scatter(\n",
    "        x=['PC %s' %i for i in range(0,14)], \n",
    "        y=cum_var_exp,\n",
    "        name='cumulative explained variance')\n",
    "\n",
    "data = Data([trace1, trace2])\n",
    "\n",
    "layout=Layout(\n",
    "        yaxis=YAxis(title='Explained variance in percent'),\n",
    "        title='Explained variance by different principal components')\n",
    "\n",
    "fig = Figure(data=data, layout=layout)\n",
    "py.iplot(fig)"
   ]
  },
  {
   "cell_type": "code",
   "execution_count": 105,
   "metadata": {
    "collapsed": false,
    "scrolled": true
   },
   "outputs": [
    {
     "data": {
      "text/plain": [
       "array([0, 0, 0, ..., 0, 0, 0], dtype=int64)"
      ]
     },
     "execution_count": 105,
     "metadata": {},
     "output_type": "execute_result"
    }
   ],
   "source": [
    "df.ix[:,0].values"
   ]
  },
  {
   "cell_type": "code",
   "execution_count": 100,
   "metadata": {
    "collapsed": false,
    "scrolled": true
   },
   "outputs": [],
   "source": [
    "#X = df.ix[:,0:4].values\n",
    "#y = df.ix[:,4].values\n",
    "X=df.ix[:,2:12].values\n",
    "y=df.ix[:,0].values"
   ]
  },
  {
   "cell_type": "code",
   "execution_count": 101,
   "metadata": {
    "collapsed": true
   },
   "outputs": [],
   "source": [
    "from sklearn.decomposition import PCA as sklearnPCA\n",
    "sklearn_pca = sklearnPCA(n_components=2)\n",
    "Y_sklearn = sklearn_pca.fit_transform(X_std)"
   ]
  },
  {
   "cell_type": "code",
   "execution_count": 114,
   "metadata": {
    "collapsed": false
   },
   "outputs": [
    {
     "data": {
      "text/plain": [
       "462202"
      ]
     },
     "execution_count": 114,
     "metadata": {},
     "output_type": "execute_result"
    }
   ],
   "source": [
    "Y_sklearn.size"
   ]
  },
  {
   "cell_type": "code",
   "execution_count": 116,
   "metadata": {
    "collapsed": false
   },
   "outputs": [
    {
     "ename": "IndexError",
     "evalue": "index 101 is out of bounds for axis 0 with size 100",
     "output_type": "error",
     "traceback": [
      "\u001b[1;31m---------------------------------------------------------------------------\u001b[0m",
      "\u001b[1;31mIndexError\u001b[0m                                Traceback (most recent call last)",
      "\u001b[1;32m<ipython-input-116-09fbeb71f149>\u001b[0m in \u001b[0;36m<module>\u001b[1;34m()\u001b[0m\n\u001b[0;32m      4\u001b[0m \u001b[1;33m\u001b[0m\u001b[0m\n\u001b[0;32m      5\u001b[0m     trace = Scatter(\n\u001b[1;32m----> 6\u001b[1;33m         \u001b[0mx\u001b[0m\u001b[1;33m=\u001b[0m\u001b[0mY_sklearn\u001b[0m\u001b[1;33m[\u001b[0m\u001b[1;33m:\u001b[0m\u001b[1;36m100\u001b[0m\u001b[1;33m]\u001b[0m\u001b[1;33m[\u001b[0m\u001b[0my\u001b[0m\u001b[1;33m==\u001b[0m\u001b[0mname\u001b[0m\u001b[1;33m,\u001b[0m\u001b[1;36m0\u001b[0m\u001b[1;33m]\u001b[0m\u001b[1;33m,\u001b[0m\u001b[1;33m\u001b[0m\u001b[0m\n\u001b[0m\u001b[0;32m      7\u001b[0m         \u001b[0my\u001b[0m\u001b[1;33m=\u001b[0m\u001b[0mY_sklearn\u001b[0m\u001b[1;33m[\u001b[0m\u001b[1;33m:\u001b[0m\u001b[1;36m100\u001b[0m\u001b[1;33m]\u001b[0m\u001b[1;33m[\u001b[0m\u001b[0my\u001b[0m\u001b[1;33m==\u001b[0m\u001b[0mname\u001b[0m\u001b[1;33m,\u001b[0m\u001b[1;36m1\u001b[0m\u001b[1;33m]\u001b[0m\u001b[1;33m,\u001b[0m\u001b[1;33m\u001b[0m\u001b[0m\n\u001b[0;32m      8\u001b[0m         \u001b[0mmode\u001b[0m\u001b[1;33m=\u001b[0m\u001b[1;34m'markers'\u001b[0m\u001b[1;33m,\u001b[0m\u001b[1;33m\u001b[0m\u001b[0m\n",
      "\u001b[1;31mIndexError\u001b[0m: index 101 is out of bounds for axis 0 with size 100"
     ]
    }
   ],
   "source": [
    "traces = []\n",
    "\n",
    "for name in (0,1):\n",
    "\n",
    "    trace = Scatter(\n",
    "        x=Y_sklearn[:100][y==name,0],\n",
    "        y=Y_sklearn[:100][y==name,1],\n",
    "        mode='markers',\n",
    "        name=name,\n",
    "        marker=Marker(\n",
    "            size=12,\n",
    "            line=Line(\n",
    "                color='rgba(217, 217, 217, 0.14)',\n",
    "                width=0.5),\n",
    "            opacity=0.8))\n",
    "    traces.append(trace)\n",
    "\n",
    "\n",
    "data = Data(traces)\n",
    "layout = Layout(xaxis=XAxis(title='PC1', showline=False),\n",
    "                yaxis=YAxis(title='PC2', showline=False))\n",
    "fig = Figure(data=data, layout=layout)\n",
    "py.iplot(fig)"
   ]
  },
  {
   "cell_type": "code",
   "execution_count": 130,
   "metadata": {
    "collapsed": false
   },
   "outputs": [
    {
     "name": "stdout",
     "output_type": "stream",
     "text": [
      "(424568L, 2L)\n",
      "explained variance ratio (first two components): [ 0.99616931  0.00339135]\n"
     ]
    }
   ],
   "source": [
    "from sklearn.decomposition import PCA\n",
    "from sklearn.discriminant_analysis import LinearDiscriminantAnalysis\n",
    "#X=df.ix[:,2:12].values\n",
    "#y=df.ix[:,0].values\n",
    "X = df.as_matrix(columns=df.columns[2:12])\n",
    "y = np.array(df['Click']==0)\n",
    "#print('Original dataset shape {}'.format(Counter(y)))\n",
    "\n",
    "# Apply the random over-sampling\n",
    "ros = RandomOverSampler()\n",
    "X_ros, y_ros = ros.fit_sample(X, y)\n",
    "#print('Resampled dataset shape {}'.format(Counter(y_ros)))\n",
    "target_names = ['clicked','not-clicked']\n",
    "\n",
    "pca = PCA(n_components=2)\n",
    "X_r = pca.fit(X_ros).transform(X_ros)\n",
    "print X_r.shape\n",
    "\n",
    "\n",
    "# Percentage of variance explained for each components\n",
    "print('explained variance ratio (first two components): %s'\n",
    "      % str(pca.explained_variance_ratio_))\n",
    "\n",
    "plt.figure()\n",
    "colors = ['navy', 'cyan']\n",
    "lw = 2\n",
    "\n",
    "for color, i, target_name in zip(colors, [0, 1], target_names):\n",
    "    plt.scatter(X_r[y == i, 0], X_r[y == i, 1], color=color, alpha=.8, lw=lw,\n",
    "                label=target_name)\n",
    "plt.legend(loc='best', shadow=False, scatterpoints=1)\n",
    "plt.title('PCA of CTR dataset')\n",
    "\n",
    "plt.figure()\n",
    "\n",
    "plt.show()\n"
   ]
  },
  {
   "cell_type": "code",
   "execution_count": 128,
   "metadata": {
    "collapsed": false
   },
   "outputs": [
    {
     "data": {
      "text/plain": [
       "array([0, 0, 0, ..., 0, 0, 0], dtype=int64)"
      ]
     },
     "execution_count": 128,
     "metadata": {},
     "output_type": "execute_result"
    }
   ],
   "source": [
    "df.ix[:,0].values"
   ]
  },
  {
   "cell_type": "code",
   "execution_count": null,
   "metadata": {
    "collapsed": true
   },
   "outputs": [],
   "source": []
  }
 ],
 "metadata": {
  "kernelspec": {
   "display_name": "Python [Root]",
   "language": "python",
   "name": "Python [Root]"
  },
  "language_info": {
   "codemirror_mode": {
    "name": "ipython",
    "version": 2
   },
   "file_extension": ".py",
   "mimetype": "text/x-python",
   "name": "python",
   "nbconvert_exporter": "python",
   "pygments_lexer": "ipython2",
   "version": "2.7.12"
  }
 },
 "nbformat": 4,
 "nbformat_minor": 1
}
