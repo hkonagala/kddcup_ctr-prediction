{
 "cells": [
  {
   "cell_type": "code",
   "execution_count": 1,
   "metadata": {
    "collapsed": true
   },
   "outputs": [],
   "source": [
    "import os\n",
    "import numpy as np\n",
    "import pandas as pd\n",
    "import csv\n",
    "from io import StringIO"
   ]
  },
  {
   "cell_type": "code",
   "execution_count": 313,
   "metadata": {
    "collapsed": false
   },
   "outputs": [],
   "source": [
    "trainload = pd.read_csv(\"C:/Users/Harika Konagala/Desktop/kddcup/train/track2/training.txt\",sep=\"\\s+\",names=['Click','Impression','DisplayURL','AdID','AdvertiserID','Depth','Position','QueryID','KeywordID','TitleID','DescriptionID','UserID'],nrows=99999)"
   ]
  },
  {
   "cell_type": "code",
   "execution_count": 90,
   "metadata": {
    "collapsed": true
   },
   "outputs": [],
   "source": [
    "user = pd.read_csv(\"C:/Users/Harika Konagala/Desktop/kddcup/train/track2/userid_profile.txt\",sep=\"\\s+\",names=['UserID','Gender','Age'])"
   ]
  },
  {
   "cell_type": "code",
   "execution_count": 314,
   "metadata": {
    "collapsed": true
   },
   "outputs": [],
   "source": [
    "traincopy=trainload.copy()"
   ]
  },
  {
   "cell_type": "code",
   "execution_count": 315,
   "metadata": {
    "collapsed": false
   },
   "outputs": [
    {
     "data": {
      "text/plain": [
       "99999"
      ]
     },
     "execution_count": 315,
     "metadata": {},
     "output_type": "execute_result"
    }
   ],
   "source": [
    "len(traincopy)"
   ]
  },
  {
   "cell_type": "code",
   "execution_count": 316,
   "metadata": {
    "collapsed": true
   },
   "outputs": [],
   "source": [
    "ad_user = traincopy.groupby(['AdvertiserID'])['UserID'].nunique().reset_index()"
   ]
  },
  {
   "cell_type": "code",
   "execution_count": 317,
   "metadata": {
    "collapsed": false
   },
   "outputs": [
    {
     "data": {
      "text/html": [
       "<div>\n",
       "<table border=\"1\" class=\"dataframe\">\n",
       "  <thead>\n",
       "    <tr style=\"text-align: right;\">\n",
       "      <th></th>\n",
       "      <th>AdvertiserID</th>\n",
       "      <th>UserID</th>\n",
       "    </tr>\n",
       "  </thead>\n",
       "  <tbody>\n",
       "    <tr>\n",
       "      <th>0</th>\n",
       "      <td>81</td>\n",
       "      <td>3</td>\n",
       "    </tr>\n",
       "    <tr>\n",
       "      <th>1</th>\n",
       "      <td>82</td>\n",
       "      <td>56</td>\n",
       "    </tr>\n",
       "  </tbody>\n",
       "</table>\n",
       "</div>"
      ],
      "text/plain": [
       "   AdvertiserID  UserID\n",
       "0            81       3\n",
       "1            82      56"
      ]
     },
     "execution_count": 317,
     "metadata": {},
     "output_type": "execute_result"
    }
   ],
   "source": [
    "ad_user.head(2)"
   ]
  },
  {
   "cell_type": "code",
   "execution_count": 318,
   "metadata": {
    "collapsed": true
   },
   "outputs": [],
   "source": [
    "ad_ads = traincopy.groupby(['AdvertiserID'])['AdID'].nunique().reset_index()"
   ]
  },
  {
   "cell_type": "code",
   "execution_count": 319,
   "metadata": {
    "collapsed": false
   },
   "outputs": [
    {
     "data": {
      "text/html": [
       "<div>\n",
       "<table border=\"1\" class=\"dataframe\">\n",
       "  <thead>\n",
       "    <tr style=\"text-align: right;\">\n",
       "      <th></th>\n",
       "      <th>AdvertiserID</th>\n",
       "      <th>AdID</th>\n",
       "    </tr>\n",
       "  </thead>\n",
       "  <tbody>\n",
       "    <tr>\n",
       "      <th>0</th>\n",
       "      <td>81</td>\n",
       "      <td>1</td>\n",
       "    </tr>\n",
       "    <tr>\n",
       "      <th>1</th>\n",
       "      <td>82</td>\n",
       "      <td>1</td>\n",
       "    </tr>\n",
       "  </tbody>\n",
       "</table>\n",
       "</div>"
      ],
      "text/plain": [
       "   AdvertiserID  AdID\n",
       "0            81     1\n",
       "1            82     1"
      ]
     },
     "execution_count": 319,
     "metadata": {},
     "output_type": "execute_result"
    }
   ],
   "source": [
    "ad_ads.head(2)"
   ]
  },
  {
   "cell_type": "code",
   "execution_count": 320,
   "metadata": {
    "collapsed": false
   },
   "outputs": [
    {
     "data": {
      "text/html": [
       "<div>\n",
       "<table border=\"1\" class=\"dataframe\">\n",
       "  <thead>\n",
       "    <tr style=\"text-align: right;\">\n",
       "      <th></th>\n",
       "      <th>Click</th>\n",
       "      <th>Impression</th>\n",
       "      <th>DisplayURL</th>\n",
       "      <th>AdID</th>\n",
       "      <th>AdvertiserID</th>\n",
       "      <th>Depth</th>\n",
       "      <th>Position</th>\n",
       "      <th>QueryID</th>\n",
       "      <th>KeywordID</th>\n",
       "      <th>TitleID</th>\n",
       "      <th>DescriptionID</th>\n",
       "      <th>UserID</th>\n",
       "    </tr>\n",
       "  </thead>\n",
       "  <tbody>\n",
       "    <tr>\n",
       "      <th>1522</th>\n",
       "      <td>0</td>\n",
       "      <td>1</td>\n",
       "      <td>1735141127062751049</td>\n",
       "      <td>22199609</td>\n",
       "      <td>81</td>\n",
       "      <td>1</td>\n",
       "      <td>1</td>\n",
       "      <td>34587</td>\n",
       "      <td>331</td>\n",
       "      <td>63</td>\n",
       "      <td>80</td>\n",
       "      <td>935030</td>\n",
       "    </tr>\n",
       "    <tr>\n",
       "      <th>14060</th>\n",
       "      <td>0</td>\n",
       "      <td>1</td>\n",
       "      <td>1735141127062751049</td>\n",
       "      <td>22199609</td>\n",
       "      <td>81</td>\n",
       "      <td>1</td>\n",
       "      <td>1</td>\n",
       "      <td>222011</td>\n",
       "      <td>331</td>\n",
       "      <td>63</td>\n",
       "      <td>80</td>\n",
       "      <td>327633</td>\n",
       "    </tr>\n",
       "    <tr>\n",
       "      <th>51016</th>\n",
       "      <td>0</td>\n",
       "      <td>1</td>\n",
       "      <td>1735141127062751049</td>\n",
       "      <td>22199609</td>\n",
       "      <td>81</td>\n",
       "      <td>1</td>\n",
       "      <td>1</td>\n",
       "      <td>9588924</td>\n",
       "      <td>331</td>\n",
       "      <td>63</td>\n",
       "      <td>80</td>\n",
       "      <td>817448</td>\n",
       "    </tr>\n",
       "  </tbody>\n",
       "</table>\n",
       "</div>"
      ],
      "text/plain": [
       "       Click  Impression           DisplayURL      AdID  AdvertiserID  Depth  \\\n",
       "1522       0           1  1735141127062751049  22199609            81      1   \n",
       "14060      0           1  1735141127062751049  22199609            81      1   \n",
       "51016      0           1  1735141127062751049  22199609            81      1   \n",
       "\n",
       "       Position  QueryID  KeywordID  TitleID  DescriptionID  UserID  \n",
       "1522          1    34587        331       63             80  935030  \n",
       "14060         1   222011        331       63             80  327633  \n",
       "51016         1  9588924        331       63             80  817448  "
      ]
     },
     "execution_count": 320,
     "metadata": {},
     "output_type": "execute_result"
    }
   ],
   "source": [
    "traincopy[traincopy['AdvertiserID']==81]"
   ]
  },
  {
   "cell_type": "code",
   "execution_count": 321,
   "metadata": {
    "collapsed": true
   },
   "outputs": [],
   "source": [
    "ad_user=ad_user.rename(columns = {'UserID':'#users'})"
   ]
  },
  {
   "cell_type": "code",
   "execution_count": 322,
   "metadata": {
    "collapsed": true
   },
   "outputs": [],
   "source": [
    "ad_ads=ad_ads.rename(columns = {'AdID':'#ads'})"
   ]
  },
  {
   "cell_type": "code",
   "execution_count": 323,
   "metadata": {
    "collapsed": true
   },
   "outputs": [],
   "source": [
    "#merge_adv = pd.merge(left=ad_user,right=ad_ads, left_on='AdvertiserID', right_on='AdvertiserID')\n",
    "#merge_adv = pd.concat([ad_user, ad_ads], axis=1)\n",
    "merge_adv = pd.merge(left=ad_user,right=ad_ads, how='outer', left_on='AdvertiserID', right_on='AdvertiserID')"
   ]
  },
  {
   "cell_type": "code",
   "execution_count": 324,
   "metadata": {
    "collapsed": false
   },
   "outputs": [
    {
     "data": {
      "text/plain": [
       "6627"
      ]
     },
     "execution_count": 324,
     "metadata": {},
     "output_type": "execute_result"
    }
   ],
   "source": [
    "len(merge_adv)"
   ]
  },
  {
   "cell_type": "code",
   "execution_count": 325,
   "metadata": {
    "collapsed": false
   },
   "outputs": [
    {
     "data": {
      "text/html": [
       "<div>\n",
       "<table border=\"1\" class=\"dataframe\">\n",
       "  <thead>\n",
       "    <tr style=\"text-align: right;\">\n",
       "      <th></th>\n",
       "      <th>AdvertiserID</th>\n",
       "      <th>#users</th>\n",
       "      <th>#ads</th>\n",
       "    </tr>\n",
       "  </thead>\n",
       "  <tbody>\n",
       "    <tr>\n",
       "      <th>0</th>\n",
       "      <td>81</td>\n",
       "      <td>3</td>\n",
       "      <td>1</td>\n",
       "    </tr>\n",
       "    <tr>\n",
       "      <th>1</th>\n",
       "      <td>82</td>\n",
       "      <td>56</td>\n",
       "      <td>1</td>\n",
       "    </tr>\n",
       "    <tr>\n",
       "      <th>2</th>\n",
       "      <td>83</td>\n",
       "      <td>1</td>\n",
       "      <td>2</td>\n",
       "    </tr>\n",
       "    <tr>\n",
       "      <th>3</th>\n",
       "      <td>85</td>\n",
       "      <td>3</td>\n",
       "      <td>3</td>\n",
       "    </tr>\n",
       "    <tr>\n",
       "      <th>4</th>\n",
       "      <td>87</td>\n",
       "      <td>3</td>\n",
       "      <td>2</td>\n",
       "    </tr>\n",
       "  </tbody>\n",
       "</table>\n",
       "</div>"
      ],
      "text/plain": [
       "   AdvertiserID  #users  #ads\n",
       "0            81       3     1\n",
       "1            82      56     1\n",
       "2            83       1     2\n",
       "3            85       3     3\n",
       "4            87       3     2"
      ]
     },
     "execution_count": 325,
     "metadata": {},
     "output_type": "execute_result"
    }
   ],
   "source": [
    "merge_adv.head(5)"
   ]
  },
  {
   "cell_type": "code",
   "execution_count": 326,
   "metadata": {
    "collapsed": true
   },
   "outputs": [],
   "source": [
    "advertiser = pd.merge(left=traincopy,right=merge_adv,how='left', left_on='AdvertiserID', right_on='AdvertiserID')"
   ]
  },
  {
   "cell_type": "code",
   "execution_count": 327,
   "metadata": {
    "collapsed": false
   },
   "outputs": [
    {
     "data": {
      "text/plain": [
       "99999"
      ]
     },
     "execution_count": 327,
     "metadata": {},
     "output_type": "execute_result"
    }
   ],
   "source": [
    "len(advertiser)"
   ]
  },
  {
   "cell_type": "code",
   "execution_count": 328,
   "metadata": {
    "collapsed": false
   },
   "outputs": [],
   "source": [
    "traincopy1=advertiser.copy()"
   ]
  },
  {
   "cell_type": "code",
   "execution_count": 329,
   "metadata": {
    "collapsed": false
   },
   "outputs": [
    {
     "data": {
      "text/html": [
       "<div>\n",
       "<table border=\"1\" class=\"dataframe\">\n",
       "  <thead>\n",
       "    <tr style=\"text-align: right;\">\n",
       "      <th></th>\n",
       "      <th>Click</th>\n",
       "      <th>Impression</th>\n",
       "      <th>DisplayURL</th>\n",
       "      <th>AdID</th>\n",
       "      <th>AdvertiserID</th>\n",
       "      <th>Depth</th>\n",
       "      <th>Position</th>\n",
       "      <th>QueryID</th>\n",
       "      <th>KeywordID</th>\n",
       "      <th>TitleID</th>\n",
       "      <th>DescriptionID</th>\n",
       "      <th>UserID</th>\n",
       "      <th>#users</th>\n",
       "      <th>#ads</th>\n",
       "    </tr>\n",
       "  </thead>\n",
       "  <tbody>\n",
       "    <tr>\n",
       "      <th>0</th>\n",
       "      <td>0</td>\n",
       "      <td>1</td>\n",
       "      <td>4298118681424644510</td>\n",
       "      <td>7686695</td>\n",
       "      <td>385</td>\n",
       "      <td>3</td>\n",
       "      <td>3</td>\n",
       "      <td>1601</td>\n",
       "      <td>5521</td>\n",
       "      <td>7709</td>\n",
       "      <td>576</td>\n",
       "      <td>490234</td>\n",
       "      <td>739</td>\n",
       "      <td>480</td>\n",
       "    </tr>\n",
       "    <tr>\n",
       "      <th>1</th>\n",
       "      <td>0</td>\n",
       "      <td>1</td>\n",
       "      <td>4860571499428580850</td>\n",
       "      <td>21560664</td>\n",
       "      <td>37484</td>\n",
       "      <td>2</td>\n",
       "      <td>2</td>\n",
       "      <td>2255103</td>\n",
       "      <td>317</td>\n",
       "      <td>48989</td>\n",
       "      <td>44771</td>\n",
       "      <td>490234</td>\n",
       "      <td>12</td>\n",
       "      <td>5</td>\n",
       "    </tr>\n",
       "    <tr>\n",
       "      <th>2</th>\n",
       "      <td>0</td>\n",
       "      <td>1</td>\n",
       "      <td>9704320783495875564</td>\n",
       "      <td>21748480</td>\n",
       "      <td>36759</td>\n",
       "      <td>3</td>\n",
       "      <td>3</td>\n",
       "      <td>4532751</td>\n",
       "      <td>60721</td>\n",
       "      <td>685038</td>\n",
       "      <td>29681</td>\n",
       "      <td>490234</td>\n",
       "      <td>1</td>\n",
       "      <td>1</td>\n",
       "    </tr>\n",
       "    <tr>\n",
       "      <th>3</th>\n",
       "      <td>0</td>\n",
       "      <td>1</td>\n",
       "      <td>13677630321509009335</td>\n",
       "      <td>3517124</td>\n",
       "      <td>23778</td>\n",
       "      <td>3</td>\n",
       "      <td>1</td>\n",
       "      <td>1601</td>\n",
       "      <td>2155</td>\n",
       "      <td>1207</td>\n",
       "      <td>1422</td>\n",
       "      <td>490234</td>\n",
       "      <td>1110</td>\n",
       "      <td>36</td>\n",
       "    </tr>\n",
       "    <tr>\n",
       "      <th>4</th>\n",
       "      <td>0</td>\n",
       "      <td>1</td>\n",
       "      <td>3284760244799604489</td>\n",
       "      <td>20758093</td>\n",
       "      <td>34535</td>\n",
       "      <td>1</td>\n",
       "      <td>1</td>\n",
       "      <td>4532751</td>\n",
       "      <td>77819</td>\n",
       "      <td>266618</td>\n",
       "      <td>222223</td>\n",
       "      <td>490234</td>\n",
       "      <td>40</td>\n",
       "      <td>11</td>\n",
       "    </tr>\n",
       "  </tbody>\n",
       "</table>\n",
       "</div>"
      ],
      "text/plain": [
       "   Click  Impression            DisplayURL      AdID  AdvertiserID  Depth  \\\n",
       "0      0           1   4298118681424644510   7686695           385      3   \n",
       "1      0           1   4860571499428580850  21560664         37484      2   \n",
       "2      0           1   9704320783495875564  21748480         36759      3   \n",
       "3      0           1  13677630321509009335   3517124         23778      3   \n",
       "4      0           1   3284760244799604489  20758093         34535      1   \n",
       "\n",
       "   Position  QueryID  KeywordID  TitleID  DescriptionID  UserID  #users  #ads  \n",
       "0         3     1601       5521     7709            576  490234     739   480  \n",
       "1         2  2255103        317    48989          44771  490234      12     5  \n",
       "2         3  4532751      60721   685038          29681  490234       1     1  \n",
       "3         1     1601       2155     1207           1422  490234    1110    36  \n",
       "4         1  4532751      77819   266618         222223  490234      40    11  "
      ]
     },
     "execution_count": 329,
     "metadata": {},
     "output_type": "execute_result"
    }
   ],
   "source": [
    "traincopy1.head(5)"
   ]
  },
  {
   "cell_type": "code",
   "execution_count": 107,
   "metadata": {
    "collapsed": true
   },
   "outputs": [],
   "source": [
    "merge_user = pd.merge(left=traincopy1,right=user,how='left', left_on='UserID', right_on='UserID')"
   ]
  },
  {
   "cell_type": "code",
   "execution_count": 108,
   "metadata": {
    "collapsed": false
   },
   "outputs": [
    {
     "data": {
      "text/html": [
       "<div>\n",
       "<table border=\"1\" class=\"dataframe\">\n",
       "  <thead>\n",
       "    <tr style=\"text-align: right;\">\n",
       "      <th></th>\n",
       "      <th>Click</th>\n",
       "      <th>Impression</th>\n",
       "      <th>DisplayURL</th>\n",
       "      <th>AdID</th>\n",
       "      <th>AdvertiserID</th>\n",
       "      <th>Depth</th>\n",
       "      <th>Position</th>\n",
       "      <th>QueryID</th>\n",
       "      <th>KeywordID</th>\n",
       "      <th>TitleID</th>\n",
       "      <th>DescriptionID</th>\n",
       "      <th>UserID</th>\n",
       "      <th>#users</th>\n",
       "      <th>#ads</th>\n",
       "      <th>Gender</th>\n",
       "      <th>Age</th>\n",
       "    </tr>\n",
       "  </thead>\n",
       "  <tbody>\n",
       "    <tr>\n",
       "      <th>0</th>\n",
       "      <td>0</td>\n",
       "      <td>1</td>\n",
       "      <td>4298118681424644510</td>\n",
       "      <td>7686695</td>\n",
       "      <td>385</td>\n",
       "      <td>3</td>\n",
       "      <td>3</td>\n",
       "      <td>1601</td>\n",
       "      <td>5521</td>\n",
       "      <td>7709</td>\n",
       "      <td>576</td>\n",
       "      <td>490234</td>\n",
       "      <td>739</td>\n",
       "      <td>480</td>\n",
       "      <td>1.0</td>\n",
       "      <td>3.0</td>\n",
       "    </tr>\n",
       "    <tr>\n",
       "      <th>1</th>\n",
       "      <td>0</td>\n",
       "      <td>1</td>\n",
       "      <td>4860571499428580850</td>\n",
       "      <td>21560664</td>\n",
       "      <td>37484</td>\n",
       "      <td>2</td>\n",
       "      <td>2</td>\n",
       "      <td>2255103</td>\n",
       "      <td>317</td>\n",
       "      <td>48989</td>\n",
       "      <td>44771</td>\n",
       "      <td>490234</td>\n",
       "      <td>12</td>\n",
       "      <td>5</td>\n",
       "      <td>1.0</td>\n",
       "      <td>3.0</td>\n",
       "    </tr>\n",
       "    <tr>\n",
       "      <th>2</th>\n",
       "      <td>0</td>\n",
       "      <td>1</td>\n",
       "      <td>9704320783495875564</td>\n",
       "      <td>21748480</td>\n",
       "      <td>36759</td>\n",
       "      <td>3</td>\n",
       "      <td>3</td>\n",
       "      <td>4532751</td>\n",
       "      <td>60721</td>\n",
       "      <td>685038</td>\n",
       "      <td>29681</td>\n",
       "      <td>490234</td>\n",
       "      <td>1</td>\n",
       "      <td>1</td>\n",
       "      <td>1.0</td>\n",
       "      <td>3.0</td>\n",
       "    </tr>\n",
       "    <tr>\n",
       "      <th>3</th>\n",
       "      <td>0</td>\n",
       "      <td>1</td>\n",
       "      <td>13677630321509009335</td>\n",
       "      <td>3517124</td>\n",
       "      <td>23778</td>\n",
       "      <td>3</td>\n",
       "      <td>1</td>\n",
       "      <td>1601</td>\n",
       "      <td>2155</td>\n",
       "      <td>1207</td>\n",
       "      <td>1422</td>\n",
       "      <td>490234</td>\n",
       "      <td>1110</td>\n",
       "      <td>36</td>\n",
       "      <td>1.0</td>\n",
       "      <td>3.0</td>\n",
       "    </tr>\n",
       "    <tr>\n",
       "      <th>4</th>\n",
       "      <td>0</td>\n",
       "      <td>1</td>\n",
       "      <td>3284760244799604489</td>\n",
       "      <td>20758093</td>\n",
       "      <td>34535</td>\n",
       "      <td>1</td>\n",
       "      <td>1</td>\n",
       "      <td>4532751</td>\n",
       "      <td>77819</td>\n",
       "      <td>266618</td>\n",
       "      <td>222223</td>\n",
       "      <td>490234</td>\n",
       "      <td>40</td>\n",
       "      <td>11</td>\n",
       "      <td>1.0</td>\n",
       "      <td>3.0</td>\n",
       "    </tr>\n",
       "  </tbody>\n",
       "</table>\n",
       "</div>"
      ],
      "text/plain": [
       "   Click  Impression            DisplayURL      AdID  AdvertiserID  Depth  \\\n",
       "0      0           1   4298118681424644510   7686695           385      3   \n",
       "1      0           1   4860571499428580850  21560664         37484      2   \n",
       "2      0           1   9704320783495875564  21748480         36759      3   \n",
       "3      0           1  13677630321509009335   3517124         23778      3   \n",
       "4      0           1   3284760244799604489  20758093         34535      1   \n",
       "\n",
       "   Position  QueryID  KeywordID  TitleID  DescriptionID  UserID  #users  #ads  \\\n",
       "0         3     1601       5521     7709            576  490234     739   480   \n",
       "1         2  2255103        317    48989          44771  490234      12     5   \n",
       "2         3  4532751      60721   685038          29681  490234       1     1   \n",
       "3         1     1601       2155     1207           1422  490234    1110    36   \n",
       "4         1  4532751      77819   266618         222223  490234      40    11   \n",
       "\n",
       "   Gender  Age  \n",
       "0     1.0  3.0  \n",
       "1     1.0  3.0  \n",
       "2     1.0  3.0  \n",
       "3     1.0  3.0  \n",
       "4     1.0  3.0  "
      ]
     },
     "execution_count": 108,
     "metadata": {},
     "output_type": "execute_result"
    }
   ],
   "source": [
    "merge_user.head(5)"
   ]
  },
  {
   "cell_type": "code",
   "execution_count": 330,
   "metadata": {
    "collapsed": false
   },
   "outputs": [
    {
     "data": {
      "text/plain": [
       "99999"
      ]
     },
     "execution_count": 330,
     "metadata": {},
     "output_type": "execute_result"
    }
   ],
   "source": [
    "#len(merge_user)\n",
    "len(traincopy1)"
   ]
  },
  {
   "cell_type": "code",
   "execution_count": 331,
   "metadata": {
    "collapsed": false
   },
   "outputs": [
    {
     "data": {
      "text/plain": [
       "False"
      ]
     },
     "execution_count": 331,
     "metadata": {},
     "output_type": "execute_result"
    }
   ],
   "source": [
    "traincopy.isnull().values.any()"
   ]
  },
  {
   "cell_type": "code",
   "execution_count": 111,
   "metadata": {
    "collapsed": false
   },
   "outputs": [
    {
     "data": {
      "text/plain": [
       "392"
      ]
     },
     "execution_count": 111,
     "metadata": {},
     "output_type": "execute_result"
    }
   ],
   "source": [
    "sum(merge_user['Gender'].isnull())"
   ]
  },
  {
   "cell_type": "code",
   "execution_count": 112,
   "metadata": {
    "collapsed": false
   },
   "outputs": [
    {
     "data": {
      "text/plain": [
       "Int64Index([ 4053,  4054,  4881,  4882,  4928,  5752,  5753,  5754,  5755,\n",
       "             5756,\n",
       "            ...\n",
       "            93271, 93437, 93438, 95938, 95939, 95940, 96358, 96359, 96360,\n",
       "            96361],\n",
       "           dtype='int64', length=392)"
      ]
     },
     "execution_count": 112,
     "metadata": {},
     "output_type": "execute_result"
    }
   ],
   "source": [
    "merge_user.ix[merge_user['Gender'].isnull()].index"
   ]
  },
  {
   "cell_type": "code",
   "execution_count": 113,
   "metadata": {
    "collapsed": false
   },
   "outputs": [
    {
     "data": {
      "text/plain": [
       "Int64Index([ 4053,  4054,  4881,  4882,  4928,  5752,  5753,  5754,  5755,\n",
       "             5756,\n",
       "            ...\n",
       "            93271, 93437, 93438, 95938, 95939, 95940, 96358, 96359, 96360,\n",
       "            96361],\n",
       "           dtype='int64', length=392)"
      ]
     },
     "execution_count": 113,
     "metadata": {},
     "output_type": "execute_result"
    }
   ],
   "source": [
    "merge_user.ix[merge_user['Age'].isnull()].index"
   ]
  },
  {
   "cell_type": "code",
   "execution_count": 114,
   "metadata": {
    "collapsed": false
   },
   "outputs": [
    {
     "data": {
      "text/plain": [
       "1.0    52921\n",
       "2.0    44859\n",
       "0.0     1827\n",
       "Name: Gender, dtype: int64"
      ]
     },
     "execution_count": 114,
     "metadata": {},
     "output_type": "execute_result"
    }
   ],
   "source": [
    "merge_user['Gender'].value_counts()"
   ]
  },
  {
   "cell_type": "code",
   "execution_count": 115,
   "metadata": {
    "collapsed": true
   },
   "outputs": [],
   "source": [
    "merge_user['Gender']=merge_user['Gender'].fillna(0)"
   ]
  },
  {
   "cell_type": "code",
   "execution_count": 116,
   "metadata": {
    "collapsed": true
   },
   "outputs": [],
   "source": [
    "merge_user['Age']=merge_user['Age'].fillna(0)"
   ]
  },
  {
   "cell_type": "code",
   "execution_count": 117,
   "metadata": {
    "collapsed": false
   },
   "outputs": [
    {
     "data": {
      "text/plain": [
       "1.0    52921\n",
       "2.0    44859\n",
       "0.0     2219\n",
       "Name: Gender, dtype: int64"
      ]
     },
     "execution_count": 117,
     "metadata": {},
     "output_type": "execute_result"
    }
   ],
   "source": [
    "merge_user['Gender'].value_counts()"
   ]
  },
  {
   "cell_type": "code",
   "execution_count": 118,
   "metadata": {
    "collapsed": false
   },
   "outputs": [
    {
     "data": {
      "text/plain": [
       "3.0    27877\n",
       "2.0    25803\n",
       "5.0    14527\n",
       "4.0    13836\n",
       "1.0    10523\n",
       "6.0     7041\n",
       "0.0      392\n",
       "Name: Age, dtype: int64"
      ]
     },
     "execution_count": 118,
     "metadata": {},
     "output_type": "execute_result"
    }
   ],
   "source": [
    "merge_user['Age'].value_counts()"
   ]
  },
  {
   "cell_type": "code",
   "execution_count": 119,
   "metadata": {
    "collapsed": false
   },
   "outputs": [
    {
     "data": {
      "text/plain": [
       "99999"
      ]
     },
     "execution_count": 119,
     "metadata": {},
     "output_type": "execute_result"
    }
   ],
   "source": [
    "len(merge_user)"
   ]
  },
  {
   "cell_type": "code",
   "execution_count": 120,
   "metadata": {
    "collapsed": false
   },
   "outputs": [
    {
     "data": {
      "text/plain": [
       "False"
      ]
     },
     "execution_count": 120,
     "metadata": {},
     "output_type": "execute_result"
    }
   ],
   "source": [
    "merge_user.isnull().values.any()"
   ]
  },
  {
   "cell_type": "code",
   "execution_count": 189,
   "metadata": {
    "collapsed": true
   },
   "outputs": [],
   "source": [
    "q_95 = pd.read_csv(\"C:/Users/Harika Konagala/Desktop/kddcup/dsproject/dsproject/query/output/query_100.txt\",sep=\"\\s+\",names=['QueryID','Tokenscore_query'])"
   ]
  },
  {
   "cell_type": "code",
   "execution_count": 190,
   "metadata": {
    "collapsed": true
   },
   "outputs": [],
   "source": [
    "d_90 = pd.read_csv(\"C:/Users/Harika Konagala/Desktop/kddcup/dsproject/dsproject/description/output/description_100.txt\",sep=\"\\s+\",names=['DescriptionID','Tokenscore_desc'])"
   ]
  },
  {
   "cell_type": "code",
   "execution_count": 191,
   "metadata": {
    "collapsed": true
   },
   "outputs": [],
   "source": [
    "k_90 = pd.read_csv(\"C:/Users/Harika Konagala/Desktop/kddcup/dsproject/dsproject/keyword/output/keyword_100.txt\",sep=\"\\s+\",names=['KeywordID','Tokenscore_key'])"
   ]
  },
  {
   "cell_type": "code",
   "execution_count": 192,
   "metadata": {
    "collapsed": true
   },
   "outputs": [],
   "source": [
    "t_90 = pd.read_csv(\"C:/Users/Harika Konagala/Desktop/kddcup/dsproject/dsproject/title/output/title_100.txt\",sep=\"\\s+\",names=['TitleID','Tokenscore_title'])"
   ]
  },
  {
   "cell_type": "code",
   "execution_count": 332,
   "metadata": {
    "collapsed": true
   },
   "outputs": [],
   "source": [
    "traincopy2=traincopy1.copy()"
   ]
  },
  {
   "cell_type": "code",
   "execution_count": 333,
   "metadata": {
    "collapsed": true
   },
   "outputs": [],
   "source": [
    "m1 = pd.merge(left=traincopy2,right=q_95,how='left', left_on='QueryID', right_on='QueryID')"
   ]
  },
  {
   "cell_type": "code",
   "execution_count": 334,
   "metadata": {
    "collapsed": true
   },
   "outputs": [],
   "source": [
    "merged2 = pd.merge(left=m1,right=t_90,how='left', left_on='TitleID', right_on='TitleID')"
   ]
  },
  {
   "cell_type": "code",
   "execution_count": 335,
   "metadata": {
    "collapsed": true
   },
   "outputs": [],
   "source": [
    "merged3 = pd.merge(left=merged2,right=d_90, how='left',left_on='DescriptionID', right_on='DescriptionID')"
   ]
  },
  {
   "cell_type": "code",
   "execution_count": 336,
   "metadata": {
    "collapsed": true
   },
   "outputs": [],
   "source": [
    "final_merged_train = pd.merge(left=merged3,right=k_90,how='left', left_on='KeywordID', right_on='KeywordID')"
   ]
  },
  {
   "cell_type": "code",
   "execution_count": 337,
   "metadata": {
    "collapsed": false
   },
   "outputs": [
    {
     "data": {
      "text/plain": [
       "99999"
      ]
     },
     "execution_count": 337,
     "metadata": {},
     "output_type": "execute_result"
    }
   ],
   "source": [
    "len(final_merged_train)"
   ]
  },
  {
   "cell_type": "code",
   "execution_count": 338,
   "metadata": {
    "collapsed": false
   },
   "outputs": [
    {
     "data": {
      "text/plain": [
       "True"
      ]
     },
     "execution_count": 338,
     "metadata": {},
     "output_type": "execute_result"
    }
   ],
   "source": [
    "final_merged_train.isnull().values.any()"
   ]
  },
  {
   "cell_type": "code",
   "execution_count": 339,
   "metadata": {
    "collapsed": false
   },
   "outputs": [
    {
     "data": {
      "text/plain": [
       "Index([u'Click', u'Impression', u'DisplayURL', u'AdID', u'AdvertiserID',\n",
       "       u'Depth', u'Position', u'QueryID', u'KeywordID', u'TitleID',\n",
       "       u'DescriptionID', u'UserID', u'#users', u'#ads', u'Tokenscore_query',\n",
       "       u'Tokenscore_title', u'Tokenscore_desc', u'Tokenscore_key'],\n",
       "      dtype='object')"
      ]
     },
     "execution_count": 339,
     "metadata": {},
     "output_type": "execute_result"
    }
   ],
   "source": [
    "final_merged_train.columns"
   ]
  },
  {
   "cell_type": "code",
   "execution_count": 340,
   "metadata": {
    "collapsed": false
   },
   "outputs": [
    {
     "data": {
      "text/plain": [
       "0"
      ]
     },
     "execution_count": 340,
     "metadata": {},
     "output_type": "execute_result"
    }
   ],
   "source": [
    "sum(final_merged_train['Tokenscore_key'].isnull())"
   ]
  },
  {
   "cell_type": "code",
   "execution_count": 341,
   "metadata": {
    "collapsed": true
   },
   "outputs": [],
   "source": [
    "final_merged_train['Tokenscore_desc']=final_merged_train['Tokenscore_desc'].fillna(0)"
   ]
  },
  {
   "cell_type": "code",
   "execution_count": 342,
   "metadata": {
    "collapsed": false,
    "scrolled": true
   },
   "outputs": [],
   "source": [
    "merged_train=final_merged_train.copy()"
   ]
  },
  {
   "cell_type": "code",
   "execution_count": 343,
   "metadata": {
    "collapsed": false
   },
   "outputs": [
    {
     "data": {
      "text/plain": [
       "0"
      ]
     },
     "execution_count": 343,
     "metadata": {},
     "output_type": "execute_result"
    }
   ],
   "source": [
    "len(merged_train)-len(merged_train.drop_duplicates())"
   ]
  },
  {
   "cell_type": "code",
   "execution_count": 344,
   "metadata": {
    "collapsed": true
   },
   "outputs": [],
   "source": [
    "merged_train.drop_duplicates(inplace = True)"
   ]
  },
  {
   "cell_type": "code",
   "execution_count": 345,
   "metadata": {
    "collapsed": false
   },
   "outputs": [
    {
     "data": {
      "text/plain": [
       "99999"
      ]
     },
     "execution_count": 345,
     "metadata": {},
     "output_type": "execute_result"
    }
   ],
   "source": [
    "len(merged_train)"
   ]
  },
  {
   "cell_type": "code",
   "execution_count": 77,
   "metadata": {
    "collapsed": false,
    "scrolled": true
   },
   "outputs": [
    {
     "data": {
      "text/plain": [
       "0       False\n",
       "1       False\n",
       "2       False\n",
       "3       False\n",
       "4       False\n",
       "5       False\n",
       "6       False\n",
       "7       False\n",
       "8       False\n",
       "9       False\n",
       "10      False\n",
       "11      False\n",
       "12      False\n",
       "13      False\n",
       "14      False\n",
       "15      False\n",
       "16      False\n",
       "17      False\n",
       "18      False\n",
       "19      False\n",
       "20      False\n",
       "21      False\n",
       "22      False\n",
       "23      False\n",
       "24      False\n",
       "25      False\n",
       "26      False\n",
       "27      False\n",
       "28      False\n",
       "29      False\n",
       "        ...  \n",
       "9969    False\n",
       "9970    False\n",
       "9971    False\n",
       "9972    False\n",
       "9973    False\n",
       "9974    False\n",
       "9975    False\n",
       "9976    False\n",
       "9977    False\n",
       "9978    False\n",
       "9979    False\n",
       "9980    False\n",
       "9981    False\n",
       "9982    False\n",
       "9983    False\n",
       "9984    False\n",
       "9985    False\n",
       "9986    False\n",
       "9987    False\n",
       "9988    False\n",
       "9989    False\n",
       "9990    False\n",
       "9991    False\n",
       "9992    False\n",
       "9993    False\n",
       "9994    False\n",
       "9995    False\n",
       "9996    False\n",
       "9997    False\n",
       "9998    False\n",
       "dtype: bool"
      ]
     },
     "execution_count": 77,
     "metadata": {},
     "output_type": "execute_result"
    }
   ],
   "source": [
    "merged_train.duplicated()#checking duplicate values"
   ]
  },
  {
   "cell_type": "code",
   "execution_count": 346,
   "metadata": {
    "collapsed": false
   },
   "outputs": [
    {
     "data": {
      "text/plain": [
       "False"
      ]
     },
     "execution_count": 346,
     "metadata": {},
     "output_type": "execute_result"
    }
   ],
   "source": [
    "merged_train.isnull().values.any()"
   ]
  },
  {
   "cell_type": "code",
   "execution_count": 347,
   "metadata": {
    "collapsed": false
   },
   "outputs": [
    {
     "data": {
      "text/html": [
       "<div>\n",
       "<table border=\"1\" class=\"dataframe\">\n",
       "  <thead>\n",
       "    <tr style=\"text-align: right;\">\n",
       "      <th></th>\n",
       "      <th>Click</th>\n",
       "      <th>Impression</th>\n",
       "      <th>DisplayURL</th>\n",
       "      <th>AdID</th>\n",
       "      <th>AdvertiserID</th>\n",
       "      <th>Depth</th>\n",
       "      <th>Position</th>\n",
       "      <th>QueryID</th>\n",
       "      <th>KeywordID</th>\n",
       "      <th>TitleID</th>\n",
       "      <th>DescriptionID</th>\n",
       "      <th>UserID</th>\n",
       "      <th>#users</th>\n",
       "      <th>#ads</th>\n",
       "      <th>Tokenscore_query</th>\n",
       "      <th>Tokenscore_title</th>\n",
       "      <th>Tokenscore_desc</th>\n",
       "      <th>Tokenscore_key</th>\n",
       "    </tr>\n",
       "  </thead>\n",
       "  <tbody>\n",
       "    <tr>\n",
       "      <th>0</th>\n",
       "      <td>0</td>\n",
       "      <td>1</td>\n",
       "      <td>4298118681424644510</td>\n",
       "      <td>7686695</td>\n",
       "      <td>385</td>\n",
       "      <td>3</td>\n",
       "      <td>3</td>\n",
       "      <td>1601</td>\n",
       "      <td>5521</td>\n",
       "      <td>7709</td>\n",
       "      <td>576</td>\n",
       "      <td>490234</td>\n",
       "      <td>739</td>\n",
       "      <td>480</td>\n",
       "      <td>3718</td>\n",
       "      <td>0</td>\n",
       "      <td>19463858.0</td>\n",
       "      <td>36065</td>\n",
       "    </tr>\n",
       "    <tr>\n",
       "      <th>1</th>\n",
       "      <td>0</td>\n",
       "      <td>1</td>\n",
       "      <td>4860571499428580850</td>\n",
       "      <td>21560664</td>\n",
       "      <td>37484</td>\n",
       "      <td>2</td>\n",
       "      <td>2</td>\n",
       "      <td>2255103</td>\n",
       "      <td>317</td>\n",
       "      <td>48989</td>\n",
       "      <td>44771</td>\n",
       "      <td>490234</td>\n",
       "      <td>12</td>\n",
       "      <td>5</td>\n",
       "      <td>199799</td>\n",
       "      <td>0</td>\n",
       "      <td>341421.0</td>\n",
       "      <td>27728</td>\n",
       "    </tr>\n",
       "  </tbody>\n",
       "</table>\n",
       "</div>"
      ],
      "text/plain": [
       "   Click  Impression           DisplayURL      AdID  AdvertiserID  Depth  \\\n",
       "0      0           1  4298118681424644510   7686695           385      3   \n",
       "1      0           1  4860571499428580850  21560664         37484      2   \n",
       "\n",
       "   Position  QueryID  KeywordID  TitleID  DescriptionID  UserID  #users  #ads  \\\n",
       "0         3     1601       5521     7709            576  490234     739   480   \n",
       "1         2  2255103        317    48989          44771  490234      12     5   \n",
       "\n",
       "   Tokenscore_query  Tokenscore_title  Tokenscore_desc  Tokenscore_key  \n",
       "0              3718                 0       19463858.0           36065  \n",
       "1            199799                 0         341421.0           27728  "
      ]
     },
     "execution_count": 347,
     "metadata": {},
     "output_type": "execute_result"
    }
   ],
   "source": [
    "merged_train.head(2)"
   ]
  },
  {
   "cell_type": "code",
   "execution_count": 348,
   "metadata": {
    "collapsed": true
   },
   "outputs": [],
   "source": [
    "merged_train.drop(['DisplayURL','QueryID','KeywordID','TitleID','DescriptionID','AdID','AdvertiserID','UserID'], axis=1, inplace=True)"
   ]
  },
  {
   "cell_type": "code",
   "execution_count": 349,
   "metadata": {
    "collapsed": false
   },
   "outputs": [
    {
     "data": {
      "text/html": [
       "<div>\n",
       "<table border=\"1\" class=\"dataframe\">\n",
       "  <thead>\n",
       "    <tr style=\"text-align: right;\">\n",
       "      <th></th>\n",
       "      <th>Click</th>\n",
       "      <th>Impression</th>\n",
       "      <th>Depth</th>\n",
       "      <th>Position</th>\n",
       "      <th>#users</th>\n",
       "      <th>#ads</th>\n",
       "      <th>Tokenscore_query</th>\n",
       "      <th>Tokenscore_title</th>\n",
       "      <th>Tokenscore_desc</th>\n",
       "      <th>Tokenscore_key</th>\n",
       "    </tr>\n",
       "  </thead>\n",
       "  <tbody>\n",
       "    <tr>\n",
       "      <th>0</th>\n",
       "      <td>0</td>\n",
       "      <td>1</td>\n",
       "      <td>3</td>\n",
       "      <td>3</td>\n",
       "      <td>739</td>\n",
       "      <td>480</td>\n",
       "      <td>3718</td>\n",
       "      <td>0</td>\n",
       "      <td>19463858.0</td>\n",
       "      <td>36065</td>\n",
       "    </tr>\n",
       "    <tr>\n",
       "      <th>1</th>\n",
       "      <td>0</td>\n",
       "      <td>1</td>\n",
       "      <td>2</td>\n",
       "      <td>2</td>\n",
       "      <td>12</td>\n",
       "      <td>5</td>\n",
       "      <td>199799</td>\n",
       "      <td>0</td>\n",
       "      <td>341421.0</td>\n",
       "      <td>27728</td>\n",
       "    </tr>\n",
       "  </tbody>\n",
       "</table>\n",
       "</div>"
      ],
      "text/plain": [
       "   Click  Impression  Depth  Position  #users  #ads  Tokenscore_query  \\\n",
       "0      0           1      3         3     739   480              3718   \n",
       "1      0           1      2         2      12     5            199799   \n",
       "\n",
       "   Tokenscore_title  Tokenscore_desc  Tokenscore_key  \n",
       "0                 0       19463858.0           36065  \n",
       "1                 0         341421.0           27728  "
      ]
     },
     "execution_count": 349,
     "metadata": {},
     "output_type": "execute_result"
    }
   ],
   "source": [
    "merged_train.head(2)"
   ]
  },
  {
   "cell_type": "code",
   "execution_count": 350,
   "metadata": {
    "collapsed": false
   },
   "outputs": [
    {
     "data": {
      "text/plain": [
       "99999"
      ]
     },
     "execution_count": 350,
     "metadata": {},
     "output_type": "execute_result"
    }
   ],
   "source": [
    "len(merged_train)"
   ]
  },
  {
   "cell_type": "code",
   "execution_count": 351,
   "metadata": {
    "collapsed": true
   },
   "outputs": [],
   "source": [
    "merged_train.to_csv(\"C:/Users/Harika Konagala/Desktop/kddcup/traintokens_100k.txt\",sep='\\t')"
   ]
  },
  {
   "cell_type": "code",
   "execution_count": 352,
   "metadata": {
    "collapsed": true
   },
   "outputs": [],
   "source": [
    "#try the same with test data now"
   ]
  },
  {
   "cell_type": "code",
   "execution_count": 353,
   "metadata": {
    "collapsed": true
   },
   "outputs": [],
   "source": [
    "loadtest = pd.read_csv(\"C:/Users/Harika Konagala/Desktop/kddcup/test/test.txt\",sep=\"\\s+\",names=['DisplayURL','AdID','AdvertiserID','Depth','Position','QueryID','KeywordID','TitleID','DescriptionID','UserID'],nrows=99999)"
   ]
  },
  {
   "cell_type": "code",
   "execution_count": 354,
   "metadata": {
    "collapsed": true
   },
   "outputs": [],
   "source": [
    "testcopy=loadtest.copy()"
   ]
  },
  {
   "cell_type": "code",
   "execution_count": 355,
   "metadata": {
    "collapsed": true
   },
   "outputs": [],
   "source": [
    "advertiser_test = pd.merge(left=testcopy,right=merge_adv, how='left',left_on='AdvertiserID', right_on='AdvertiserID')"
   ]
  },
  {
   "cell_type": "code",
   "execution_count": 356,
   "metadata": {
    "collapsed": true
   },
   "outputs": [],
   "source": [
    "testcopy1=advertiser_test.copy()"
   ]
  },
  {
   "cell_type": "code",
   "execution_count": 357,
   "metadata": {
    "collapsed": false
   },
   "outputs": [
    {
     "data": {
      "text/html": [
       "<div>\n",
       "<table border=\"1\" class=\"dataframe\">\n",
       "  <thead>\n",
       "    <tr style=\"text-align: right;\">\n",
       "      <th></th>\n",
       "      <th>DisplayURL</th>\n",
       "      <th>AdID</th>\n",
       "      <th>AdvertiserID</th>\n",
       "      <th>Depth</th>\n",
       "      <th>Position</th>\n",
       "      <th>QueryID</th>\n",
       "      <th>KeywordID</th>\n",
       "      <th>TitleID</th>\n",
       "      <th>DescriptionID</th>\n",
       "      <th>UserID</th>\n",
       "      <th>#users</th>\n",
       "      <th>#ads</th>\n",
       "    </tr>\n",
       "  </thead>\n",
       "  <tbody>\n",
       "    <tr>\n",
       "      <th>0</th>\n",
       "      <td>5325279403472852193</td>\n",
       "      <td>22166806</td>\n",
       "      <td>38756</td>\n",
       "      <td>3</td>\n",
       "      <td>3</td>\n",
       "      <td>6415</td>\n",
       "      <td>34</td>\n",
       "      <td>3341</td>\n",
       "      <td>2080</td>\n",
       "      <td>490234</td>\n",
       "      <td>11.0</td>\n",
       "      <td>4.0</td>\n",
       "    </tr>\n",
       "    <tr>\n",
       "      <th>1</th>\n",
       "      <td>14340390157469404125</td>\n",
       "      <td>3111380</td>\n",
       "      <td>23777</td>\n",
       "      <td>3</td>\n",
       "      <td>1</td>\n",
       "      <td>6415</td>\n",
       "      <td>8872</td>\n",
       "      <td>62423</td>\n",
       "      <td>56167</td>\n",
       "      <td>490234</td>\n",
       "      <td>2891.0</td>\n",
       "      <td>1140.0</td>\n",
       "    </tr>\n",
       "    <tr>\n",
       "      <th>2</th>\n",
       "      <td>16772851793638846604</td>\n",
       "      <td>22111129</td>\n",
       "      <td>38584</td>\n",
       "      <td>3</td>\n",
       "      <td>2</td>\n",
       "      <td>6415</td>\n",
       "      <td>8872</td>\n",
       "      <td>454986</td>\n",
       "      <td>378040</td>\n",
       "      <td>490234</td>\n",
       "      <td>19.0</td>\n",
       "      <td>13.0</td>\n",
       "    </tr>\n",
       "    <tr>\n",
       "      <th>3</th>\n",
       "      <td>5325279403472852193</td>\n",
       "      <td>22166807</td>\n",
       "      <td>38756</td>\n",
       "      <td>2</td>\n",
       "      <td>1</td>\n",
       "      <td>83</td>\n",
       "      <td>34</td>\n",
       "      <td>5360</td>\n",
       "      <td>2080</td>\n",
       "      <td>490234</td>\n",
       "      <td>11.0</td>\n",
       "      <td>4.0</td>\n",
       "    </tr>\n",
       "    <tr>\n",
       "      <th>4</th>\n",
       "      <td>12057878999086460853</td>\n",
       "      <td>20180629</td>\n",
       "      <td>27961</td>\n",
       "      <td>2</td>\n",
       "      <td>2</td>\n",
       "      <td>83</td>\n",
       "      <td>34</td>\n",
       "      <td>328</td>\n",
       "      <td>455</td>\n",
       "      <td>490234</td>\n",
       "      <td>4982.0</td>\n",
       "      <td>1086.0</td>\n",
       "    </tr>\n",
       "  </tbody>\n",
       "</table>\n",
       "</div>"
      ],
      "text/plain": [
       "             DisplayURL      AdID  AdvertiserID  Depth  Position  QueryID  \\\n",
       "0   5325279403472852193  22166806         38756      3         3     6415   \n",
       "1  14340390157469404125   3111380         23777      3         1     6415   \n",
       "2  16772851793638846604  22111129         38584      3         2     6415   \n",
       "3   5325279403472852193  22166807         38756      2         1       83   \n",
       "4  12057878999086460853  20180629         27961      2         2       83   \n",
       "\n",
       "   KeywordID  TitleID  DescriptionID  UserID  #users    #ads  \n",
       "0         34     3341           2080  490234    11.0     4.0  \n",
       "1       8872    62423          56167  490234  2891.0  1140.0  \n",
       "2       8872   454986         378040  490234    19.0    13.0  \n",
       "3         34     5360           2080  490234    11.0     4.0  \n",
       "4         34      328            455  490234  4982.0  1086.0  "
      ]
     },
     "execution_count": 357,
     "metadata": {},
     "output_type": "execute_result"
    }
   ],
   "source": [
    "testcopy1.head(5)"
   ]
  },
  {
   "cell_type": "code",
   "execution_count": 358,
   "metadata": {
    "collapsed": false
   },
   "outputs": [
    {
     "data": {
      "text/plain": [
       "99999"
      ]
     },
     "execution_count": 358,
     "metadata": {},
     "output_type": "execute_result"
    }
   ],
   "source": [
    "len(testcopy1)"
   ]
  },
  {
   "cell_type": "code",
   "execution_count": 144,
   "metadata": {
    "collapsed": true
   },
   "outputs": [],
   "source": [
    "test_user = pd.merge(left=testcopy1,right=user, how='left',left_on='UserID', right_on='UserID')"
   ]
  },
  {
   "cell_type": "code",
   "execution_count": 359,
   "metadata": {
    "collapsed": true
   },
   "outputs": [],
   "source": [
    "t1 = pd.merge(left=testcopy1,right=q_95, how='left',left_on='QueryID', right_on='QueryID')"
   ]
  },
  {
   "cell_type": "code",
   "execution_count": 360,
   "metadata": {
    "collapsed": true
   },
   "outputs": [],
   "source": [
    "t2 = pd.merge(left=t1,right=t_90, how='left',left_on='TitleID', right_on='TitleID')"
   ]
  },
  {
   "cell_type": "code",
   "execution_count": 361,
   "metadata": {
    "collapsed": true
   },
   "outputs": [],
   "source": [
    "t3 = pd.merge(left=t2,right=d_90, how='left',left_on='DescriptionID', right_on='DescriptionID')"
   ]
  },
  {
   "cell_type": "code",
   "execution_count": 362,
   "metadata": {
    "collapsed": true
   },
   "outputs": [],
   "source": [
    "final_merged_test = pd.merge(left=t3,right=k_90, how='left',left_on='KeywordID', right_on='KeywordID')"
   ]
  },
  {
   "cell_type": "code",
   "execution_count": 363,
   "metadata": {
    "collapsed": false
   },
   "outputs": [
    {
     "data": {
      "text/plain": [
       "99999"
      ]
     },
     "execution_count": 363,
     "metadata": {},
     "output_type": "execute_result"
    }
   ],
   "source": [
    "len(final_merged_test)"
   ]
  },
  {
   "cell_type": "code",
   "execution_count": 364,
   "metadata": {
    "collapsed": false
   },
   "outputs": [
    {
     "data": {
      "text/plain": [
       "True"
      ]
     },
     "execution_count": 364,
     "metadata": {},
     "output_type": "execute_result"
    }
   ],
   "source": [
    "final_merged_test.isnull().values.any()"
   ]
  },
  {
   "cell_type": "code",
   "execution_count": 365,
   "metadata": {
    "collapsed": true
   },
   "outputs": [],
   "source": [
    "merged_test=final_merged_test.copy()"
   ]
  },
  {
   "cell_type": "code",
   "execution_count": 366,
   "metadata": {
    "collapsed": false
   },
   "outputs": [
    {
     "data": {
      "text/html": [
       "<div>\n",
       "<table border=\"1\" class=\"dataframe\">\n",
       "  <thead>\n",
       "    <tr style=\"text-align: right;\">\n",
       "      <th></th>\n",
       "      <th>DisplayURL</th>\n",
       "      <th>AdID</th>\n",
       "      <th>AdvertiserID</th>\n",
       "      <th>Depth</th>\n",
       "      <th>Position</th>\n",
       "      <th>QueryID</th>\n",
       "      <th>KeywordID</th>\n",
       "      <th>TitleID</th>\n",
       "      <th>DescriptionID</th>\n",
       "      <th>UserID</th>\n",
       "      <th>#users</th>\n",
       "      <th>#ads</th>\n",
       "      <th>Tokenscore_query</th>\n",
       "      <th>Tokenscore_title</th>\n",
       "      <th>Tokenscore_desc</th>\n",
       "      <th>Tokenscore_key</th>\n",
       "    </tr>\n",
       "  </thead>\n",
       "  <tbody>\n",
       "    <tr>\n",
       "      <th>0</th>\n",
       "      <td>5325279403472852193</td>\n",
       "      <td>22166806</td>\n",
       "      <td>38756</td>\n",
       "      <td>3</td>\n",
       "      <td>3</td>\n",
       "      <td>6415</td>\n",
       "      <td>34</td>\n",
       "      <td>3341</td>\n",
       "      <td>2080</td>\n",
       "      <td>490234</td>\n",
       "      <td>11.0</td>\n",
       "      <td>4.0</td>\n",
       "      <td>2267</td>\n",
       "      <td>0</td>\n",
       "      <td>46000561.0</td>\n",
       "      <td>10820</td>\n",
       "    </tr>\n",
       "    <tr>\n",
       "      <th>1</th>\n",
       "      <td>14340390157469404125</td>\n",
       "      <td>3111380</td>\n",
       "      <td>23777</td>\n",
       "      <td>3</td>\n",
       "      <td>1</td>\n",
       "      <td>6415</td>\n",
       "      <td>8872</td>\n",
       "      <td>62423</td>\n",
       "      <td>56167</td>\n",
       "      <td>490234</td>\n",
       "      <td>2891.0</td>\n",
       "      <td>1140.0</td>\n",
       "      <td>2267</td>\n",
       "      <td>0</td>\n",
       "      <td>15211447.0</td>\n",
       "      <td>78</td>\n",
       "    </tr>\n",
       "  </tbody>\n",
       "</table>\n",
       "</div>"
      ],
      "text/plain": [
       "             DisplayURL      AdID  AdvertiserID  Depth  Position  QueryID  \\\n",
       "0   5325279403472852193  22166806         38756      3         3     6415   \n",
       "1  14340390157469404125   3111380         23777      3         1     6415   \n",
       "\n",
       "   KeywordID  TitleID  DescriptionID  UserID  #users    #ads  \\\n",
       "0         34     3341           2080  490234    11.0     4.0   \n",
       "1       8872    62423          56167  490234  2891.0  1140.0   \n",
       "\n",
       "   Tokenscore_query  Tokenscore_title  Tokenscore_desc  Tokenscore_key  \n",
       "0              2267                 0       46000561.0           10820  \n",
       "1              2267                 0       15211447.0              78  "
      ]
     },
     "execution_count": 366,
     "metadata": {},
     "output_type": "execute_result"
    }
   ],
   "source": [
    "merged_test.head(2)"
   ]
  },
  {
   "cell_type": "code",
   "execution_count": 367,
   "metadata": {
    "collapsed": false,
    "scrolled": true
   },
   "outputs": [
    {
     "data": {
      "text/plain": [
       "7896"
      ]
     },
     "execution_count": 367,
     "metadata": {},
     "output_type": "execute_result"
    }
   ],
   "source": [
    "sum(merged_test['#ads'].isnull())"
   ]
  },
  {
   "cell_type": "code",
   "execution_count": 368,
   "metadata": {
    "collapsed": false
   },
   "outputs": [
    {
     "data": {
      "text/plain": [
       "0"
      ]
     },
     "execution_count": 368,
     "metadata": {},
     "output_type": "execute_result"
    }
   ],
   "source": [
    "sum(merged_test['Tokenscore_key'].isnull())"
   ]
  },
  {
   "cell_type": "code",
   "execution_count": 236,
   "metadata": {
    "collapsed": false
   },
   "outputs": [
    {
     "data": {
      "text/plain": [
       "Int64Index([  18,   19,   30,   33,   40,   43,   51,   54,   55,   86,\n",
       "            ...\n",
       "            9945, 9947, 9982, 9983, 9985, 9988, 9991, 9994, 9997, 9998],\n",
       "           dtype='int64', length=2147)"
      ]
     },
     "execution_count": 236,
     "metadata": {},
     "output_type": "execute_result"
    }
   ],
   "source": [
    "merged_test.ix[merged_test['#users'].isnull()].index"
   ]
  },
  {
   "cell_type": "code",
   "execution_count": 73,
   "metadata": {
    "collapsed": false,
    "scrolled": true
   },
   "outputs": [
    {
     "data": {
      "text/plain": [
       "1.0      5115\n",
       "796.0    3630\n",
       "402.0    3520\n",
       "3.0      3052\n",
       "733.0    2796\n",
       "4.0      2376\n",
       "2.0      2346\n",
       "34.0     1514\n",
       "5.0      1370\n",
       "12.0     1294\n",
       "108.0     903\n",
       "6.0       891\n",
       "134.0     804\n",
       "9.0       791\n",
       "14.0      775\n",
       "10.0      670\n",
       "20.0      661\n",
       "8.0       626\n",
       "7.0       613\n",
       "11.0      598\n",
       "167.0     557\n",
       "189.0     535\n",
       "290.0     509\n",
       "169.0     500\n",
       "19.0      436\n",
       "13.0      425\n",
       "16.0      403\n",
       "75.0      390\n",
       "52.0      330\n",
       "57.0      315\n",
       "         ... \n",
       "58.0      263\n",
       "17.0      261\n",
       "140.0     260\n",
       "30.0      249\n",
       "59.0      233\n",
       "27.0      230\n",
       "23.0      210\n",
       "97.0      184\n",
       "50.0      168\n",
       "28.0      150\n",
       "35.0      141\n",
       "54.0      126\n",
       "15.0      121\n",
       "85.0      114\n",
       "47.0      111\n",
       "49.0      102\n",
       "39.0       98\n",
       "72.0       95\n",
       "26.0       85\n",
       "81.0       85\n",
       "25.0       72\n",
       "67.0       69\n",
       "101.0      62\n",
       "29.0       54\n",
       "24.0       43\n",
       "33.0       43\n",
       "45.0       42\n",
       "96.0       39\n",
       "22.0       29\n",
       "32.0       29\n",
       "Name: #ads, dtype: int64"
      ]
     },
     "execution_count": 73,
     "metadata": {},
     "output_type": "execute_result"
    }
   ],
   "source": [
    "merged_test['#ads'].value_counts()"
   ]
  },
  {
   "cell_type": "code",
   "execution_count": 156,
   "metadata": {
    "collapsed": true
   },
   "outputs": [],
   "source": [
    "merged_test['Gender']=merged_test['Gender'].fillna(0)"
   ]
  },
  {
   "cell_type": "code",
   "execution_count": 157,
   "metadata": {
    "collapsed": true
   },
   "outputs": [],
   "source": [
    "merged_test['Age']=merged_test['Age'].fillna(0)"
   ]
  },
  {
   "cell_type": "code",
   "execution_count": 158,
   "metadata": {
    "collapsed": false
   },
   "outputs": [
    {
     "data": {
      "text/plain": [
       "2.0    28829\n",
       "3.0    24171\n",
       "4.0    15926\n",
       "5.0    13283\n",
       "1.0    10932\n",
       "6.0     6582\n",
       "0.0      276\n",
       "Name: Age, dtype: int64"
      ]
     },
     "execution_count": 158,
     "metadata": {},
     "output_type": "execute_result"
    }
   ],
   "source": [
    "merged_test['Age'].value_counts()"
   ]
  },
  {
   "cell_type": "code",
   "execution_count": 369,
   "metadata": {
    "collapsed": false
   },
   "outputs": [],
   "source": [
    "merged_test['#users']=merged_test['#users'].fillna(0)"
   ]
  },
  {
   "cell_type": "code",
   "execution_count": 370,
   "metadata": {
    "collapsed": true
   },
   "outputs": [],
   "source": [
    "merged_test['#ads']=merged_test['#ads'].fillna(0)"
   ]
  },
  {
   "cell_type": "code",
   "execution_count": 371,
   "metadata": {
    "collapsed": true
   },
   "outputs": [],
   "source": [
    "merged_test['Tokenscore_desc']=merged_test['Tokenscore_desc'].fillna(0)"
   ]
  },
  {
   "cell_type": "code",
   "execution_count": 372,
   "metadata": {
    "collapsed": false
   },
   "outputs": [
    {
     "data": {
      "text/plain": [
       "False"
      ]
     },
     "execution_count": 372,
     "metadata": {},
     "output_type": "execute_result"
    }
   ],
   "source": [
    "merged_test.isnull().values.any()"
   ]
  },
  {
   "cell_type": "code",
   "execution_count": 80,
   "metadata": {
    "collapsed": false,
    "scrolled": true
   },
   "outputs": [
    {
     "data": {
      "text/plain": [
       "0.0       6035\n",
       "2453.0    3630\n",
       "2068.0    3520\n",
       "1.0       2806\n",
       "1464.0    2796\n",
       "2.0       2112\n",
       "3.0       1431\n",
       "12.0      1208\n",
       "556.0     1150\n",
       "494.0      903\n",
       "5.0        843\n",
       "4.0        840\n",
       "6.0        827\n",
       "448.0      804\n",
       "167.0      790\n",
       "82.0       749\n",
       "7.0        682\n",
       "15.0       619\n",
       "70.0       618\n",
       "10.0       548\n",
       "345.0      535\n",
       "418.0      509\n",
       "183.0      500\n",
       "8.0        480\n",
       "9.0        456\n",
       "13.0       439\n",
       "115.0      421\n",
       "266.0      394\n",
       "99.0       390\n",
       "35.0       383\n",
       "          ... \n",
       "87.0       114\n",
       "187.0      111\n",
       "114.0      109\n",
       "38.0       107\n",
       "74.0       107\n",
       "28.0       105\n",
       "76.0        98\n",
       "18.0        85\n",
       "203.0       85\n",
       "44.0        84\n",
       "37.0        78\n",
       "23.0        71\n",
       "141.0       71\n",
       "43.0        54\n",
       "107.0       53\n",
       "71.0        51\n",
       "57.0        45\n",
       "55.0        45\n",
       "84.0        42\n",
       "120.0       41\n",
       "193.0       39\n",
       "148.0       22\n",
       "27.0        22\n",
       "117.0       19\n",
       "65.0        19\n",
       "79.0        16\n",
       "58.0        14\n",
       "34.0        10\n",
       "101.0        4\n",
       "235.0        2\n",
       "Name: #users, dtype: int64"
      ]
     },
     "execution_count": 80,
     "metadata": {},
     "output_type": "execute_result"
    }
   ],
   "source": [
    "merged_test['#users'].value_counts()"
   ]
  },
  {
   "cell_type": "code",
   "execution_count": 373,
   "metadata": {
    "collapsed": false
   },
   "outputs": [
    {
     "data": {
      "text/html": [
       "<div>\n",
       "<table border=\"1\" class=\"dataframe\">\n",
       "  <thead>\n",
       "    <tr style=\"text-align: right;\">\n",
       "      <th></th>\n",
       "      <th>DisplayURL</th>\n",
       "      <th>AdID</th>\n",
       "      <th>AdvertiserID</th>\n",
       "      <th>Depth</th>\n",
       "      <th>Position</th>\n",
       "      <th>QueryID</th>\n",
       "      <th>KeywordID</th>\n",
       "      <th>TitleID</th>\n",
       "      <th>DescriptionID</th>\n",
       "      <th>UserID</th>\n",
       "      <th>#users</th>\n",
       "      <th>#ads</th>\n",
       "      <th>Tokenscore_query</th>\n",
       "      <th>Tokenscore_title</th>\n",
       "      <th>Tokenscore_desc</th>\n",
       "      <th>Tokenscore_key</th>\n",
       "    </tr>\n",
       "  </thead>\n",
       "  <tbody>\n",
       "    <tr>\n",
       "      <th>0</th>\n",
       "      <td>5325279403472852193</td>\n",
       "      <td>22166806</td>\n",
       "      <td>38756</td>\n",
       "      <td>3</td>\n",
       "      <td>3</td>\n",
       "      <td>6415</td>\n",
       "      <td>34</td>\n",
       "      <td>3341</td>\n",
       "      <td>2080</td>\n",
       "      <td>490234</td>\n",
       "      <td>11.0</td>\n",
       "      <td>4.0</td>\n",
       "      <td>2267</td>\n",
       "      <td>0</td>\n",
       "      <td>46000561.0</td>\n",
       "      <td>10820</td>\n",
       "    </tr>\n",
       "    <tr>\n",
       "      <th>1</th>\n",
       "      <td>14340390157469404125</td>\n",
       "      <td>3111380</td>\n",
       "      <td>23777</td>\n",
       "      <td>3</td>\n",
       "      <td>1</td>\n",
       "      <td>6415</td>\n",
       "      <td>8872</td>\n",
       "      <td>62423</td>\n",
       "      <td>56167</td>\n",
       "      <td>490234</td>\n",
       "      <td>2891.0</td>\n",
       "      <td>1140.0</td>\n",
       "      <td>2267</td>\n",
       "      <td>0</td>\n",
       "      <td>15211447.0</td>\n",
       "      <td>78</td>\n",
       "    </tr>\n",
       "  </tbody>\n",
       "</table>\n",
       "</div>"
      ],
      "text/plain": [
       "             DisplayURL      AdID  AdvertiserID  Depth  Position  QueryID  \\\n",
       "0   5325279403472852193  22166806         38756      3         3     6415   \n",
       "1  14340390157469404125   3111380         23777      3         1     6415   \n",
       "\n",
       "   KeywordID  TitleID  DescriptionID  UserID  #users    #ads  \\\n",
       "0         34     3341           2080  490234    11.0     4.0   \n",
       "1       8872    62423          56167  490234  2891.0  1140.0   \n",
       "\n",
       "   Tokenscore_query  Tokenscore_title  Tokenscore_desc  Tokenscore_key  \n",
       "0              2267                 0       46000561.0           10820  \n",
       "1              2267                 0       15211447.0              78  "
      ]
     },
     "execution_count": 373,
     "metadata": {},
     "output_type": "execute_result"
    }
   ],
   "source": [
    "merged_test.head(2)"
   ]
  },
  {
   "cell_type": "code",
   "execution_count": 374,
   "metadata": {
    "collapsed": false
   },
   "outputs": [
    {
     "data": {
      "text/plain": [
       "0"
      ]
     },
     "execution_count": 374,
     "metadata": {},
     "output_type": "execute_result"
    }
   ],
   "source": [
    "len(merged_test)-len(merged_test.drop_duplicates())"
   ]
  },
  {
   "cell_type": "code",
   "execution_count": 150,
   "metadata": {
    "collapsed": false,
    "scrolled": true
   },
   "outputs": [
    {
     "data": {
      "text/plain": [
       "0       False\n",
       "1       False\n",
       "2       False\n",
       "3       False\n",
       "4       False\n",
       "5       False\n",
       "6       False\n",
       "7       False\n",
       "8       False\n",
       "9       False\n",
       "10      False\n",
       "11      False\n",
       "12      False\n",
       "13      False\n",
       "14      False\n",
       "15      False\n",
       "16      False\n",
       "17      False\n",
       "18      False\n",
       "19      False\n",
       "20      False\n",
       "21      False\n",
       "22      False\n",
       "23      False\n",
       "24      False\n",
       "25      False\n",
       "26      False\n",
       "27      False\n",
       "28      False\n",
       "29      False\n",
       "        ...  \n",
       "9969    False\n",
       "9970    False\n",
       "9971    False\n",
       "9972    False\n",
       "9973    False\n",
       "9974    False\n",
       "9975    False\n",
       "9976    False\n",
       "9977    False\n",
       "9978    False\n",
       "9979    False\n",
       "9980    False\n",
       "9981    False\n",
       "9982    False\n",
       "9983    False\n",
       "9984    False\n",
       "9985    False\n",
       "9986    False\n",
       "9987    False\n",
       "9988    False\n",
       "9989    False\n",
       "9990    False\n",
       "9991    False\n",
       "9992    False\n",
       "9993    False\n",
       "9994    False\n",
       "9995    False\n",
       "9996    False\n",
       "9997    False\n",
       "9998    False\n",
       "dtype: bool"
      ]
     },
     "execution_count": 150,
     "metadata": {},
     "output_type": "execute_result"
    }
   ],
   "source": [
    "merged_test.duplicated()#checking duplicate values"
   ]
  },
  {
   "cell_type": "code",
   "execution_count": 164,
   "metadata": {
    "collapsed": true
   },
   "outputs": [],
   "source": [
    "merged_test.drop_duplicates(inplace = True)"
   ]
  },
  {
   "cell_type": "code",
   "execution_count": 165,
   "metadata": {
    "collapsed": false
   },
   "outputs": [
    {
     "data": {
      "text/plain": [
       "99999"
      ]
     },
     "execution_count": 165,
     "metadata": {},
     "output_type": "execute_result"
    }
   ],
   "source": [
    "len(merged_test)"
   ]
  },
  {
   "cell_type": "code",
   "execution_count": 375,
   "metadata": {
    "collapsed": true
   },
   "outputs": [],
   "source": [
    "merged_test.drop(['DisplayURL','QueryID','KeywordID','TitleID','DescriptionID','AdID','AdvertiserID','UserID'], axis=1, inplace=True)"
   ]
  },
  {
   "cell_type": "code",
   "execution_count": 376,
   "metadata": {
    "collapsed": false
   },
   "outputs": [
    {
     "data": {
      "text/html": [
       "<div>\n",
       "<table border=\"1\" class=\"dataframe\">\n",
       "  <thead>\n",
       "    <tr style=\"text-align: right;\">\n",
       "      <th></th>\n",
       "      <th>Depth</th>\n",
       "      <th>Position</th>\n",
       "      <th>#users</th>\n",
       "      <th>#ads</th>\n",
       "      <th>Tokenscore_query</th>\n",
       "      <th>Tokenscore_title</th>\n",
       "      <th>Tokenscore_desc</th>\n",
       "      <th>Tokenscore_key</th>\n",
       "    </tr>\n",
       "  </thead>\n",
       "  <tbody>\n",
       "    <tr>\n",
       "      <th>0</th>\n",
       "      <td>3</td>\n",
       "      <td>3</td>\n",
       "      <td>11.0</td>\n",
       "      <td>4.0</td>\n",
       "      <td>2267</td>\n",
       "      <td>0</td>\n",
       "      <td>46000561.0</td>\n",
       "      <td>10820</td>\n",
       "    </tr>\n",
       "    <tr>\n",
       "      <th>1</th>\n",
       "      <td>3</td>\n",
       "      <td>1</td>\n",
       "      <td>2891.0</td>\n",
       "      <td>1140.0</td>\n",
       "      <td>2267</td>\n",
       "      <td>0</td>\n",
       "      <td>15211447.0</td>\n",
       "      <td>78</td>\n",
       "    </tr>\n",
       "  </tbody>\n",
       "</table>\n",
       "</div>"
      ],
      "text/plain": [
       "   Depth  Position  #users    #ads  Tokenscore_query  Tokenscore_title  \\\n",
       "0      3         3    11.0     4.0              2267                 0   \n",
       "1      3         1  2891.0  1140.0              2267                 0   \n",
       "\n",
       "   Tokenscore_desc  Tokenscore_key  \n",
       "0       46000561.0           10820  \n",
       "1       15211447.0              78  "
      ]
     },
     "execution_count": 376,
     "metadata": {},
     "output_type": "execute_result"
    }
   ],
   "source": [
    "merged_test.head(2)"
   ]
  },
  {
   "cell_type": "code",
   "execution_count": 377,
   "metadata": {
    "collapsed": false
   },
   "outputs": [
    {
     "data": {
      "text/plain": [
       "99999"
      ]
     },
     "execution_count": 377,
     "metadata": {},
     "output_type": "execute_result"
    }
   ],
   "source": [
    "len(merged_test)"
   ]
  },
  {
   "cell_type": "code",
   "execution_count": 378,
   "metadata": {
    "collapsed": true
   },
   "outputs": [],
   "source": [
    "merged_test.to_csv(\"C:/Users/Harika Konagala/Desktop/kddcup/testtokens_100k.txt\",sep='\\t')"
   ]
  },
  {
   "cell_type": "code",
   "execution_count": 157,
   "metadata": {
    "collapsed": true
   },
   "outputs": [],
   "source": [
    "#dummies for train and test"
   ]
  },
  {
   "cell_type": "code",
   "execution_count": 159,
   "metadata": {
    "collapsed": false
   },
   "outputs": [
    {
     "data": {
      "text/plain": [
       "Index([u'DisplayURL', u'AdID', u'AdvertiserID', u'Depth', u'Position',\n",
       "       u'QueryID', u'KeywordID', u'TitleID', u'DescriptionID', u'UserID',\n",
       "       u'#users', u'#ads', u'Tokenscore_query', u'Tokenscore_title',\n",
       "       u'Tokenscore_desc', u'Tokenscore_key'],\n",
       "      dtype='object')"
      ]
     },
     "execution_count": 159,
     "metadata": {},
     "output_type": "execute_result"
    }
   ],
   "source": [
    "merged_train.columns"
   ]
  },
  {
   "cell_type": "code",
   "execution_count": null,
   "metadata": {
    "collapsed": true
   },
   "outputs": [],
   "source": []
  },
  {
   "cell_type": "code",
   "execution_count": null,
   "metadata": {
    "collapsed": true
   },
   "outputs": [],
   "source": []
  },
  {
   "cell_type": "code",
   "execution_count": null,
   "metadata": {
    "collapsed": true
   },
   "outputs": [],
   "source": []
  },
  {
   "cell_type": "code",
   "execution_count": null,
   "metadata": {
    "collapsed": true
   },
   "outputs": [],
   "source": []
  },
  {
   "cell_type": "code",
   "execution_count": null,
   "metadata": {
    "collapsed": true
   },
   "outputs": [],
   "source": []
  },
  {
   "cell_type": "code",
   "execution_count": null,
   "metadata": {
    "collapsed": true
   },
   "outputs": [],
   "source": []
  },
  {
   "cell_type": "code",
   "execution_count": null,
   "metadata": {
    "collapsed": true
   },
   "outputs": [],
   "source": []
  },
  {
   "cell_type": "code",
   "execution_count": null,
   "metadata": {
    "collapsed": true
   },
   "outputs": [],
   "source": []
  },
  {
   "cell_type": "code",
   "execution_count": null,
   "metadata": {
    "collapsed": true
   },
   "outputs": [],
   "source": []
  },
  {
   "cell_type": "code",
   "execution_count": null,
   "metadata": {
    "collapsed": true
   },
   "outputs": [],
   "source": []
  },
  {
   "cell_type": "code",
   "execution_count": 21,
   "metadata": {
    "collapsed": true
   },
   "outputs": [],
   "source": [
    "#merge_user=merge_user.dropna(axis=0)"
   ]
  },
  {
   "cell_type": "code",
   "execution_count": 22,
   "metadata": {
    "collapsed": true
   },
   "outputs": [],
   "source": [
    "#merge_user.drop_duplicates(inplace = True)"
   ]
  },
  {
   "cell_type": "code",
   "execution_count": 23,
   "metadata": {
    "collapsed": false
   },
   "outputs": [
    {
     "data": {
      "text/plain": [
       "497720"
      ]
     },
     "execution_count": 23,
     "metadata": {},
     "output_type": "execute_result"
    }
   ],
   "source": [
    "#len(merge_user)"
   ]
  },
  {
   "cell_type": "code",
   "execution_count": 27,
   "metadata": {
    "collapsed": true
   },
   "outputs": [],
   "source": [
    "#one hot encoding for age,gender,depth,position"
   ]
  },
  {
   "cell_type": "code",
   "execution_count": 28,
   "metadata": {
    "collapsed": true
   },
   "outputs": [],
   "source": [
    "dummy_variables = pd.get_dummies(merge_user['Age'], prefix='Age')"
   ]
  },
  {
   "cell_type": "code",
   "execution_count": 29,
   "metadata": {
    "collapsed": true
   },
   "outputs": [],
   "source": [
    "dummy_variables = pd.concat([dummy_variables, pd.get_dummies(merge_user['Gender'], prefix = 'Gender')], axis=1)"
   ]
  },
  {
   "cell_type": "code",
   "execution_count": 30,
   "metadata": {
    "collapsed": true
   },
   "outputs": [],
   "source": [
    "dummy_variables = pd.concat([dummy_variables, pd.get_dummies(merge_user['Depth'], prefix = 'Depth')], axis=1)"
   ]
  },
  {
   "cell_type": "code",
   "execution_count": 31,
   "metadata": {
    "collapsed": true
   },
   "outputs": [],
   "source": [
    "dummy_variables = pd.concat([dummy_variables, pd.get_dummies(merge_user['Position'], prefix = 'Position')], axis=1)"
   ]
  },
  {
   "cell_type": "code",
   "execution_count": 32,
   "metadata": {
    "collapsed": true
   },
   "outputs": [],
   "source": [
    "train_data = pd.concat([merge_user, dummy_variables], axis=1)"
   ]
  },
  {
   "cell_type": "code",
   "execution_count": 33,
   "metadata": {
    "collapsed": false
   },
   "outputs": [
    {
     "data": {
      "text/html": [
       "<div>\n",
       "<table border=\"1\" class=\"dataframe\">\n",
       "  <thead>\n",
       "    <tr style=\"text-align: right;\">\n",
       "      <th></th>\n",
       "      <th>Click</th>\n",
       "      <th>Impression</th>\n",
       "      <th>DisplayURL</th>\n",
       "      <th>AdID</th>\n",
       "      <th>AdvertiserID</th>\n",
       "      <th>Depth</th>\n",
       "      <th>Position</th>\n",
       "      <th>QueryID</th>\n",
       "      <th>KeywordID</th>\n",
       "      <th>TitleID</th>\n",
       "      <th>...</th>\n",
       "      <th>Age_6</th>\n",
       "      <th>Gender_0</th>\n",
       "      <th>Gender_1</th>\n",
       "      <th>Gender_2</th>\n",
       "      <th>Depth_1</th>\n",
       "      <th>Depth_2</th>\n",
       "      <th>Depth_3</th>\n",
       "      <th>Position_1</th>\n",
       "      <th>Position_2</th>\n",
       "      <th>Position_3</th>\n",
       "    </tr>\n",
       "  </thead>\n",
       "  <tbody>\n",
       "    <tr>\n",
       "      <th>0</th>\n",
       "      <td>0</td>\n",
       "      <td>1</td>\n",
       "      <td>4298118681424644510</td>\n",
       "      <td>7686695</td>\n",
       "      <td>385</td>\n",
       "      <td>3</td>\n",
       "      <td>3</td>\n",
       "      <td>1601</td>\n",
       "      <td>5521</td>\n",
       "      <td>7709</td>\n",
       "      <td>...</td>\n",
       "      <td>0.0</td>\n",
       "      <td>0.0</td>\n",
       "      <td>1.0</td>\n",
       "      <td>0.0</td>\n",
       "      <td>0.0</td>\n",
       "      <td>0.0</td>\n",
       "      <td>1.0</td>\n",
       "      <td>0.0</td>\n",
       "      <td>0.0</td>\n",
       "      <td>1.0</td>\n",
       "    </tr>\n",
       "    <tr>\n",
       "      <th>1</th>\n",
       "      <td>0</td>\n",
       "      <td>1</td>\n",
       "      <td>4860571499428580850</td>\n",
       "      <td>21560664</td>\n",
       "      <td>37484</td>\n",
       "      <td>2</td>\n",
       "      <td>2</td>\n",
       "      <td>2255103</td>\n",
       "      <td>317</td>\n",
       "      <td>48989</td>\n",
       "      <td>...</td>\n",
       "      <td>0.0</td>\n",
       "      <td>0.0</td>\n",
       "      <td>1.0</td>\n",
       "      <td>0.0</td>\n",
       "      <td>0.0</td>\n",
       "      <td>1.0</td>\n",
       "      <td>0.0</td>\n",
       "      <td>0.0</td>\n",
       "      <td>1.0</td>\n",
       "      <td>0.0</td>\n",
       "    </tr>\n",
       "    <tr>\n",
       "      <th>2</th>\n",
       "      <td>0</td>\n",
       "      <td>1</td>\n",
       "      <td>4860571499428580850</td>\n",
       "      <td>21560710</td>\n",
       "      <td>37484</td>\n",
       "      <td>2</td>\n",
       "      <td>2</td>\n",
       "      <td>4165614</td>\n",
       "      <td>4107</td>\n",
       "      <td>338524</td>\n",
       "      <td>...</td>\n",
       "      <td>0.0</td>\n",
       "      <td>0.0</td>\n",
       "      <td>1.0</td>\n",
       "      <td>0.0</td>\n",
       "      <td>0.0</td>\n",
       "      <td>1.0</td>\n",
       "      <td>0.0</td>\n",
       "      <td>0.0</td>\n",
       "      <td>1.0</td>\n",
       "      <td>0.0</td>\n",
       "    </tr>\n",
       "    <tr>\n",
       "      <th>3</th>\n",
       "      <td>0</td>\n",
       "      <td>1</td>\n",
       "      <td>4860571499428580850</td>\n",
       "      <td>21560710</td>\n",
       "      <td>37484</td>\n",
       "      <td>2</td>\n",
       "      <td>2</td>\n",
       "      <td>4165614</td>\n",
       "      <td>4107</td>\n",
       "      <td>338524</td>\n",
       "      <td>...</td>\n",
       "      <td>0.0</td>\n",
       "      <td>0.0</td>\n",
       "      <td>1.0</td>\n",
       "      <td>0.0</td>\n",
       "      <td>0.0</td>\n",
       "      <td>1.0</td>\n",
       "      <td>0.0</td>\n",
       "      <td>0.0</td>\n",
       "      <td>1.0</td>\n",
       "      <td>0.0</td>\n",
       "    </tr>\n",
       "    <tr>\n",
       "      <th>4</th>\n",
       "      <td>0</td>\n",
       "      <td>1</td>\n",
       "      <td>9704320783495875564</td>\n",
       "      <td>21748480</td>\n",
       "      <td>36759</td>\n",
       "      <td>3</td>\n",
       "      <td>3</td>\n",
       "      <td>4532751</td>\n",
       "      <td>60721</td>\n",
       "      <td>685038</td>\n",
       "      <td>...</td>\n",
       "      <td>0.0</td>\n",
       "      <td>0.0</td>\n",
       "      <td>1.0</td>\n",
       "      <td>0.0</td>\n",
       "      <td>0.0</td>\n",
       "      <td>0.0</td>\n",
       "      <td>1.0</td>\n",
       "      <td>0.0</td>\n",
       "      <td>0.0</td>\n",
       "      <td>1.0</td>\n",
       "    </tr>\n",
       "  </tbody>\n",
       "</table>\n",
       "<p>5 rows × 31 columns</p>\n",
       "</div>"
      ],
      "text/plain": [
       "   Click  Impression           DisplayURL      AdID  AdvertiserID  Depth  \\\n",
       "0      0           1  4298118681424644510   7686695           385      3   \n",
       "1      0           1  4860571499428580850  21560664         37484      2   \n",
       "2      0           1  4860571499428580850  21560710         37484      2   \n",
       "3      0           1  4860571499428580850  21560710         37484      2   \n",
       "4      0           1  9704320783495875564  21748480         36759      3   \n",
       "\n",
       "   Position  QueryID  KeywordID  TitleID     ...      Age_6  Gender_0  \\\n",
       "0         3     1601       5521     7709     ...        0.0       0.0   \n",
       "1         2  2255103        317    48989     ...        0.0       0.0   \n",
       "2         2  4165614       4107   338524     ...        0.0       0.0   \n",
       "3         2  4165614       4107   338524     ...        0.0       0.0   \n",
       "4         3  4532751      60721   685038     ...        0.0       0.0   \n",
       "\n",
       "   Gender_1  Gender_2  Depth_1  Depth_2  Depth_3  Position_1  Position_2  \\\n",
       "0       1.0       0.0      0.0      0.0      1.0         0.0         0.0   \n",
       "1       1.0       0.0      0.0      1.0      0.0         0.0         1.0   \n",
       "2       1.0       0.0      0.0      1.0      0.0         0.0         1.0   \n",
       "3       1.0       0.0      0.0      1.0      0.0         0.0         1.0   \n",
       "4       1.0       0.0      0.0      0.0      1.0         0.0         0.0   \n",
       "\n",
       "   Position_3  \n",
       "0         1.0  \n",
       "1         0.0  \n",
       "2         0.0  \n",
       "3         0.0  \n",
       "4         1.0  \n",
       "\n",
       "[5 rows x 31 columns]"
      ]
     },
     "execution_count": 33,
     "metadata": {},
     "output_type": "execute_result"
    }
   ],
   "source": [
    "train_data.head(5)"
   ]
  },
  {
   "cell_type": "code",
   "execution_count": 24,
   "metadata": {
    "collapsed": false
   },
   "outputs": [
    {
     "data": {
      "text/plain": [
       "Index([u'Click', u'Impression', u'DisplayURL', u'AdID', u'AdvertiserID',\n",
       "       u'Depth', u'Position', u'QueryID', u'KeywordID', u'TitleID',\n",
       "       u'DescriptionID', u'UserID', u'#users', u'#ads', u'Gender', u'Age'],\n",
       "      dtype='object')"
      ]
     },
     "execution_count": 24,
     "metadata": {},
     "output_type": "execute_result"
    }
   ],
   "source": [
    "#train_data.columns\n",
    "merge_user.columns"
   ]
  },
  {
   "cell_type": "code",
   "execution_count": 35,
   "metadata": {
    "collapsed": true
   },
   "outputs": [],
   "source": [
    "train_data.drop(['Depth','Position','Gender','Age'], axis=1, inplace=True)"
   ]
  },
  {
   "cell_type": "code",
   "execution_count": 25,
   "metadata": {
    "collapsed": true
   },
   "outputs": [],
   "source": [
    "#train_data.drop(['DisplayURL','AdID','AdvertiserID'], axis=1, inplace=True)\n",
    "merge_user.drop(['DisplayURL','AdID','AdvertiserID'], axis=1, inplace=True)\n"
   ]
  },
  {
   "cell_type": "code",
   "execution_count": 27,
   "metadata": {
    "collapsed": false
   },
   "outputs": [],
   "source": [
    "#train_data=train_data.dropna(axis=0)\n",
    "merge_user=merge_user.dropna(axis=0)"
   ]
  },
  {
   "cell_type": "code",
   "execution_count": 28,
   "metadata": {
    "collapsed": true
   },
   "outputs": [],
   "source": [
    "#train_data.drop_duplicates(inplace = True)\n",
    "merge_user.drop_duplicates(inplace = True)"
   ]
  },
  {
   "cell_type": "code",
   "execution_count": 29,
   "metadata": {
    "collapsed": false
   },
   "outputs": [
    {
     "data": {
      "text/plain": [
       "497338"
      ]
     },
     "execution_count": 29,
     "metadata": {},
     "output_type": "execute_result"
    }
   ],
   "source": [
    "#len(train_data)\n",
    "len(merge_user)"
   ]
  },
  {
   "cell_type": "code",
   "execution_count": 30,
   "metadata": {
    "collapsed": true
   },
   "outputs": [],
   "source": [
    "#train_data.drop(['UserID'], axis=1, inplace=True)\n",
    "merge_user.drop(['UserID'], axis=1, inplace=True)"
   ]
  },
  {
   "cell_type": "code",
   "execution_count": 31,
   "metadata": {
    "collapsed": false
   },
   "outputs": [
    {
     "data": {
      "text/html": [
       "<div>\n",
       "<table border=\"1\" class=\"dataframe\">\n",
       "  <thead>\n",
       "    <tr style=\"text-align: right;\">\n",
       "      <th></th>\n",
       "      <th>Click</th>\n",
       "      <th>Impression</th>\n",
       "      <th>Depth</th>\n",
       "      <th>Position</th>\n",
       "      <th>QueryID</th>\n",
       "      <th>KeywordID</th>\n",
       "      <th>TitleID</th>\n",
       "      <th>DescriptionID</th>\n",
       "      <th>#users</th>\n",
       "      <th>#ads</th>\n",
       "      <th>Gender</th>\n",
       "      <th>Age</th>\n",
       "    </tr>\n",
       "  </thead>\n",
       "  <tbody>\n",
       "    <tr>\n",
       "      <th>0</th>\n",
       "      <td>0</td>\n",
       "      <td>1</td>\n",
       "      <td>3</td>\n",
       "      <td>3</td>\n",
       "      <td>1601</td>\n",
       "      <td>5521</td>\n",
       "      <td>7709</td>\n",
       "      <td>576</td>\n",
       "      <td>3547</td>\n",
       "      <td>1799</td>\n",
       "      <td>1</td>\n",
       "      <td>3</td>\n",
       "    </tr>\n",
       "    <tr>\n",
       "      <th>1</th>\n",
       "      <td>0</td>\n",
       "      <td>1</td>\n",
       "      <td>2</td>\n",
       "      <td>2</td>\n",
       "      <td>2255103</td>\n",
       "      <td>317</td>\n",
       "      <td>48989</td>\n",
       "      <td>44771</td>\n",
       "      <td>47</td>\n",
       "      <td>6</td>\n",
       "      <td>1</td>\n",
       "      <td>3</td>\n",
       "    </tr>\n",
       "  </tbody>\n",
       "</table>\n",
       "</div>"
      ],
      "text/plain": [
       "   Click  Impression  Depth  Position  QueryID  KeywordID  TitleID  \\\n",
       "0      0           1      3         3     1601       5521     7709   \n",
       "1      0           1      2         2  2255103        317    48989   \n",
       "\n",
       "   DescriptionID  #users  #ads  Gender  Age  \n",
       "0            576    3547  1799       1    3  \n",
       "1          44771      47     6       1    3  "
      ]
     },
     "execution_count": 31,
     "metadata": {},
     "output_type": "execute_result"
    }
   ],
   "source": [
    "#train_data.head(2)\n",
    "merge_user.head(2)"
   ]
  },
  {
   "cell_type": "code",
   "execution_count": 32,
   "metadata": {
    "collapsed": true
   },
   "outputs": [],
   "source": [
    "merge_user.to_csv(\"/Users/phani/dev/projects/harriee/dsproject/actual_train.txt\",sep='\\t')"
   ]
  },
  {
   "cell_type": "code",
   "execution_count": 44,
   "metadata": {
    "collapsed": true
   },
   "outputs": [],
   "source": [
    "#load test and repeat the same process"
   ]
  },
  {
   "cell_type": "code",
   "execution_count": 93,
   "metadata": {
    "collapsed": false
   },
   "outputs": [],
   "source": [
    "loadtest = pd.read_csv(\"/Users/phani/dev/projects/harriee/dsproject/test/test.txt\",sep=\"\\s+\",names=['DisplayURL','AdID','AdvertiserID','Depth','Position','QueryID','KeywordID','TitleID','DescriptionID','UserID'],nrows=499999)"
   ]
  },
  {
   "cell_type": "code",
   "execution_count": 94,
   "metadata": {
    "collapsed": true
   },
   "outputs": [],
   "source": [
    "testcopy=loadtest.copy()"
   ]
  },
  {
   "cell_type": "code",
   "execution_count": 95,
   "metadata": {
    "collapsed": false
   },
   "outputs": [
    {
     "data": {
      "text/html": [
       "<div>\n",
       "<table border=\"1\" class=\"dataframe\">\n",
       "  <thead>\n",
       "    <tr style=\"text-align: right;\">\n",
       "      <th></th>\n",
       "      <th>AdvertiserID</th>\n",
       "      <th>#users</th>\n",
       "      <th>#ads</th>\n",
       "    </tr>\n",
       "  </thead>\n",
       "  <tbody>\n",
       "    <tr>\n",
       "      <th>0</th>\n",
       "      <td>81</td>\n",
       "      <td>9</td>\n",
       "      <td>1</td>\n",
       "    </tr>\n",
       "    <tr>\n",
       "      <th>1</th>\n",
       "      <td>82</td>\n",
       "      <td>294</td>\n",
       "      <td>1</td>\n",
       "    </tr>\n",
       "    <tr>\n",
       "      <th>2</th>\n",
       "      <td>83</td>\n",
       "      <td>4</td>\n",
       "      <td>4</td>\n",
       "    </tr>\n",
       "    <tr>\n",
       "      <th>3</th>\n",
       "      <td>85</td>\n",
       "      <td>7</td>\n",
       "      <td>6</td>\n",
       "    </tr>\n",
       "    <tr>\n",
       "      <th>4</th>\n",
       "      <td>87</td>\n",
       "      <td>12</td>\n",
       "      <td>4</td>\n",
       "    </tr>\n",
       "  </tbody>\n",
       "</table>\n",
       "</div>"
      ],
      "text/plain": [
       "   AdvertiserID  #users  #ads\n",
       "0            81       9     1\n",
       "1            82     294     1\n",
       "2            83       4     4\n",
       "3            85       7     6\n",
       "4            87      12     4"
      ]
     },
     "execution_count": 95,
     "metadata": {},
     "output_type": "execute_result"
    }
   ],
   "source": [
    "merge_adv.head(5)"
   ]
  },
  {
   "cell_type": "code",
   "execution_count": 96,
   "metadata": {
    "collapsed": true
   },
   "outputs": [],
   "source": [
    "advertiser_test = pd.merge(left=testcopy,right=merge_adv, how='left',left_on='AdvertiserID', right_on='AdvertiserID')"
   ]
  },
  {
   "cell_type": "code",
   "execution_count": 97,
   "metadata": {
    "collapsed": true
   },
   "outputs": [],
   "source": [
    "#merged_left = pd.merge(left=survey_sub,right=species_sub, how='left', left_on='species_id', right_on='species_id')"
   ]
  },
  {
   "cell_type": "code",
   "execution_count": 98,
   "metadata": {
    "collapsed": true
   },
   "outputs": [],
   "source": [
    "testcopy1=advertiser_test.copy()"
   ]
  },
  {
   "cell_type": "code",
   "execution_count": 99,
   "metadata": {
    "collapsed": false
   },
   "outputs": [
    {
     "data": {
      "text/html": [
       "<div>\n",
       "<table border=\"1\" class=\"dataframe\">\n",
       "  <thead>\n",
       "    <tr style=\"text-align: right;\">\n",
       "      <th></th>\n",
       "      <th>DisplayURL</th>\n",
       "      <th>AdID</th>\n",
       "      <th>AdvertiserID</th>\n",
       "      <th>Depth</th>\n",
       "      <th>Position</th>\n",
       "      <th>QueryID</th>\n",
       "      <th>KeywordID</th>\n",
       "      <th>TitleID</th>\n",
       "      <th>DescriptionID</th>\n",
       "      <th>UserID</th>\n",
       "      <th>#users</th>\n",
       "      <th>#ads</th>\n",
       "    </tr>\n",
       "  </thead>\n",
       "  <tbody>\n",
       "    <tr>\n",
       "      <th>0</th>\n",
       "      <td>5325279403472852193</td>\n",
       "      <td>22166806</td>\n",
       "      <td>38756</td>\n",
       "      <td>3</td>\n",
       "      <td>3</td>\n",
       "      <td>6415</td>\n",
       "      <td>34</td>\n",
       "      <td>3341</td>\n",
       "      <td>2080</td>\n",
       "      <td>490234</td>\n",
       "      <td>40.0</td>\n",
       "      <td>11.0</td>\n",
       "    </tr>\n",
       "    <tr>\n",
       "      <th>1</th>\n",
       "      <td>14340390157469404125</td>\n",
       "      <td>3111380</td>\n",
       "      <td>23777</td>\n",
       "      <td>3</td>\n",
       "      <td>1</td>\n",
       "      <td>6415</td>\n",
       "      <td>8872</td>\n",
       "      <td>62423</td>\n",
       "      <td>56167</td>\n",
       "      <td>490234</td>\n",
       "      <td>14471.0</td>\n",
       "      <td>3138.0</td>\n",
       "    </tr>\n",
       "    <tr>\n",
       "      <th>2</th>\n",
       "      <td>16772851793638846604</td>\n",
       "      <td>22111129</td>\n",
       "      <td>38584</td>\n",
       "      <td>3</td>\n",
       "      <td>2</td>\n",
       "      <td>6415</td>\n",
       "      <td>8872</td>\n",
       "      <td>454986</td>\n",
       "      <td>378040</td>\n",
       "      <td>490234</td>\n",
       "      <td>102.0</td>\n",
       "      <td>44.0</td>\n",
       "    </tr>\n",
       "    <tr>\n",
       "      <th>3</th>\n",
       "      <td>5325279403472852193</td>\n",
       "      <td>22166807</td>\n",
       "      <td>38756</td>\n",
       "      <td>2</td>\n",
       "      <td>1</td>\n",
       "      <td>83</td>\n",
       "      <td>34</td>\n",
       "      <td>5360</td>\n",
       "      <td>2080</td>\n",
       "      <td>490234</td>\n",
       "      <td>40.0</td>\n",
       "      <td>11.0</td>\n",
       "    </tr>\n",
       "    <tr>\n",
       "      <th>4</th>\n",
       "      <td>12057878999086460853</td>\n",
       "      <td>20180629</td>\n",
       "      <td>27961</td>\n",
       "      <td>2</td>\n",
       "      <td>2</td>\n",
       "      <td>83</td>\n",
       "      <td>34</td>\n",
       "      <td>328</td>\n",
       "      <td>455</td>\n",
       "      <td>490234</td>\n",
       "      <td>24742.0</td>\n",
       "      <td>1938.0</td>\n",
       "    </tr>\n",
       "  </tbody>\n",
       "</table>\n",
       "</div>"
      ],
      "text/plain": [
       "             DisplayURL      AdID  AdvertiserID  Depth  Position  QueryID  \\\n",
       "0   5325279403472852193  22166806         38756      3         3     6415   \n",
       "1  14340390157469404125   3111380         23777      3         1     6415   \n",
       "2  16772851793638846604  22111129         38584      3         2     6415   \n",
       "3   5325279403472852193  22166807         38756      2         1       83   \n",
       "4  12057878999086460853  20180629         27961      2         2       83   \n",
       "\n",
       "   KeywordID  TitleID  DescriptionID  UserID   #users    #ads  \n",
       "0         34     3341           2080  490234     40.0    11.0  \n",
       "1       8872    62423          56167  490234  14471.0  3138.0  \n",
       "2       8872   454986         378040  490234    102.0    44.0  \n",
       "3         34     5360           2080  490234     40.0    11.0  \n",
       "4         34      328            455  490234  24742.0  1938.0  "
      ]
     },
     "execution_count": 99,
     "metadata": {},
     "output_type": "execute_result"
    }
   ],
   "source": [
    "testcopy1.head(5)"
   ]
  },
  {
   "cell_type": "code",
   "execution_count": 100,
   "metadata": {
    "collapsed": false
   },
   "outputs": [
    {
     "data": {
      "text/plain": [
       "499999"
      ]
     },
     "execution_count": 100,
     "metadata": {},
     "output_type": "execute_result"
    }
   ],
   "source": [
    "len(testcopy1)"
   ]
  },
  {
   "cell_type": "code",
   "execution_count": 101,
   "metadata": {
    "collapsed": true
   },
   "outputs": [],
   "source": [
    "test_user = pd.merge(left=testcopy1,right=user, how='left',left_on='UserID', right_on='UserID')"
   ]
  },
  {
   "cell_type": "code",
   "execution_count": 102,
   "metadata": {
    "collapsed": false
   },
   "outputs": [
    {
     "data": {
      "text/html": [
       "<div>\n",
       "<table border=\"1\" class=\"dataframe\">\n",
       "  <thead>\n",
       "    <tr style=\"text-align: right;\">\n",
       "      <th></th>\n",
       "      <th>DisplayURL</th>\n",
       "      <th>AdID</th>\n",
       "      <th>AdvertiserID</th>\n",
       "      <th>Depth</th>\n",
       "      <th>Position</th>\n",
       "      <th>QueryID</th>\n",
       "      <th>KeywordID</th>\n",
       "      <th>TitleID</th>\n",
       "      <th>DescriptionID</th>\n",
       "      <th>UserID</th>\n",
       "      <th>#users</th>\n",
       "      <th>#ads</th>\n",
       "      <th>Gender</th>\n",
       "      <th>Age</th>\n",
       "    </tr>\n",
       "  </thead>\n",
       "  <tbody>\n",
       "    <tr>\n",
       "      <th>0</th>\n",
       "      <td>5325279403472852193</td>\n",
       "      <td>22166806</td>\n",
       "      <td>38756</td>\n",
       "      <td>3</td>\n",
       "      <td>3</td>\n",
       "      <td>6415</td>\n",
       "      <td>34</td>\n",
       "      <td>3341</td>\n",
       "      <td>2080</td>\n",
       "      <td>490234</td>\n",
       "      <td>40.0</td>\n",
       "      <td>11.0</td>\n",
       "      <td>1.0</td>\n",
       "      <td>3.0</td>\n",
       "    </tr>\n",
       "    <tr>\n",
       "      <th>1</th>\n",
       "      <td>14340390157469404125</td>\n",
       "      <td>3111380</td>\n",
       "      <td>23777</td>\n",
       "      <td>3</td>\n",
       "      <td>1</td>\n",
       "      <td>6415</td>\n",
       "      <td>8872</td>\n",
       "      <td>62423</td>\n",
       "      <td>56167</td>\n",
       "      <td>490234</td>\n",
       "      <td>14471.0</td>\n",
       "      <td>3138.0</td>\n",
       "      <td>1.0</td>\n",
       "      <td>3.0</td>\n",
       "    </tr>\n",
       "    <tr>\n",
       "      <th>2</th>\n",
       "      <td>16772851793638846604</td>\n",
       "      <td>22111129</td>\n",
       "      <td>38584</td>\n",
       "      <td>3</td>\n",
       "      <td>2</td>\n",
       "      <td>6415</td>\n",
       "      <td>8872</td>\n",
       "      <td>454986</td>\n",
       "      <td>378040</td>\n",
       "      <td>490234</td>\n",
       "      <td>102.0</td>\n",
       "      <td>44.0</td>\n",
       "      <td>1.0</td>\n",
       "      <td>3.0</td>\n",
       "    </tr>\n",
       "    <tr>\n",
       "      <th>3</th>\n",
       "      <td>5325279403472852193</td>\n",
       "      <td>22166807</td>\n",
       "      <td>38756</td>\n",
       "      <td>2</td>\n",
       "      <td>1</td>\n",
       "      <td>83</td>\n",
       "      <td>34</td>\n",
       "      <td>5360</td>\n",
       "      <td>2080</td>\n",
       "      <td>490234</td>\n",
       "      <td>40.0</td>\n",
       "      <td>11.0</td>\n",
       "      <td>1.0</td>\n",
       "      <td>3.0</td>\n",
       "    </tr>\n",
       "    <tr>\n",
       "      <th>4</th>\n",
       "      <td>12057878999086460853</td>\n",
       "      <td>20180629</td>\n",
       "      <td>27961</td>\n",
       "      <td>2</td>\n",
       "      <td>2</td>\n",
       "      <td>83</td>\n",
       "      <td>34</td>\n",
       "      <td>328</td>\n",
       "      <td>455</td>\n",
       "      <td>490234</td>\n",
       "      <td>24742.0</td>\n",
       "      <td>1938.0</td>\n",
       "      <td>1.0</td>\n",
       "      <td>3.0</td>\n",
       "    </tr>\n",
       "  </tbody>\n",
       "</table>\n",
       "</div>"
      ],
      "text/plain": [
       "             DisplayURL      AdID  AdvertiserID  Depth  Position  QueryID  \\\n",
       "0   5325279403472852193  22166806         38756      3         3     6415   \n",
       "1  14340390157469404125   3111380         23777      3         1     6415   \n",
       "2  16772851793638846604  22111129         38584      3         2     6415   \n",
       "3   5325279403472852193  22166807         38756      2         1       83   \n",
       "4  12057878999086460853  20180629         27961      2         2       83   \n",
       "\n",
       "   KeywordID  TitleID  DescriptionID  UserID   #users    #ads  Gender  Age  \n",
       "0         34     3341           2080  490234     40.0    11.0     1.0  3.0  \n",
       "1       8872    62423          56167  490234  14471.0  3138.0     1.0  3.0  \n",
       "2       8872   454986         378040  490234    102.0    44.0     1.0  3.0  \n",
       "3         34     5360           2080  490234     40.0    11.0     1.0  3.0  \n",
       "4         34      328            455  490234  24742.0  1938.0     1.0  3.0  "
      ]
     },
     "execution_count": 102,
     "metadata": {},
     "output_type": "execute_result"
    }
   ],
   "source": [
    "test_user.head(5)"
   ]
  },
  {
   "cell_type": "code",
   "execution_count": 90,
   "metadata": {
    "collapsed": true
   },
   "outputs": [],
   "source": [
    "#test_user=test_user.dropna(axis=0)"
   ]
  },
  {
   "cell_type": "code",
   "execution_count": 91,
   "metadata": {
    "collapsed": true
   },
   "outputs": [],
   "source": [
    "#test_user.drop_duplicates(inplace = True)"
   ]
  },
  {
   "cell_type": "code",
   "execution_count": 103,
   "metadata": {
    "collapsed": false
   },
   "outputs": [
    {
     "data": {
      "text/plain": [
       "499999"
      ]
     },
     "execution_count": 103,
     "metadata": {},
     "output_type": "execute_result"
    }
   ],
   "source": [
    "len(test_user)"
   ]
  },
  {
   "cell_type": "code",
   "execution_count": 105,
   "metadata": {
    "collapsed": true
   },
   "outputs": [],
   "source": [
    "#one hot encoding"
   ]
  },
  {
   "cell_type": "code",
   "execution_count": 106,
   "metadata": {
    "collapsed": true
   },
   "outputs": [],
   "source": [
    "dummy_test = pd.get_dummies(test_user['Age'], prefix='Age')"
   ]
  },
  {
   "cell_type": "code",
   "execution_count": 107,
   "metadata": {
    "collapsed": true
   },
   "outputs": [],
   "source": [
    "dummy_test = pd.concat([dummy_test, pd.get_dummies(test_user['Gender'], prefix = 'Gender')], axis=1)"
   ]
  },
  {
   "cell_type": "code",
   "execution_count": 108,
   "metadata": {
    "collapsed": true
   },
   "outputs": [],
   "source": [
    "dummy_test = pd.concat([dummy_test, pd.get_dummies(test_user['Depth'], prefix = 'Depth')], axis=1)"
   ]
  },
  {
   "cell_type": "code",
   "execution_count": 109,
   "metadata": {
    "collapsed": true
   },
   "outputs": [],
   "source": [
    "dummy_test = pd.concat([dummy_test, pd.get_dummies(test_user['Position'], prefix = 'Position')], axis=1)"
   ]
  },
  {
   "cell_type": "code",
   "execution_count": 110,
   "metadata": {
    "collapsed": true
   },
   "outputs": [],
   "source": [
    "test_data = pd.concat([test_user, dummy_test], axis=1)"
   ]
  },
  {
   "cell_type": "code",
   "execution_count": 111,
   "metadata": {
    "collapsed": false
   },
   "outputs": [
    {
     "data": {
      "text/html": [
       "<div>\n",
       "<table border=\"1\" class=\"dataframe\">\n",
       "  <thead>\n",
       "    <tr style=\"text-align: right;\">\n",
       "      <th></th>\n",
       "      <th>DisplayURL</th>\n",
       "      <th>AdID</th>\n",
       "      <th>AdvertiserID</th>\n",
       "      <th>Depth</th>\n",
       "      <th>Position</th>\n",
       "      <th>QueryID</th>\n",
       "      <th>KeywordID</th>\n",
       "      <th>TitleID</th>\n",
       "      <th>DescriptionID</th>\n",
       "      <th>UserID</th>\n",
       "      <th>...</th>\n",
       "      <th>Age_6.0</th>\n",
       "      <th>Gender_0.0</th>\n",
       "      <th>Gender_1.0</th>\n",
       "      <th>Gender_2.0</th>\n",
       "      <th>Depth_1</th>\n",
       "      <th>Depth_2</th>\n",
       "      <th>Depth_3</th>\n",
       "      <th>Position_1</th>\n",
       "      <th>Position_2</th>\n",
       "      <th>Position_3</th>\n",
       "    </tr>\n",
       "  </thead>\n",
       "  <tbody>\n",
       "    <tr>\n",
       "      <th>0</th>\n",
       "      <td>5325279403472852193</td>\n",
       "      <td>22166806</td>\n",
       "      <td>38756</td>\n",
       "      <td>3</td>\n",
       "      <td>3</td>\n",
       "      <td>6415</td>\n",
       "      <td>34</td>\n",
       "      <td>3341</td>\n",
       "      <td>2080</td>\n",
       "      <td>490234</td>\n",
       "      <td>...</td>\n",
       "      <td>0.0</td>\n",
       "      <td>0.0</td>\n",
       "      <td>1.0</td>\n",
       "      <td>0.0</td>\n",
       "      <td>0.0</td>\n",
       "      <td>0.0</td>\n",
       "      <td>1.0</td>\n",
       "      <td>0.0</td>\n",
       "      <td>0.0</td>\n",
       "      <td>1.0</td>\n",
       "    </tr>\n",
       "    <tr>\n",
       "      <th>1</th>\n",
       "      <td>14340390157469404125</td>\n",
       "      <td>3111380</td>\n",
       "      <td>23777</td>\n",
       "      <td>3</td>\n",
       "      <td>1</td>\n",
       "      <td>6415</td>\n",
       "      <td>8872</td>\n",
       "      <td>62423</td>\n",
       "      <td>56167</td>\n",
       "      <td>490234</td>\n",
       "      <td>...</td>\n",
       "      <td>0.0</td>\n",
       "      <td>0.0</td>\n",
       "      <td>1.0</td>\n",
       "      <td>0.0</td>\n",
       "      <td>0.0</td>\n",
       "      <td>0.0</td>\n",
       "      <td>1.0</td>\n",
       "      <td>1.0</td>\n",
       "      <td>0.0</td>\n",
       "      <td>0.0</td>\n",
       "    </tr>\n",
       "    <tr>\n",
       "      <th>2</th>\n",
       "      <td>16772851793638846604</td>\n",
       "      <td>22111129</td>\n",
       "      <td>38584</td>\n",
       "      <td>3</td>\n",
       "      <td>2</td>\n",
       "      <td>6415</td>\n",
       "      <td>8872</td>\n",
       "      <td>454986</td>\n",
       "      <td>378040</td>\n",
       "      <td>490234</td>\n",
       "      <td>...</td>\n",
       "      <td>0.0</td>\n",
       "      <td>0.0</td>\n",
       "      <td>1.0</td>\n",
       "      <td>0.0</td>\n",
       "      <td>0.0</td>\n",
       "      <td>0.0</td>\n",
       "      <td>1.0</td>\n",
       "      <td>0.0</td>\n",
       "      <td>1.0</td>\n",
       "      <td>0.0</td>\n",
       "    </tr>\n",
       "    <tr>\n",
       "      <th>3</th>\n",
       "      <td>5325279403472852193</td>\n",
       "      <td>22166807</td>\n",
       "      <td>38756</td>\n",
       "      <td>2</td>\n",
       "      <td>1</td>\n",
       "      <td>83</td>\n",
       "      <td>34</td>\n",
       "      <td>5360</td>\n",
       "      <td>2080</td>\n",
       "      <td>490234</td>\n",
       "      <td>...</td>\n",
       "      <td>0.0</td>\n",
       "      <td>0.0</td>\n",
       "      <td>1.0</td>\n",
       "      <td>0.0</td>\n",
       "      <td>0.0</td>\n",
       "      <td>1.0</td>\n",
       "      <td>0.0</td>\n",
       "      <td>1.0</td>\n",
       "      <td>0.0</td>\n",
       "      <td>0.0</td>\n",
       "    </tr>\n",
       "    <tr>\n",
       "      <th>4</th>\n",
       "      <td>12057878999086460853</td>\n",
       "      <td>20180629</td>\n",
       "      <td>27961</td>\n",
       "      <td>2</td>\n",
       "      <td>2</td>\n",
       "      <td>83</td>\n",
       "      <td>34</td>\n",
       "      <td>328</td>\n",
       "      <td>455</td>\n",
       "      <td>490234</td>\n",
       "      <td>...</td>\n",
       "      <td>0.0</td>\n",
       "      <td>0.0</td>\n",
       "      <td>1.0</td>\n",
       "      <td>0.0</td>\n",
       "      <td>0.0</td>\n",
       "      <td>1.0</td>\n",
       "      <td>0.0</td>\n",
       "      <td>0.0</td>\n",
       "      <td>1.0</td>\n",
       "      <td>0.0</td>\n",
       "    </tr>\n",
       "  </tbody>\n",
       "</table>\n",
       "<p>5 rows × 29 columns</p>\n",
       "</div>"
      ],
      "text/plain": [
       "             DisplayURL      AdID  AdvertiserID  Depth  Position  QueryID  \\\n",
       "0   5325279403472852193  22166806         38756      3         3     6415   \n",
       "1  14340390157469404125   3111380         23777      3         1     6415   \n",
       "2  16772851793638846604  22111129         38584      3         2     6415   \n",
       "3   5325279403472852193  22166807         38756      2         1       83   \n",
       "4  12057878999086460853  20180629         27961      2         2       83   \n",
       "\n",
       "   KeywordID  TitleID  DescriptionID  UserID     ...      Age_6.0  Gender_0.0  \\\n",
       "0         34     3341           2080  490234     ...          0.0         0.0   \n",
       "1       8872    62423          56167  490234     ...          0.0         0.0   \n",
       "2       8872   454986         378040  490234     ...          0.0         0.0   \n",
       "3         34     5360           2080  490234     ...          0.0         0.0   \n",
       "4         34      328            455  490234     ...          0.0         0.0   \n",
       "\n",
       "   Gender_1.0  Gender_2.0  Depth_1  Depth_2  Depth_3  Position_1  Position_2  \\\n",
       "0         1.0         0.0      0.0      0.0      1.0         0.0         0.0   \n",
       "1         1.0         0.0      0.0      0.0      1.0         1.0         0.0   \n",
       "2         1.0         0.0      0.0      0.0      1.0         0.0         1.0   \n",
       "3         1.0         0.0      0.0      1.0      0.0         1.0         0.0   \n",
       "4         1.0         0.0      0.0      1.0      0.0         0.0         1.0   \n",
       "\n",
       "   Position_3  \n",
       "0         1.0  \n",
       "1         0.0  \n",
       "2         0.0  \n",
       "3         0.0  \n",
       "4         0.0  \n",
       "\n",
       "[5 rows x 29 columns]"
      ]
     },
     "execution_count": 111,
     "metadata": {},
     "output_type": "execute_result"
    }
   ],
   "source": [
    "test_data.head(5)"
   ]
  },
  {
   "cell_type": "code",
   "execution_count": 112,
   "metadata": {
    "collapsed": true
   },
   "outputs": [],
   "source": [
    "test_data.drop(['Depth','Position','Gender','Age'], axis=1, inplace=True)"
   ]
  },
  {
   "cell_type": "code",
   "execution_count": 113,
   "metadata": {
    "collapsed": true
   },
   "outputs": [],
   "source": [
    "test_data.drop(['DisplayURL','AdID','AdvertiserID'], axis=1, inplace=True)"
   ]
  },
  {
   "cell_type": "code",
   "execution_count": 114,
   "metadata": {
    "collapsed": true
   },
   "outputs": [],
   "source": [
    "#test_data=test_data.dropna(axis=0)"
   ]
  },
  {
   "cell_type": "code",
   "execution_count": 115,
   "metadata": {
    "collapsed": true
   },
   "outputs": [],
   "source": [
    "#test_data.drop_duplicates(inplace = True)"
   ]
  },
  {
   "cell_type": "code",
   "execution_count": 116,
   "metadata": {
    "collapsed": false
   },
   "outputs": [
    {
     "data": {
      "text/plain": [
       "499999"
      ]
     },
     "execution_count": 116,
     "metadata": {},
     "output_type": "execute_result"
    }
   ],
   "source": [
    "len(test_data)"
   ]
  },
  {
   "cell_type": "code",
   "execution_count": 117,
   "metadata": {
    "collapsed": true
   },
   "outputs": [],
   "source": [
    "test_data.drop(['UserID'], axis=1, inplace=True)"
   ]
  },
  {
   "cell_type": "code",
   "execution_count": 118,
   "metadata": {
    "collapsed": false
   },
   "outputs": [
    {
     "data": {
      "text/html": [
       "<div>\n",
       "<table border=\"1\" class=\"dataframe\">\n",
       "  <thead>\n",
       "    <tr style=\"text-align: right;\">\n",
       "      <th></th>\n",
       "      <th>QueryID</th>\n",
       "      <th>KeywordID</th>\n",
       "      <th>TitleID</th>\n",
       "      <th>DescriptionID</th>\n",
       "      <th>#users</th>\n",
       "      <th>#ads</th>\n",
       "      <th>Age_1.0</th>\n",
       "      <th>Age_2.0</th>\n",
       "      <th>Age_3.0</th>\n",
       "      <th>Age_4.0</th>\n",
       "      <th>...</th>\n",
       "      <th>Age_6.0</th>\n",
       "      <th>Gender_0.0</th>\n",
       "      <th>Gender_1.0</th>\n",
       "      <th>Gender_2.0</th>\n",
       "      <th>Depth_1</th>\n",
       "      <th>Depth_2</th>\n",
       "      <th>Depth_3</th>\n",
       "      <th>Position_1</th>\n",
       "      <th>Position_2</th>\n",
       "      <th>Position_3</th>\n",
       "    </tr>\n",
       "  </thead>\n",
       "  <tbody>\n",
       "    <tr>\n",
       "      <th>0</th>\n",
       "      <td>6415</td>\n",
       "      <td>34</td>\n",
       "      <td>3341</td>\n",
       "      <td>2080</td>\n",
       "      <td>40.0</td>\n",
       "      <td>11.0</td>\n",
       "      <td>0.0</td>\n",
       "      <td>0.0</td>\n",
       "      <td>1.0</td>\n",
       "      <td>0.0</td>\n",
       "      <td>...</td>\n",
       "      <td>0.0</td>\n",
       "      <td>0.0</td>\n",
       "      <td>1.0</td>\n",
       "      <td>0.0</td>\n",
       "      <td>0.0</td>\n",
       "      <td>0.0</td>\n",
       "      <td>1.0</td>\n",
       "      <td>0.0</td>\n",
       "      <td>0.0</td>\n",
       "      <td>1.0</td>\n",
       "    </tr>\n",
       "    <tr>\n",
       "      <th>1</th>\n",
       "      <td>6415</td>\n",
       "      <td>8872</td>\n",
       "      <td>62423</td>\n",
       "      <td>56167</td>\n",
       "      <td>14471.0</td>\n",
       "      <td>3138.0</td>\n",
       "      <td>0.0</td>\n",
       "      <td>0.0</td>\n",
       "      <td>1.0</td>\n",
       "      <td>0.0</td>\n",
       "      <td>...</td>\n",
       "      <td>0.0</td>\n",
       "      <td>0.0</td>\n",
       "      <td>1.0</td>\n",
       "      <td>0.0</td>\n",
       "      <td>0.0</td>\n",
       "      <td>0.0</td>\n",
       "      <td>1.0</td>\n",
       "      <td>1.0</td>\n",
       "      <td>0.0</td>\n",
       "      <td>0.0</td>\n",
       "    </tr>\n",
       "    <tr>\n",
       "      <th>2</th>\n",
       "      <td>6415</td>\n",
       "      <td>8872</td>\n",
       "      <td>454986</td>\n",
       "      <td>378040</td>\n",
       "      <td>102.0</td>\n",
       "      <td>44.0</td>\n",
       "      <td>0.0</td>\n",
       "      <td>0.0</td>\n",
       "      <td>1.0</td>\n",
       "      <td>0.0</td>\n",
       "      <td>...</td>\n",
       "      <td>0.0</td>\n",
       "      <td>0.0</td>\n",
       "      <td>1.0</td>\n",
       "      <td>0.0</td>\n",
       "      <td>0.0</td>\n",
       "      <td>0.0</td>\n",
       "      <td>1.0</td>\n",
       "      <td>0.0</td>\n",
       "      <td>1.0</td>\n",
       "      <td>0.0</td>\n",
       "    </tr>\n",
       "    <tr>\n",
       "      <th>3</th>\n",
       "      <td>83</td>\n",
       "      <td>34</td>\n",
       "      <td>5360</td>\n",
       "      <td>2080</td>\n",
       "      <td>40.0</td>\n",
       "      <td>11.0</td>\n",
       "      <td>0.0</td>\n",
       "      <td>0.0</td>\n",
       "      <td>1.0</td>\n",
       "      <td>0.0</td>\n",
       "      <td>...</td>\n",
       "      <td>0.0</td>\n",
       "      <td>0.0</td>\n",
       "      <td>1.0</td>\n",
       "      <td>0.0</td>\n",
       "      <td>0.0</td>\n",
       "      <td>1.0</td>\n",
       "      <td>0.0</td>\n",
       "      <td>1.0</td>\n",
       "      <td>0.0</td>\n",
       "      <td>0.0</td>\n",
       "    </tr>\n",
       "    <tr>\n",
       "      <th>4</th>\n",
       "      <td>83</td>\n",
       "      <td>34</td>\n",
       "      <td>328</td>\n",
       "      <td>455</td>\n",
       "      <td>24742.0</td>\n",
       "      <td>1938.0</td>\n",
       "      <td>0.0</td>\n",
       "      <td>0.0</td>\n",
       "      <td>1.0</td>\n",
       "      <td>0.0</td>\n",
       "      <td>...</td>\n",
       "      <td>0.0</td>\n",
       "      <td>0.0</td>\n",
       "      <td>1.0</td>\n",
       "      <td>0.0</td>\n",
       "      <td>0.0</td>\n",
       "      <td>1.0</td>\n",
       "      <td>0.0</td>\n",
       "      <td>0.0</td>\n",
       "      <td>1.0</td>\n",
       "      <td>0.0</td>\n",
       "    </tr>\n",
       "  </tbody>\n",
       "</table>\n",
       "<p>5 rows × 21 columns</p>\n",
       "</div>"
      ],
      "text/plain": [
       "   QueryID  KeywordID  TitleID  DescriptionID   #users    #ads  Age_1.0  \\\n",
       "0     6415         34     3341           2080     40.0    11.0      0.0   \n",
       "1     6415       8872    62423          56167  14471.0  3138.0      0.0   \n",
       "2     6415       8872   454986         378040    102.0    44.0      0.0   \n",
       "3       83         34     5360           2080     40.0    11.0      0.0   \n",
       "4       83         34      328            455  24742.0  1938.0      0.0   \n",
       "\n",
       "   Age_2.0  Age_3.0  Age_4.0     ...      Age_6.0  Gender_0.0  Gender_1.0  \\\n",
       "0      0.0      1.0      0.0     ...          0.0         0.0         1.0   \n",
       "1      0.0      1.0      0.0     ...          0.0         0.0         1.0   \n",
       "2      0.0      1.0      0.0     ...          0.0         0.0         1.0   \n",
       "3      0.0      1.0      0.0     ...          0.0         0.0         1.0   \n",
       "4      0.0      1.0      0.0     ...          0.0         0.0         1.0   \n",
       "\n",
       "   Gender_2.0  Depth_1  Depth_2  Depth_3  Position_1  Position_2  Position_3  \n",
       "0         0.0      0.0      0.0      1.0         0.0         0.0         1.0  \n",
       "1         0.0      0.0      0.0      1.0         1.0         0.0         0.0  \n",
       "2         0.0      0.0      0.0      1.0         0.0         1.0         0.0  \n",
       "3         0.0      0.0      1.0      0.0         1.0         0.0         0.0  \n",
       "4         0.0      0.0      1.0      0.0         0.0         1.0         0.0  \n",
       "\n",
       "[5 rows x 21 columns]"
      ]
     },
     "execution_count": 118,
     "metadata": {},
     "output_type": "execute_result"
    }
   ],
   "source": [
    "test_data.head(5)"
   ]
  },
  {
   "cell_type": "code",
   "execution_count": 119,
   "metadata": {
    "collapsed": false
   },
   "outputs": [
    {
     "data": {
      "text/plain": [
       "Index([u'QueryID', u'KeywordID', u'TitleID', u'DescriptionID', u'#users',\n",
       "       u'#ads', u'Age_1.0', u'Age_2.0', u'Age_3.0', u'Age_4.0', u'Age_5.0',\n",
       "       u'Age_6.0', u'Gender_0.0', u'Gender_1.0', u'Gender_2.0', u'Depth_1',\n",
       "       u'Depth_2', u'Depth_3', u'Position_1', u'Position_2', u'Position_3'],\n",
       "      dtype='object')"
      ]
     },
     "execution_count": 119,
     "metadata": {},
     "output_type": "execute_result"
    }
   ],
   "source": [
    "test_data.columns"
   ]
  },
  {
   "cell_type": "code",
   "execution_count": 120,
   "metadata": {
    "collapsed": false
   },
   "outputs": [
    {
     "data": {
      "text/plain": [
       "499999"
      ]
     },
     "execution_count": 120,
     "metadata": {},
     "output_type": "execute_result"
    }
   ],
   "source": [
    "len(test_data)"
   ]
  },
  {
   "cell_type": "code",
   "execution_count": 121,
   "metadata": {
    "collapsed": true
   },
   "outputs": [],
   "source": [
    "sample=test_data.copy()"
   ]
  },
  {
   "cell_type": "code",
   "execution_count": 122,
   "metadata": {
    "collapsed": false
   },
   "outputs": [
    {
     "data": {
      "text/plain": [
       "True"
      ]
     },
     "execution_count": 122,
     "metadata": {},
     "output_type": "execute_result"
    }
   ],
   "source": [
    "sample.isnull().values.any()"
   ]
  },
  {
   "cell_type": "code",
   "execution_count": 123,
   "metadata": {
    "collapsed": true
   },
   "outputs": [],
   "source": [
    "sample.fillna(0, inplace=True)"
   ]
  },
  {
   "cell_type": "code",
   "execution_count": 124,
   "metadata": {
    "collapsed": false
   },
   "outputs": [
    {
     "data": {
      "text/plain": [
       "False"
      ]
     },
     "execution_count": 124,
     "metadata": {},
     "output_type": "execute_result"
    }
   ],
   "source": [
    "sample.isnull().values.any()"
   ]
  },
  {
   "cell_type": "code",
   "execution_count": 125,
   "metadata": {
    "collapsed": false
   },
   "outputs": [
    {
     "data": {
      "text/plain": [
       "499999"
      ]
     },
     "execution_count": 125,
     "metadata": {},
     "output_type": "execute_result"
    }
   ],
   "source": [
    "len(sample)"
   ]
  },
  {
   "cell_type": "code",
   "execution_count": 129,
   "metadata": {
    "collapsed": false,
    "scrolled": true
   },
   "outputs": [
    {
     "data": {
      "text/html": [
       "<div>\n",
       "<table border=\"1\" class=\"dataframe\">\n",
       "  <thead>\n",
       "    <tr style=\"text-align: right;\">\n",
       "      <th></th>\n",
       "      <th>QueryID</th>\n",
       "      <th>KeywordID</th>\n",
       "      <th>TitleID</th>\n",
       "      <th>DescriptionID</th>\n",
       "      <th>#users</th>\n",
       "      <th>#ads</th>\n",
       "      <th>Age_1.0</th>\n",
       "      <th>Age_2.0</th>\n",
       "      <th>Age_3.0</th>\n",
       "      <th>Age_4.0</th>\n",
       "      <th>...</th>\n",
       "      <th>Age_6.0</th>\n",
       "      <th>Gender_0.0</th>\n",
       "      <th>Gender_1.0</th>\n",
       "      <th>Gender_2.0</th>\n",
       "      <th>Depth_1</th>\n",
       "      <th>Depth_2</th>\n",
       "      <th>Depth_3</th>\n",
       "      <th>Position_1</th>\n",
       "      <th>Position_2</th>\n",
       "      <th>Position_3</th>\n",
       "    </tr>\n",
       "  </thead>\n",
       "  <tbody>\n",
       "    <tr>\n",
       "      <th>54</th>\n",
       "      <td>5452678</td>\n",
       "      <td>14925</td>\n",
       "      <td>407972</td>\n",
       "      <td>334809</td>\n",
       "      <td>0.0</td>\n",
       "      <td>0.0</td>\n",
       "      <td>0.0</td>\n",
       "      <td>0.0</td>\n",
       "      <td>0.0</td>\n",
       "      <td>1.0</td>\n",
       "      <td>...</td>\n",
       "      <td>0.0</td>\n",
       "      <td>0.0</td>\n",
       "      <td>1.0</td>\n",
       "      <td>0.0</td>\n",
       "      <td>0.0</td>\n",
       "      <td>0.0</td>\n",
       "      <td>1.0</td>\n",
       "      <td>0.0</td>\n",
       "      <td>1.0</td>\n",
       "      <td>0.0</td>\n",
       "    </tr>\n",
       "    <tr>\n",
       "      <th>55</th>\n",
       "      <td>13783</td>\n",
       "      <td>14925</td>\n",
       "      <td>407972</td>\n",
       "      <td>334809</td>\n",
       "      <td>0.0</td>\n",
       "      <td>0.0</td>\n",
       "      <td>0.0</td>\n",
       "      <td>0.0</td>\n",
       "      <td>0.0</td>\n",
       "      <td>1.0</td>\n",
       "      <td>...</td>\n",
       "      <td>0.0</td>\n",
       "      <td>0.0</td>\n",
       "      <td>1.0</td>\n",
       "      <td>0.0</td>\n",
       "      <td>0.0</td>\n",
       "      <td>0.0</td>\n",
       "      <td>1.0</td>\n",
       "      <td>0.0</td>\n",
       "      <td>1.0</td>\n",
       "      <td>0.0</td>\n",
       "    </tr>\n",
       "    <tr>\n",
       "      <th>86</th>\n",
       "      <td>6516</td>\n",
       "      <td>59</td>\n",
       "      <td>1845</td>\n",
       "      <td>2093</td>\n",
       "      <td>0.0</td>\n",
       "      <td>0.0</td>\n",
       "      <td>0.0</td>\n",
       "      <td>0.0</td>\n",
       "      <td>0.0</td>\n",
       "      <td>0.0</td>\n",
       "      <td>...</td>\n",
       "      <td>0.0</td>\n",
       "      <td>0.0</td>\n",
       "      <td>1.0</td>\n",
       "      <td>0.0</td>\n",
       "      <td>0.0</td>\n",
       "      <td>0.0</td>\n",
       "      <td>1.0</td>\n",
       "      <td>1.0</td>\n",
       "      <td>0.0</td>\n",
       "      <td>0.0</td>\n",
       "    </tr>\n",
       "    <tr>\n",
       "      <th>140</th>\n",
       "      <td>1514</td>\n",
       "      <td>3406</td>\n",
       "      <td>126641</td>\n",
       "      <td>33815</td>\n",
       "      <td>0.0</td>\n",
       "      <td>0.0</td>\n",
       "      <td>0.0</td>\n",
       "      <td>0.0</td>\n",
       "      <td>1.0</td>\n",
       "      <td>0.0</td>\n",
       "      <td>...</td>\n",
       "      <td>0.0</td>\n",
       "      <td>0.0</td>\n",
       "      <td>1.0</td>\n",
       "      <td>0.0</td>\n",
       "      <td>0.0</td>\n",
       "      <td>0.0</td>\n",
       "      <td>1.0</td>\n",
       "      <td>1.0</td>\n",
       "      <td>0.0</td>\n",
       "      <td>0.0</td>\n",
       "    </tr>\n",
       "    <tr>\n",
       "      <th>251</th>\n",
       "      <td>128</td>\n",
       "      <td>576</td>\n",
       "      <td>29573</td>\n",
       "      <td>11870</td>\n",
       "      <td>0.0</td>\n",
       "      <td>0.0</td>\n",
       "      <td>0.0</td>\n",
       "      <td>0.0</td>\n",
       "      <td>1.0</td>\n",
       "      <td>0.0</td>\n",
       "      <td>...</td>\n",
       "      <td>0.0</td>\n",
       "      <td>0.0</td>\n",
       "      <td>1.0</td>\n",
       "      <td>0.0</td>\n",
       "      <td>0.0</td>\n",
       "      <td>0.0</td>\n",
       "      <td>1.0</td>\n",
       "      <td>1.0</td>\n",
       "      <td>0.0</td>\n",
       "      <td>0.0</td>\n",
       "    </tr>\n",
       "    <tr>\n",
       "      <th>340</th>\n",
       "      <td>181</td>\n",
       "      <td>366</td>\n",
       "      <td>209869</td>\n",
       "      <td>177190</td>\n",
       "      <td>0.0</td>\n",
       "      <td>0.0</td>\n",
       "      <td>1.0</td>\n",
       "      <td>0.0</td>\n",
       "      <td>0.0</td>\n",
       "      <td>0.0</td>\n",
       "      <td>...</td>\n",
       "      <td>0.0</td>\n",
       "      <td>0.0</td>\n",
       "      <td>0.0</td>\n",
       "      <td>1.0</td>\n",
       "      <td>0.0</td>\n",
       "      <td>1.0</td>\n",
       "      <td>0.0</td>\n",
       "      <td>0.0</td>\n",
       "      <td>1.0</td>\n",
       "      <td>0.0</td>\n",
       "    </tr>\n",
       "    <tr>\n",
       "      <th>341</th>\n",
       "      <td>181</td>\n",
       "      <td>366</td>\n",
       "      <td>209869</td>\n",
       "      <td>177190</td>\n",
       "      <td>0.0</td>\n",
       "      <td>0.0</td>\n",
       "      <td>1.0</td>\n",
       "      <td>0.0</td>\n",
       "      <td>0.0</td>\n",
       "      <td>0.0</td>\n",
       "      <td>...</td>\n",
       "      <td>0.0</td>\n",
       "      <td>0.0</td>\n",
       "      <td>0.0</td>\n",
       "      <td>1.0</td>\n",
       "      <td>1.0</td>\n",
       "      <td>0.0</td>\n",
       "      <td>0.0</td>\n",
       "      <td>1.0</td>\n",
       "      <td>0.0</td>\n",
       "      <td>0.0</td>\n",
       "    </tr>\n",
       "    <tr>\n",
       "      <th>349</th>\n",
       "      <td>77</td>\n",
       "      <td>821</td>\n",
       "      <td>1238</td>\n",
       "      <td>739</td>\n",
       "      <td>0.0</td>\n",
       "      <td>0.0</td>\n",
       "      <td>0.0</td>\n",
       "      <td>1.0</td>\n",
       "      <td>0.0</td>\n",
       "      <td>0.0</td>\n",
       "      <td>...</td>\n",
       "      <td>0.0</td>\n",
       "      <td>0.0</td>\n",
       "      <td>0.0</td>\n",
       "      <td>1.0</td>\n",
       "      <td>1.0</td>\n",
       "      <td>0.0</td>\n",
       "      <td>0.0</td>\n",
       "      <td>1.0</td>\n",
       "      <td>0.0</td>\n",
       "      <td>0.0</td>\n",
       "    </tr>\n",
       "    <tr>\n",
       "      <th>385</th>\n",
       "      <td>549382</td>\n",
       "      <td>50</td>\n",
       "      <td>12151</td>\n",
       "      <td>2035</td>\n",
       "      <td>0.0</td>\n",
       "      <td>0.0</td>\n",
       "      <td>0.0</td>\n",
       "      <td>1.0</td>\n",
       "      <td>0.0</td>\n",
       "      <td>0.0</td>\n",
       "      <td>...</td>\n",
       "      <td>0.0</td>\n",
       "      <td>0.0</td>\n",
       "      <td>0.0</td>\n",
       "      <td>1.0</td>\n",
       "      <td>1.0</td>\n",
       "      <td>0.0</td>\n",
       "      <td>0.0</td>\n",
       "      <td>1.0</td>\n",
       "      <td>0.0</td>\n",
       "      <td>0.0</td>\n",
       "    </tr>\n",
       "    <tr>\n",
       "      <th>441</th>\n",
       "      <td>52</td>\n",
       "      <td>251</td>\n",
       "      <td>43477</td>\n",
       "      <td>39954</td>\n",
       "      <td>0.0</td>\n",
       "      <td>0.0</td>\n",
       "      <td>0.0</td>\n",
       "      <td>1.0</td>\n",
       "      <td>0.0</td>\n",
       "      <td>0.0</td>\n",
       "      <td>...</td>\n",
       "      <td>0.0</td>\n",
       "      <td>0.0</td>\n",
       "      <td>0.0</td>\n",
       "      <td>1.0</td>\n",
       "      <td>0.0</td>\n",
       "      <td>0.0</td>\n",
       "      <td>1.0</td>\n",
       "      <td>1.0</td>\n",
       "      <td>0.0</td>\n",
       "      <td>0.0</td>\n",
       "    </tr>\n",
       "    <tr>\n",
       "      <th>442</th>\n",
       "      <td>69</td>\n",
       "      <td>71448</td>\n",
       "      <td>252191</td>\n",
       "      <td>59322</td>\n",
       "      <td>0.0</td>\n",
       "      <td>0.0</td>\n",
       "      <td>0.0</td>\n",
       "      <td>1.0</td>\n",
       "      <td>0.0</td>\n",
       "      <td>0.0</td>\n",
       "      <td>...</td>\n",
       "      <td>0.0</td>\n",
       "      <td>0.0</td>\n",
       "      <td>0.0</td>\n",
       "      <td>1.0</td>\n",
       "      <td>0.0</td>\n",
       "      <td>0.0</td>\n",
       "      <td>1.0</td>\n",
       "      <td>0.0</td>\n",
       "      <td>0.0</td>\n",
       "      <td>1.0</td>\n",
       "    </tr>\n",
       "    <tr>\n",
       "      <th>512</th>\n",
       "      <td>33</td>\n",
       "      <td>78</td>\n",
       "      <td>5428</td>\n",
       "      <td>11725</td>\n",
       "      <td>0.0</td>\n",
       "      <td>0.0</td>\n",
       "      <td>0.0</td>\n",
       "      <td>0.0</td>\n",
       "      <td>1.0</td>\n",
       "      <td>0.0</td>\n",
       "      <td>...</td>\n",
       "      <td>0.0</td>\n",
       "      <td>0.0</td>\n",
       "      <td>0.0</td>\n",
       "      <td>1.0</td>\n",
       "      <td>1.0</td>\n",
       "      <td>0.0</td>\n",
       "      <td>0.0</td>\n",
       "      <td>1.0</td>\n",
       "      <td>0.0</td>\n",
       "      <td>0.0</td>\n",
       "    </tr>\n",
       "    <tr>\n",
       "      <th>530</th>\n",
       "      <td>8493</td>\n",
       "      <td>264</td>\n",
       "      <td>79235</td>\n",
       "      <td>14908</td>\n",
       "      <td>0.0</td>\n",
       "      <td>0.0</td>\n",
       "      <td>0.0</td>\n",
       "      <td>0.0</td>\n",
       "      <td>0.0</td>\n",
       "      <td>0.0</td>\n",
       "      <td>...</td>\n",
       "      <td>0.0</td>\n",
       "      <td>0.0</td>\n",
       "      <td>1.0</td>\n",
       "      <td>0.0</td>\n",
       "      <td>0.0</td>\n",
       "      <td>0.0</td>\n",
       "      <td>1.0</td>\n",
       "      <td>0.0</td>\n",
       "      <td>0.0</td>\n",
       "      <td>1.0</td>\n",
       "    </tr>\n",
       "    <tr>\n",
       "      <th>617</th>\n",
       "      <td>455</td>\n",
       "      <td>260</td>\n",
       "      <td>223392</td>\n",
       "      <td>187648</td>\n",
       "      <td>0.0</td>\n",
       "      <td>0.0</td>\n",
       "      <td>1.0</td>\n",
       "      <td>0.0</td>\n",
       "      <td>0.0</td>\n",
       "      <td>0.0</td>\n",
       "      <td>...</td>\n",
       "      <td>0.0</td>\n",
       "      <td>0.0</td>\n",
       "      <td>1.0</td>\n",
       "      <td>0.0</td>\n",
       "      <td>0.0</td>\n",
       "      <td>0.0</td>\n",
       "      <td>1.0</td>\n",
       "      <td>0.0</td>\n",
       "      <td>1.0</td>\n",
       "      <td>0.0</td>\n",
       "    </tr>\n",
       "    <tr>\n",
       "      <th>632</th>\n",
       "      <td>3</td>\n",
       "      <td>170</td>\n",
       "      <td>1583</td>\n",
       "      <td>1850</td>\n",
       "      <td>0.0</td>\n",
       "      <td>0.0</td>\n",
       "      <td>0.0</td>\n",
       "      <td>0.0</td>\n",
       "      <td>0.0</td>\n",
       "      <td>0.0</td>\n",
       "      <td>...</td>\n",
       "      <td>0.0</td>\n",
       "      <td>0.0</td>\n",
       "      <td>1.0</td>\n",
       "      <td>0.0</td>\n",
       "      <td>0.0</td>\n",
       "      <td>1.0</td>\n",
       "      <td>0.0</td>\n",
       "      <td>1.0</td>\n",
       "      <td>0.0</td>\n",
       "      <td>0.0</td>\n",
       "    </tr>\n",
       "    <tr>\n",
       "      <th>635</th>\n",
       "      <td>3</td>\n",
       "      <td>170</td>\n",
       "      <td>1583</td>\n",
       "      <td>1850</td>\n",
       "      <td>0.0</td>\n",
       "      <td>0.0</td>\n",
       "      <td>0.0</td>\n",
       "      <td>0.0</td>\n",
       "      <td>0.0</td>\n",
       "      <td>0.0</td>\n",
       "      <td>...</td>\n",
       "      <td>0.0</td>\n",
       "      <td>0.0</td>\n",
       "      <td>1.0</td>\n",
       "      <td>0.0</td>\n",
       "      <td>0.0</td>\n",
       "      <td>0.0</td>\n",
       "      <td>1.0</td>\n",
       "      <td>0.0</td>\n",
       "      <td>1.0</td>\n",
       "      <td>0.0</td>\n",
       "    </tr>\n",
       "    <tr>\n",
       "      <th>687</th>\n",
       "      <td>318</td>\n",
       "      <td>11928</td>\n",
       "      <td>187895</td>\n",
       "      <td>160160</td>\n",
       "      <td>0.0</td>\n",
       "      <td>0.0</td>\n",
       "      <td>0.0</td>\n",
       "      <td>1.0</td>\n",
       "      <td>0.0</td>\n",
       "      <td>0.0</td>\n",
       "      <td>...</td>\n",
       "      <td>0.0</td>\n",
       "      <td>0.0</td>\n",
       "      <td>0.0</td>\n",
       "      <td>1.0</td>\n",
       "      <td>0.0</td>\n",
       "      <td>0.0</td>\n",
       "      <td>1.0</td>\n",
       "      <td>0.0</td>\n",
       "      <td>1.0</td>\n",
       "      <td>0.0</td>\n",
       "    </tr>\n",
       "    <tr>\n",
       "      <th>748</th>\n",
       "      <td>3</td>\n",
       "      <td>863</td>\n",
       "      <td>467</td>\n",
       "      <td>606</td>\n",
       "      <td>0.0</td>\n",
       "      <td>0.0</td>\n",
       "      <td>0.0</td>\n",
       "      <td>0.0</td>\n",
       "      <td>0.0</td>\n",
       "      <td>0.0</td>\n",
       "      <td>...</td>\n",
       "      <td>0.0</td>\n",
       "      <td>0.0</td>\n",
       "      <td>1.0</td>\n",
       "      <td>0.0</td>\n",
       "      <td>0.0</td>\n",
       "      <td>0.0</td>\n",
       "      <td>1.0</td>\n",
       "      <td>0.0</td>\n",
       "      <td>0.0</td>\n",
       "      <td>1.0</td>\n",
       "    </tr>\n",
       "    <tr>\n",
       "      <th>752</th>\n",
       "      <td>3</td>\n",
       "      <td>863</td>\n",
       "      <td>467</td>\n",
       "      <td>606</td>\n",
       "      <td>0.0</td>\n",
       "      <td>0.0</td>\n",
       "      <td>0.0</td>\n",
       "      <td>0.0</td>\n",
       "      <td>0.0</td>\n",
       "      <td>0.0</td>\n",
       "      <td>...</td>\n",
       "      <td>0.0</td>\n",
       "      <td>0.0</td>\n",
       "      <td>1.0</td>\n",
       "      <td>0.0</td>\n",
       "      <td>0.0</td>\n",
       "      <td>0.0</td>\n",
       "      <td>1.0</td>\n",
       "      <td>0.0</td>\n",
       "      <td>1.0</td>\n",
       "      <td>0.0</td>\n",
       "    </tr>\n",
       "    <tr>\n",
       "      <th>802</th>\n",
       "      <td>14645</td>\n",
       "      <td>835</td>\n",
       "      <td>421218</td>\n",
       "      <td>2199</td>\n",
       "      <td>0.0</td>\n",
       "      <td>0.0</td>\n",
       "      <td>0.0</td>\n",
       "      <td>0.0</td>\n",
       "      <td>0.0</td>\n",
       "      <td>0.0</td>\n",
       "      <td>...</td>\n",
       "      <td>1.0</td>\n",
       "      <td>0.0</td>\n",
       "      <td>1.0</td>\n",
       "      <td>0.0</td>\n",
       "      <td>0.0</td>\n",
       "      <td>0.0</td>\n",
       "      <td>1.0</td>\n",
       "      <td>0.0</td>\n",
       "      <td>1.0</td>\n",
       "      <td>0.0</td>\n",
       "    </tr>\n",
       "    <tr>\n",
       "      <th>803</th>\n",
       "      <td>1594682</td>\n",
       "      <td>835</td>\n",
       "      <td>505626</td>\n",
       "      <td>4805</td>\n",
       "      <td>0.0</td>\n",
       "      <td>0.0</td>\n",
       "      <td>0.0</td>\n",
       "      <td>0.0</td>\n",
       "      <td>0.0</td>\n",
       "      <td>0.0</td>\n",
       "      <td>...</td>\n",
       "      <td>1.0</td>\n",
       "      <td>0.0</td>\n",
       "      <td>1.0</td>\n",
       "      <td>0.0</td>\n",
       "      <td>0.0</td>\n",
       "      <td>0.0</td>\n",
       "      <td>1.0</td>\n",
       "      <td>1.0</td>\n",
       "      <td>0.0</td>\n",
       "      <td>0.0</td>\n",
       "    </tr>\n",
       "    <tr>\n",
       "      <th>805</th>\n",
       "      <td>1594682</td>\n",
       "      <td>835</td>\n",
       "      <td>421218</td>\n",
       "      <td>2199</td>\n",
       "      <td>0.0</td>\n",
       "      <td>0.0</td>\n",
       "      <td>0.0</td>\n",
       "      <td>0.0</td>\n",
       "      <td>0.0</td>\n",
       "      <td>0.0</td>\n",
       "      <td>...</td>\n",
       "      <td>1.0</td>\n",
       "      <td>0.0</td>\n",
       "      <td>1.0</td>\n",
       "      <td>0.0</td>\n",
       "      <td>0.0</td>\n",
       "      <td>0.0</td>\n",
       "      <td>1.0</td>\n",
       "      <td>0.0</td>\n",
       "      <td>1.0</td>\n",
       "      <td>0.0</td>\n",
       "    </tr>\n",
       "    <tr>\n",
       "      <th>806</th>\n",
       "      <td>1594682</td>\n",
       "      <td>835</td>\n",
       "      <td>505626</td>\n",
       "      <td>4805</td>\n",
       "      <td>0.0</td>\n",
       "      <td>0.0</td>\n",
       "      <td>0.0</td>\n",
       "      <td>0.0</td>\n",
       "      <td>0.0</td>\n",
       "      <td>0.0</td>\n",
       "      <td>...</td>\n",
       "      <td>1.0</td>\n",
       "      <td>0.0</td>\n",
       "      <td>1.0</td>\n",
       "      <td>0.0</td>\n",
       "      <td>0.0</td>\n",
       "      <td>0.0</td>\n",
       "      <td>1.0</td>\n",
       "      <td>0.0</td>\n",
       "      <td>1.0</td>\n",
       "      <td>0.0</td>\n",
       "    </tr>\n",
       "    <tr>\n",
       "      <th>993</th>\n",
       "      <td>124902</td>\n",
       "      <td>170</td>\n",
       "      <td>1583</td>\n",
       "      <td>1850</td>\n",
       "      <td>0.0</td>\n",
       "      <td>0.0</td>\n",
       "      <td>1.0</td>\n",
       "      <td>0.0</td>\n",
       "      <td>0.0</td>\n",
       "      <td>0.0</td>\n",
       "      <td>...</td>\n",
       "      <td>0.0</td>\n",
       "      <td>0.0</td>\n",
       "      <td>1.0</td>\n",
       "      <td>0.0</td>\n",
       "      <td>0.0</td>\n",
       "      <td>1.0</td>\n",
       "      <td>0.0</td>\n",
       "      <td>0.0</td>\n",
       "      <td>1.0</td>\n",
       "      <td>0.0</td>\n",
       "    </tr>\n",
       "    <tr>\n",
       "      <th>1009</th>\n",
       "      <td>519</td>\n",
       "      <td>547</td>\n",
       "      <td>15244</td>\n",
       "      <td>14880</td>\n",
       "      <td>0.0</td>\n",
       "      <td>0.0</td>\n",
       "      <td>0.0</td>\n",
       "      <td>0.0</td>\n",
       "      <td>0.0</td>\n",
       "      <td>0.0</td>\n",
       "      <td>...</td>\n",
       "      <td>0.0</td>\n",
       "      <td>0.0</td>\n",
       "      <td>1.0</td>\n",
       "      <td>0.0</td>\n",
       "      <td>0.0</td>\n",
       "      <td>0.0</td>\n",
       "      <td>1.0</td>\n",
       "      <td>1.0</td>\n",
       "      <td>0.0</td>\n",
       "      <td>0.0</td>\n",
       "    </tr>\n",
       "    <tr>\n",
       "      <th>1049</th>\n",
       "      <td>420</td>\n",
       "      <td>1510</td>\n",
       "      <td>5428</td>\n",
       "      <td>14227</td>\n",
       "      <td>0.0</td>\n",
       "      <td>0.0</td>\n",
       "      <td>0.0</td>\n",
       "      <td>1.0</td>\n",
       "      <td>0.0</td>\n",
       "      <td>0.0</td>\n",
       "      <td>...</td>\n",
       "      <td>0.0</td>\n",
       "      <td>0.0</td>\n",
       "      <td>1.0</td>\n",
       "      <td>0.0</td>\n",
       "      <td>1.0</td>\n",
       "      <td>0.0</td>\n",
       "      <td>0.0</td>\n",
       "      <td>1.0</td>\n",
       "      <td>0.0</td>\n",
       "      <td>0.0</td>\n",
       "    </tr>\n",
       "    <tr>\n",
       "      <th>1063</th>\n",
       "      <td>16918972</td>\n",
       "      <td>56038</td>\n",
       "      <td>366063</td>\n",
       "      <td>1022436</td>\n",
       "      <td>0.0</td>\n",
       "      <td>0.0</td>\n",
       "      <td>0.0</td>\n",
       "      <td>0.0</td>\n",
       "      <td>0.0</td>\n",
       "      <td>0.0</td>\n",
       "      <td>...</td>\n",
       "      <td>1.0</td>\n",
       "      <td>0.0</td>\n",
       "      <td>0.0</td>\n",
       "      <td>1.0</td>\n",
       "      <td>1.0</td>\n",
       "      <td>0.0</td>\n",
       "      <td>0.0</td>\n",
       "      <td>1.0</td>\n",
       "      <td>0.0</td>\n",
       "      <td>0.0</td>\n",
       "    </tr>\n",
       "    <tr>\n",
       "      <th>1064</th>\n",
       "      <td>4004325</td>\n",
       "      <td>56038</td>\n",
       "      <td>366063</td>\n",
       "      <td>888005</td>\n",
       "      <td>0.0</td>\n",
       "      <td>0.0</td>\n",
       "      <td>0.0</td>\n",
       "      <td>0.0</td>\n",
       "      <td>0.0</td>\n",
       "      <td>0.0</td>\n",
       "      <td>...</td>\n",
       "      <td>1.0</td>\n",
       "      <td>0.0</td>\n",
       "      <td>0.0</td>\n",
       "      <td>1.0</td>\n",
       "      <td>0.0</td>\n",
       "      <td>1.0</td>\n",
       "      <td>0.0</td>\n",
       "      <td>1.0</td>\n",
       "      <td>0.0</td>\n",
       "      <td>0.0</td>\n",
       "    </tr>\n",
       "    <tr>\n",
       "      <th>1068</th>\n",
       "      <td>4004325</td>\n",
       "      <td>56038</td>\n",
       "      <td>913771</td>\n",
       "      <td>538232</td>\n",
       "      <td>0.0</td>\n",
       "      <td>0.0</td>\n",
       "      <td>0.0</td>\n",
       "      <td>0.0</td>\n",
       "      <td>0.0</td>\n",
       "      <td>0.0</td>\n",
       "      <td>...</td>\n",
       "      <td>1.0</td>\n",
       "      <td>0.0</td>\n",
       "      <td>0.0</td>\n",
       "      <td>1.0</td>\n",
       "      <td>1.0</td>\n",
       "      <td>0.0</td>\n",
       "      <td>0.0</td>\n",
       "      <td>1.0</td>\n",
       "      <td>0.0</td>\n",
       "      <td>0.0</td>\n",
       "    </tr>\n",
       "    <tr>\n",
       "      <th>1069</th>\n",
       "      <td>4004325</td>\n",
       "      <td>56038</td>\n",
       "      <td>366063</td>\n",
       "      <td>888005</td>\n",
       "      <td>0.0</td>\n",
       "      <td>0.0</td>\n",
       "      <td>0.0</td>\n",
       "      <td>0.0</td>\n",
       "      <td>0.0</td>\n",
       "      <td>0.0</td>\n",
       "      <td>...</td>\n",
       "      <td>1.0</td>\n",
       "      <td>0.0</td>\n",
       "      <td>0.0</td>\n",
       "      <td>1.0</td>\n",
       "      <td>1.0</td>\n",
       "      <td>0.0</td>\n",
       "      <td>0.0</td>\n",
       "      <td>1.0</td>\n",
       "      <td>0.0</td>\n",
       "      <td>0.0</td>\n",
       "    </tr>\n",
       "    <tr>\n",
       "      <th>...</th>\n",
       "      <td>...</td>\n",
       "      <td>...</td>\n",
       "      <td>...</td>\n",
       "      <td>...</td>\n",
       "      <td>...</td>\n",
       "      <td>...</td>\n",
       "      <td>...</td>\n",
       "      <td>...</td>\n",
       "      <td>...</td>\n",
       "      <td>...</td>\n",
       "      <td>...</td>\n",
       "      <td>...</td>\n",
       "      <td>...</td>\n",
       "      <td>...</td>\n",
       "      <td>...</td>\n",
       "      <td>...</td>\n",
       "      <td>...</td>\n",
       "      <td>...</td>\n",
       "      <td>...</td>\n",
       "      <td>...</td>\n",
       "      <td>...</td>\n",
       "    </tr>\n",
       "    <tr>\n",
       "      <th>499295</th>\n",
       "      <td>31881</td>\n",
       "      <td>27541</td>\n",
       "      <td>49874</td>\n",
       "      <td>45404</td>\n",
       "      <td>0.0</td>\n",
       "      <td>0.0</td>\n",
       "      <td>0.0</td>\n",
       "      <td>0.0</td>\n",
       "      <td>0.0</td>\n",
       "      <td>1.0</td>\n",
       "      <td>...</td>\n",
       "      <td>0.0</td>\n",
       "      <td>0.0</td>\n",
       "      <td>1.0</td>\n",
       "      <td>0.0</td>\n",
       "      <td>1.0</td>\n",
       "      <td>0.0</td>\n",
       "      <td>0.0</td>\n",
       "      <td>1.0</td>\n",
       "      <td>0.0</td>\n",
       "      <td>0.0</td>\n",
       "    </tr>\n",
       "    <tr>\n",
       "      <th>499304</th>\n",
       "      <td>29</td>\n",
       "      <td>653</td>\n",
       "      <td>806276</td>\n",
       "      <td>196729</td>\n",
       "      <td>0.0</td>\n",
       "      <td>0.0</td>\n",
       "      <td>0.0</td>\n",
       "      <td>0.0</td>\n",
       "      <td>1.0</td>\n",
       "      <td>0.0</td>\n",
       "      <td>...</td>\n",
       "      <td>0.0</td>\n",
       "      <td>0.0</td>\n",
       "      <td>1.0</td>\n",
       "      <td>0.0</td>\n",
       "      <td>0.0</td>\n",
       "      <td>0.0</td>\n",
       "      <td>1.0</td>\n",
       "      <td>0.0</td>\n",
       "      <td>0.0</td>\n",
       "      <td>1.0</td>\n",
       "    </tr>\n",
       "    <tr>\n",
       "      <th>499334</th>\n",
       "      <td>34</td>\n",
       "      <td>6</td>\n",
       "      <td>4632</td>\n",
       "      <td>5011</td>\n",
       "      <td>0.0</td>\n",
       "      <td>0.0</td>\n",
       "      <td>0.0</td>\n",
       "      <td>0.0</td>\n",
       "      <td>1.0</td>\n",
       "      <td>0.0</td>\n",
       "      <td>...</td>\n",
       "      <td>0.0</td>\n",
       "      <td>0.0</td>\n",
       "      <td>1.0</td>\n",
       "      <td>0.0</td>\n",
       "      <td>0.0</td>\n",
       "      <td>0.0</td>\n",
       "      <td>1.0</td>\n",
       "      <td>0.0</td>\n",
       "      <td>1.0</td>\n",
       "      <td>0.0</td>\n",
       "    </tr>\n",
       "    <tr>\n",
       "      <th>499350</th>\n",
       "      <td>38355</td>\n",
       "      <td>317832</td>\n",
       "      <td>656168</td>\n",
       "      <td>37103</td>\n",
       "      <td>0.0</td>\n",
       "      <td>0.0</td>\n",
       "      <td>0.0</td>\n",
       "      <td>0.0</td>\n",
       "      <td>1.0</td>\n",
       "      <td>0.0</td>\n",
       "      <td>...</td>\n",
       "      <td>0.0</td>\n",
       "      <td>0.0</td>\n",
       "      <td>1.0</td>\n",
       "      <td>0.0</td>\n",
       "      <td>0.0</td>\n",
       "      <td>0.0</td>\n",
       "      <td>1.0</td>\n",
       "      <td>0.0</td>\n",
       "      <td>0.0</td>\n",
       "      <td>1.0</td>\n",
       "    </tr>\n",
       "    <tr>\n",
       "      <th>499407</th>\n",
       "      <td>69</td>\n",
       "      <td>188</td>\n",
       "      <td>4639</td>\n",
       "      <td>3675</td>\n",
       "      <td>0.0</td>\n",
       "      <td>0.0</td>\n",
       "      <td>0.0</td>\n",
       "      <td>0.0</td>\n",
       "      <td>1.0</td>\n",
       "      <td>0.0</td>\n",
       "      <td>...</td>\n",
       "      <td>0.0</td>\n",
       "      <td>0.0</td>\n",
       "      <td>1.0</td>\n",
       "      <td>0.0</td>\n",
       "      <td>0.0</td>\n",
       "      <td>0.0</td>\n",
       "      <td>1.0</td>\n",
       "      <td>0.0</td>\n",
       "      <td>0.0</td>\n",
       "      <td>1.0</td>\n",
       "    </tr>\n",
       "    <tr>\n",
       "      <th>499453</th>\n",
       "      <td>321999</td>\n",
       "      <td>9805</td>\n",
       "      <td>467</td>\n",
       "      <td>606</td>\n",
       "      <td>0.0</td>\n",
       "      <td>0.0</td>\n",
       "      <td>0.0</td>\n",
       "      <td>1.0</td>\n",
       "      <td>0.0</td>\n",
       "      <td>0.0</td>\n",
       "      <td>...</td>\n",
       "      <td>0.0</td>\n",
       "      <td>0.0</td>\n",
       "      <td>1.0</td>\n",
       "      <td>0.0</td>\n",
       "      <td>1.0</td>\n",
       "      <td>0.0</td>\n",
       "      <td>0.0</td>\n",
       "      <td>1.0</td>\n",
       "      <td>0.0</td>\n",
       "      <td>0.0</td>\n",
       "    </tr>\n",
       "    <tr>\n",
       "      <th>499502</th>\n",
       "      <td>69</td>\n",
       "      <td>188</td>\n",
       "      <td>3481</td>\n",
       "      <td>2843</td>\n",
       "      <td>0.0</td>\n",
       "      <td>0.0</td>\n",
       "      <td>0.0</td>\n",
       "      <td>0.0</td>\n",
       "      <td>0.0</td>\n",
       "      <td>1.0</td>\n",
       "      <td>...</td>\n",
       "      <td>0.0</td>\n",
       "      <td>0.0</td>\n",
       "      <td>1.0</td>\n",
       "      <td>0.0</td>\n",
       "      <td>0.0</td>\n",
       "      <td>0.0</td>\n",
       "      <td>1.0</td>\n",
       "      <td>0.0</td>\n",
       "      <td>0.0</td>\n",
       "      <td>1.0</td>\n",
       "    </tr>\n",
       "    <tr>\n",
       "      <th>499509</th>\n",
       "      <td>7337808</td>\n",
       "      <td>4685</td>\n",
       "      <td>318799</td>\n",
       "      <td>151008</td>\n",
       "      <td>0.0</td>\n",
       "      <td>0.0</td>\n",
       "      <td>0.0</td>\n",
       "      <td>0.0</td>\n",
       "      <td>1.0</td>\n",
       "      <td>0.0</td>\n",
       "      <td>...</td>\n",
       "      <td>0.0</td>\n",
       "      <td>0.0</td>\n",
       "      <td>0.0</td>\n",
       "      <td>1.0</td>\n",
       "      <td>0.0</td>\n",
       "      <td>0.0</td>\n",
       "      <td>1.0</td>\n",
       "      <td>0.0</td>\n",
       "      <td>0.0</td>\n",
       "      <td>1.0</td>\n",
       "    </tr>\n",
       "    <tr>\n",
       "      <th>499512</th>\n",
       "      <td>14265</td>\n",
       "      <td>10368</td>\n",
       "      <td>403747</td>\n",
       "      <td>190079</td>\n",
       "      <td>0.0</td>\n",
       "      <td>0.0</td>\n",
       "      <td>0.0</td>\n",
       "      <td>0.0</td>\n",
       "      <td>1.0</td>\n",
       "      <td>0.0</td>\n",
       "      <td>...</td>\n",
       "      <td>0.0</td>\n",
       "      <td>0.0</td>\n",
       "      <td>0.0</td>\n",
       "      <td>1.0</td>\n",
       "      <td>0.0</td>\n",
       "      <td>0.0</td>\n",
       "      <td>1.0</td>\n",
       "      <td>0.0</td>\n",
       "      <td>0.0</td>\n",
       "      <td>1.0</td>\n",
       "    </tr>\n",
       "    <tr>\n",
       "      <th>499518</th>\n",
       "      <td>2158924</td>\n",
       "      <td>45064</td>\n",
       "      <td>696739</td>\n",
       "      <td>2057779</td>\n",
       "      <td>0.0</td>\n",
       "      <td>0.0</td>\n",
       "      <td>0.0</td>\n",
       "      <td>1.0</td>\n",
       "      <td>0.0</td>\n",
       "      <td>0.0</td>\n",
       "      <td>...</td>\n",
       "      <td>0.0</td>\n",
       "      <td>0.0</td>\n",
       "      <td>1.0</td>\n",
       "      <td>0.0</td>\n",
       "      <td>0.0</td>\n",
       "      <td>0.0</td>\n",
       "      <td>1.0</td>\n",
       "      <td>0.0</td>\n",
       "      <td>0.0</td>\n",
       "      <td>1.0</td>\n",
       "    </tr>\n",
       "    <tr>\n",
       "      <th>499519</th>\n",
       "      <td>2158924</td>\n",
       "      <td>9846</td>\n",
       "      <td>163921</td>\n",
       "      <td>3061191</td>\n",
       "      <td>0.0</td>\n",
       "      <td>0.0</td>\n",
       "      <td>0.0</td>\n",
       "      <td>1.0</td>\n",
       "      <td>0.0</td>\n",
       "      <td>0.0</td>\n",
       "      <td>...</td>\n",
       "      <td>0.0</td>\n",
       "      <td>0.0</td>\n",
       "      <td>1.0</td>\n",
       "      <td>0.0</td>\n",
       "      <td>0.0</td>\n",
       "      <td>0.0</td>\n",
       "      <td>1.0</td>\n",
       "      <td>1.0</td>\n",
       "      <td>0.0</td>\n",
       "      <td>0.0</td>\n",
       "    </tr>\n",
       "    <tr>\n",
       "      <th>499529</th>\n",
       "      <td>2797</td>\n",
       "      <td>863</td>\n",
       "      <td>467</td>\n",
       "      <td>606</td>\n",
       "      <td>0.0</td>\n",
       "      <td>0.0</td>\n",
       "      <td>0.0</td>\n",
       "      <td>0.0</td>\n",
       "      <td>0.0</td>\n",
       "      <td>0.0</td>\n",
       "      <td>...</td>\n",
       "      <td>0.0</td>\n",
       "      <td>0.0</td>\n",
       "      <td>1.0</td>\n",
       "      <td>0.0</td>\n",
       "      <td>0.0</td>\n",
       "      <td>0.0</td>\n",
       "      <td>1.0</td>\n",
       "      <td>0.0</td>\n",
       "      <td>0.0</td>\n",
       "      <td>1.0</td>\n",
       "    </tr>\n",
       "    <tr>\n",
       "      <th>499551</th>\n",
       "      <td>32282</td>\n",
       "      <td>993</td>\n",
       "      <td>70838</td>\n",
       "      <td>63479</td>\n",
       "      <td>0.0</td>\n",
       "      <td>0.0</td>\n",
       "      <td>0.0</td>\n",
       "      <td>0.0</td>\n",
       "      <td>1.0</td>\n",
       "      <td>0.0</td>\n",
       "      <td>...</td>\n",
       "      <td>0.0</td>\n",
       "      <td>0.0</td>\n",
       "      <td>1.0</td>\n",
       "      <td>0.0</td>\n",
       "      <td>0.0</td>\n",
       "      <td>1.0</td>\n",
       "      <td>0.0</td>\n",
       "      <td>1.0</td>\n",
       "      <td>0.0</td>\n",
       "      <td>0.0</td>\n",
       "    </tr>\n",
       "    <tr>\n",
       "      <th>499569</th>\n",
       "      <td>32282</td>\n",
       "      <td>993</td>\n",
       "      <td>119881</td>\n",
       "      <td>50450</td>\n",
       "      <td>0.0</td>\n",
       "      <td>0.0</td>\n",
       "      <td>0.0</td>\n",
       "      <td>0.0</td>\n",
       "      <td>1.0</td>\n",
       "      <td>0.0</td>\n",
       "      <td>...</td>\n",
       "      <td>0.0</td>\n",
       "      <td>0.0</td>\n",
       "      <td>1.0</td>\n",
       "      <td>0.0</td>\n",
       "      <td>0.0</td>\n",
       "      <td>0.0</td>\n",
       "      <td>1.0</td>\n",
       "      <td>1.0</td>\n",
       "      <td>0.0</td>\n",
       "      <td>0.0</td>\n",
       "    </tr>\n",
       "    <tr>\n",
       "      <th>499619</th>\n",
       "      <td>277070</td>\n",
       "      <td>17459</td>\n",
       "      <td>1207047</td>\n",
       "      <td>3974</td>\n",
       "      <td>0.0</td>\n",
       "      <td>0.0</td>\n",
       "      <td>0.0</td>\n",
       "      <td>0.0</td>\n",
       "      <td>0.0</td>\n",
       "      <td>0.0</td>\n",
       "      <td>...</td>\n",
       "      <td>0.0</td>\n",
       "      <td>0.0</td>\n",
       "      <td>1.0</td>\n",
       "      <td>0.0</td>\n",
       "      <td>0.0</td>\n",
       "      <td>1.0</td>\n",
       "      <td>0.0</td>\n",
       "      <td>0.0</td>\n",
       "      <td>1.0</td>\n",
       "      <td>0.0</td>\n",
       "    </tr>\n",
       "    <tr>\n",
       "      <th>499622</th>\n",
       "      <td>2953269</td>\n",
       "      <td>55783</td>\n",
       "      <td>791665</td>\n",
       "      <td>628881</td>\n",
       "      <td>0.0</td>\n",
       "      <td>0.0</td>\n",
       "      <td>0.0</td>\n",
       "      <td>0.0</td>\n",
       "      <td>0.0</td>\n",
       "      <td>0.0</td>\n",
       "      <td>...</td>\n",
       "      <td>0.0</td>\n",
       "      <td>0.0</td>\n",
       "      <td>1.0</td>\n",
       "      <td>0.0</td>\n",
       "      <td>0.0</td>\n",
       "      <td>0.0</td>\n",
       "      <td>1.0</td>\n",
       "      <td>0.0</td>\n",
       "      <td>1.0</td>\n",
       "      <td>0.0</td>\n",
       "    </tr>\n",
       "    <tr>\n",
       "      <th>499625</th>\n",
       "      <td>3794365</td>\n",
       "      <td>55783</td>\n",
       "      <td>791665</td>\n",
       "      <td>628881</td>\n",
       "      <td>0.0</td>\n",
       "      <td>0.0</td>\n",
       "      <td>0.0</td>\n",
       "      <td>0.0</td>\n",
       "      <td>0.0</td>\n",
       "      <td>0.0</td>\n",
       "      <td>...</td>\n",
       "      <td>0.0</td>\n",
       "      <td>0.0</td>\n",
       "      <td>1.0</td>\n",
       "      <td>0.0</td>\n",
       "      <td>0.0</td>\n",
       "      <td>0.0</td>\n",
       "      <td>1.0</td>\n",
       "      <td>0.0</td>\n",
       "      <td>1.0</td>\n",
       "      <td>0.0</td>\n",
       "    </tr>\n",
       "    <tr>\n",
       "      <th>499628</th>\n",
       "      <td>277070</td>\n",
       "      <td>55783</td>\n",
       "      <td>791665</td>\n",
       "      <td>628881</td>\n",
       "      <td>0.0</td>\n",
       "      <td>0.0</td>\n",
       "      <td>0.0</td>\n",
       "      <td>0.0</td>\n",
       "      <td>0.0</td>\n",
       "      <td>0.0</td>\n",
       "      <td>...</td>\n",
       "      <td>0.0</td>\n",
       "      <td>0.0</td>\n",
       "      <td>1.0</td>\n",
       "      <td>0.0</td>\n",
       "      <td>0.0</td>\n",
       "      <td>0.0</td>\n",
       "      <td>1.0</td>\n",
       "      <td>0.0</td>\n",
       "      <td>1.0</td>\n",
       "      <td>0.0</td>\n",
       "    </tr>\n",
       "    <tr>\n",
       "      <th>499647</th>\n",
       "      <td>12</td>\n",
       "      <td>218</td>\n",
       "      <td>7875</td>\n",
       "      <td>8742</td>\n",
       "      <td>0.0</td>\n",
       "      <td>0.0</td>\n",
       "      <td>0.0</td>\n",
       "      <td>0.0</td>\n",
       "      <td>1.0</td>\n",
       "      <td>0.0</td>\n",
       "      <td>...</td>\n",
       "      <td>0.0</td>\n",
       "      <td>0.0</td>\n",
       "      <td>1.0</td>\n",
       "      <td>0.0</td>\n",
       "      <td>0.0</td>\n",
       "      <td>0.0</td>\n",
       "      <td>1.0</td>\n",
       "      <td>0.0</td>\n",
       "      <td>1.0</td>\n",
       "      <td>0.0</td>\n",
       "    </tr>\n",
       "    <tr>\n",
       "      <th>499653</th>\n",
       "      <td>13081300</td>\n",
       "      <td>16117</td>\n",
       "      <td>47169</td>\n",
       "      <td>47449</td>\n",
       "      <td>0.0</td>\n",
       "      <td>0.0</td>\n",
       "      <td>0.0</td>\n",
       "      <td>0.0</td>\n",
       "      <td>0.0</td>\n",
       "      <td>0.0</td>\n",
       "      <td>...</td>\n",
       "      <td>0.0</td>\n",
       "      <td>0.0</td>\n",
       "      <td>1.0</td>\n",
       "      <td>0.0</td>\n",
       "      <td>0.0</td>\n",
       "      <td>1.0</td>\n",
       "      <td>0.0</td>\n",
       "      <td>1.0</td>\n",
       "      <td>0.0</td>\n",
       "      <td>0.0</td>\n",
       "    </tr>\n",
       "    <tr>\n",
       "      <th>499656</th>\n",
       "      <td>12696032</td>\n",
       "      <td>16117</td>\n",
       "      <td>47169</td>\n",
       "      <td>47449</td>\n",
       "      <td>0.0</td>\n",
       "      <td>0.0</td>\n",
       "      <td>0.0</td>\n",
       "      <td>0.0</td>\n",
       "      <td>0.0</td>\n",
       "      <td>0.0</td>\n",
       "      <td>...</td>\n",
       "      <td>0.0</td>\n",
       "      <td>0.0</td>\n",
       "      <td>1.0</td>\n",
       "      <td>0.0</td>\n",
       "      <td>0.0</td>\n",
       "      <td>1.0</td>\n",
       "      <td>0.0</td>\n",
       "      <td>1.0</td>\n",
       "      <td>0.0</td>\n",
       "      <td>0.0</td>\n",
       "    </tr>\n",
       "    <tr>\n",
       "      <th>499728</th>\n",
       "      <td>69</td>\n",
       "      <td>188</td>\n",
       "      <td>3481</td>\n",
       "      <td>2843</td>\n",
       "      <td>0.0</td>\n",
       "      <td>0.0</td>\n",
       "      <td>0.0</td>\n",
       "      <td>0.0</td>\n",
       "      <td>0.0</td>\n",
       "      <td>0.0</td>\n",
       "      <td>...</td>\n",
       "      <td>0.0</td>\n",
       "      <td>0.0</td>\n",
       "      <td>1.0</td>\n",
       "      <td>0.0</td>\n",
       "      <td>0.0</td>\n",
       "      <td>0.0</td>\n",
       "      <td>1.0</td>\n",
       "      <td>0.0</td>\n",
       "      <td>0.0</td>\n",
       "      <td>1.0</td>\n",
       "    </tr>\n",
       "    <tr>\n",
       "      <th>499798</th>\n",
       "      <td>1010</td>\n",
       "      <td>53</td>\n",
       "      <td>11058</td>\n",
       "      <td>1156</td>\n",
       "      <td>0.0</td>\n",
       "      <td>0.0</td>\n",
       "      <td>0.0</td>\n",
       "      <td>0.0</td>\n",
       "      <td>1.0</td>\n",
       "      <td>0.0</td>\n",
       "      <td>...</td>\n",
       "      <td>0.0</td>\n",
       "      <td>0.0</td>\n",
       "      <td>1.0</td>\n",
       "      <td>0.0</td>\n",
       "      <td>0.0</td>\n",
       "      <td>0.0</td>\n",
       "      <td>1.0</td>\n",
       "      <td>0.0</td>\n",
       "      <td>0.0</td>\n",
       "      <td>1.0</td>\n",
       "    </tr>\n",
       "    <tr>\n",
       "      <th>499801</th>\n",
       "      <td>1190</td>\n",
       "      <td>4447</td>\n",
       "      <td>48513</td>\n",
       "      <td>44424</td>\n",
       "      <td>0.0</td>\n",
       "      <td>0.0</td>\n",
       "      <td>0.0</td>\n",
       "      <td>0.0</td>\n",
       "      <td>0.0</td>\n",
       "      <td>1.0</td>\n",
       "      <td>...</td>\n",
       "      <td>0.0</td>\n",
       "      <td>0.0</td>\n",
       "      <td>1.0</td>\n",
       "      <td>0.0</td>\n",
       "      <td>0.0</td>\n",
       "      <td>0.0</td>\n",
       "      <td>1.0</td>\n",
       "      <td>0.0</td>\n",
       "      <td>1.0</td>\n",
       "      <td>0.0</td>\n",
       "    </tr>\n",
       "    <tr>\n",
       "      <th>499832</th>\n",
       "      <td>6172023</td>\n",
       "      <td>44987</td>\n",
       "      <td>942150</td>\n",
       "      <td>753832</td>\n",
       "      <td>0.0</td>\n",
       "      <td>0.0</td>\n",
       "      <td>0.0</td>\n",
       "      <td>0.0</td>\n",
       "      <td>1.0</td>\n",
       "      <td>0.0</td>\n",
       "      <td>...</td>\n",
       "      <td>0.0</td>\n",
       "      <td>0.0</td>\n",
       "      <td>1.0</td>\n",
       "      <td>0.0</td>\n",
       "      <td>0.0</td>\n",
       "      <td>0.0</td>\n",
       "      <td>1.0</td>\n",
       "      <td>0.0</td>\n",
       "      <td>0.0</td>\n",
       "      <td>1.0</td>\n",
       "    </tr>\n",
       "    <tr>\n",
       "      <th>499835</th>\n",
       "      <td>434</td>\n",
       "      <td>333</td>\n",
       "      <td>44838</td>\n",
       "      <td>41180</td>\n",
       "      <td>0.0</td>\n",
       "      <td>0.0</td>\n",
       "      <td>0.0</td>\n",
       "      <td>0.0</td>\n",
       "      <td>1.0</td>\n",
       "      <td>0.0</td>\n",
       "      <td>...</td>\n",
       "      <td>0.0</td>\n",
       "      <td>0.0</td>\n",
       "      <td>1.0</td>\n",
       "      <td>0.0</td>\n",
       "      <td>0.0</td>\n",
       "      <td>0.0</td>\n",
       "      <td>1.0</td>\n",
       "      <td>0.0</td>\n",
       "      <td>0.0</td>\n",
       "      <td>1.0</td>\n",
       "    </tr>\n",
       "    <tr>\n",
       "      <th>499859</th>\n",
       "      <td>420</td>\n",
       "      <td>1510</td>\n",
       "      <td>5428</td>\n",
       "      <td>14227</td>\n",
       "      <td>0.0</td>\n",
       "      <td>0.0</td>\n",
       "      <td>0.0</td>\n",
       "      <td>1.0</td>\n",
       "      <td>0.0</td>\n",
       "      <td>0.0</td>\n",
       "      <td>...</td>\n",
       "      <td>0.0</td>\n",
       "      <td>0.0</td>\n",
       "      <td>1.0</td>\n",
       "      <td>0.0</td>\n",
       "      <td>1.0</td>\n",
       "      <td>0.0</td>\n",
       "      <td>0.0</td>\n",
       "      <td>1.0</td>\n",
       "      <td>0.0</td>\n",
       "      <td>0.0</td>\n",
       "    </tr>\n",
       "    <tr>\n",
       "      <th>499922</th>\n",
       "      <td>173</td>\n",
       "      <td>21833</td>\n",
       "      <td>138550</td>\n",
       "      <td>14648</td>\n",
       "      <td>0.0</td>\n",
       "      <td>0.0</td>\n",
       "      <td>0.0</td>\n",
       "      <td>0.0</td>\n",
       "      <td>1.0</td>\n",
       "      <td>0.0</td>\n",
       "      <td>...</td>\n",
       "      <td>0.0</td>\n",
       "      <td>0.0</td>\n",
       "      <td>1.0</td>\n",
       "      <td>0.0</td>\n",
       "      <td>0.0</td>\n",
       "      <td>0.0</td>\n",
       "      <td>1.0</td>\n",
       "      <td>1.0</td>\n",
       "      <td>0.0</td>\n",
       "      <td>0.0</td>\n",
       "    </tr>\n",
       "    <tr>\n",
       "      <th>499961</th>\n",
       "      <td>20230075</td>\n",
       "      <td>255239</td>\n",
       "      <td>484388</td>\n",
       "      <td>394405</td>\n",
       "      <td>0.0</td>\n",
       "      <td>0.0</td>\n",
       "      <td>0.0</td>\n",
       "      <td>0.0</td>\n",
       "      <td>0.0</td>\n",
       "      <td>0.0</td>\n",
       "      <td>...</td>\n",
       "      <td>0.0</td>\n",
       "      <td>0.0</td>\n",
       "      <td>1.0</td>\n",
       "      <td>0.0</td>\n",
       "      <td>1.0</td>\n",
       "      <td>0.0</td>\n",
       "      <td>0.0</td>\n",
       "      <td>1.0</td>\n",
       "      <td>0.0</td>\n",
       "      <td>0.0</td>\n",
       "    </tr>\n",
       "    <tr>\n",
       "      <th>499964</th>\n",
       "      <td>246575</td>\n",
       "      <td>35017</td>\n",
       "      <td>240365</td>\n",
       "      <td>66345</td>\n",
       "      <td>0.0</td>\n",
       "      <td>0.0</td>\n",
       "      <td>0.0</td>\n",
       "      <td>0.0</td>\n",
       "      <td>0.0</td>\n",
       "      <td>0.0</td>\n",
       "      <td>...</td>\n",
       "      <td>0.0</td>\n",
       "      <td>0.0</td>\n",
       "      <td>1.0</td>\n",
       "      <td>0.0</td>\n",
       "      <td>0.0</td>\n",
       "      <td>1.0</td>\n",
       "      <td>0.0</td>\n",
       "      <td>1.0</td>\n",
       "      <td>0.0</td>\n",
       "      <td>0.0</td>\n",
       "    </tr>\n",
       "  </tbody>\n",
       "</table>\n",
       "<p>21175 rows × 21 columns</p>\n",
       "</div>"
      ],
      "text/plain": [
       "         QueryID  KeywordID  TitleID  DescriptionID  #users  #ads  Age_1.0  \\\n",
       "54       5452678      14925   407972         334809     0.0   0.0      0.0   \n",
       "55         13783      14925   407972         334809     0.0   0.0      0.0   \n",
       "86          6516         59     1845           2093     0.0   0.0      0.0   \n",
       "140         1514       3406   126641          33815     0.0   0.0      0.0   \n",
       "251          128        576    29573          11870     0.0   0.0      0.0   \n",
       "340          181        366   209869         177190     0.0   0.0      1.0   \n",
       "341          181        366   209869         177190     0.0   0.0      1.0   \n",
       "349           77        821     1238            739     0.0   0.0      0.0   \n",
       "385       549382         50    12151           2035     0.0   0.0      0.0   \n",
       "441           52        251    43477          39954     0.0   0.0      0.0   \n",
       "442           69      71448   252191          59322     0.0   0.0      0.0   \n",
       "512           33         78     5428          11725     0.0   0.0      0.0   \n",
       "530         8493        264    79235          14908     0.0   0.0      0.0   \n",
       "617          455        260   223392         187648     0.0   0.0      1.0   \n",
       "632            3        170     1583           1850     0.0   0.0      0.0   \n",
       "635            3        170     1583           1850     0.0   0.0      0.0   \n",
       "687          318      11928   187895         160160     0.0   0.0      0.0   \n",
       "748            3        863      467            606     0.0   0.0      0.0   \n",
       "752            3        863      467            606     0.0   0.0      0.0   \n",
       "802        14645        835   421218           2199     0.0   0.0      0.0   \n",
       "803      1594682        835   505626           4805     0.0   0.0      0.0   \n",
       "805      1594682        835   421218           2199     0.0   0.0      0.0   \n",
       "806      1594682        835   505626           4805     0.0   0.0      0.0   \n",
       "993       124902        170     1583           1850     0.0   0.0      1.0   \n",
       "1009         519        547    15244          14880     0.0   0.0      0.0   \n",
       "1049         420       1510     5428          14227     0.0   0.0      0.0   \n",
       "1063    16918972      56038   366063        1022436     0.0   0.0      0.0   \n",
       "1064     4004325      56038   366063         888005     0.0   0.0      0.0   \n",
       "1068     4004325      56038   913771         538232     0.0   0.0      0.0   \n",
       "1069     4004325      56038   366063         888005     0.0   0.0      0.0   \n",
       "...          ...        ...      ...            ...     ...   ...      ...   \n",
       "499295     31881      27541    49874          45404     0.0   0.0      0.0   \n",
       "499304        29        653   806276         196729     0.0   0.0      0.0   \n",
       "499334        34          6     4632           5011     0.0   0.0      0.0   \n",
       "499350     38355     317832   656168          37103     0.0   0.0      0.0   \n",
       "499407        69        188     4639           3675     0.0   0.0      0.0   \n",
       "499453    321999       9805      467            606     0.0   0.0      0.0   \n",
       "499502        69        188     3481           2843     0.0   0.0      0.0   \n",
       "499509   7337808       4685   318799         151008     0.0   0.0      0.0   \n",
       "499512     14265      10368   403747         190079     0.0   0.0      0.0   \n",
       "499518   2158924      45064   696739        2057779     0.0   0.0      0.0   \n",
       "499519   2158924       9846   163921        3061191     0.0   0.0      0.0   \n",
       "499529      2797        863      467            606     0.0   0.0      0.0   \n",
       "499551     32282        993    70838          63479     0.0   0.0      0.0   \n",
       "499569     32282        993   119881          50450     0.0   0.0      0.0   \n",
       "499619    277070      17459  1207047           3974     0.0   0.0      0.0   \n",
       "499622   2953269      55783   791665         628881     0.0   0.0      0.0   \n",
       "499625   3794365      55783   791665         628881     0.0   0.0      0.0   \n",
       "499628    277070      55783   791665         628881     0.0   0.0      0.0   \n",
       "499647        12        218     7875           8742     0.0   0.0      0.0   \n",
       "499653  13081300      16117    47169          47449     0.0   0.0      0.0   \n",
       "499656  12696032      16117    47169          47449     0.0   0.0      0.0   \n",
       "499728        69        188     3481           2843     0.0   0.0      0.0   \n",
       "499798      1010         53    11058           1156     0.0   0.0      0.0   \n",
       "499801      1190       4447    48513          44424     0.0   0.0      0.0   \n",
       "499832   6172023      44987   942150         753832     0.0   0.0      0.0   \n",
       "499835       434        333    44838          41180     0.0   0.0      0.0   \n",
       "499859       420       1510     5428          14227     0.0   0.0      0.0   \n",
       "499922       173      21833   138550          14648     0.0   0.0      0.0   \n",
       "499961  20230075     255239   484388         394405     0.0   0.0      0.0   \n",
       "499964    246575      35017   240365          66345     0.0   0.0      0.0   \n",
       "\n",
       "        Age_2.0  Age_3.0  Age_4.0     ...      Age_6.0  Gender_0.0  \\\n",
       "54          0.0      0.0      1.0     ...          0.0         0.0   \n",
       "55          0.0      0.0      1.0     ...          0.0         0.0   \n",
       "86          0.0      0.0      0.0     ...          0.0         0.0   \n",
       "140         0.0      1.0      0.0     ...          0.0         0.0   \n",
       "251         0.0      1.0      0.0     ...          0.0         0.0   \n",
       "340         0.0      0.0      0.0     ...          0.0         0.0   \n",
       "341         0.0      0.0      0.0     ...          0.0         0.0   \n",
       "349         1.0      0.0      0.0     ...          0.0         0.0   \n",
       "385         1.0      0.0      0.0     ...          0.0         0.0   \n",
       "441         1.0      0.0      0.0     ...          0.0         0.0   \n",
       "442         1.0      0.0      0.0     ...          0.0         0.0   \n",
       "512         0.0      1.0      0.0     ...          0.0         0.0   \n",
       "530         0.0      0.0      0.0     ...          0.0         0.0   \n",
       "617         0.0      0.0      0.0     ...          0.0         0.0   \n",
       "632         0.0      0.0      0.0     ...          0.0         0.0   \n",
       "635         0.0      0.0      0.0     ...          0.0         0.0   \n",
       "687         1.0      0.0      0.0     ...          0.0         0.0   \n",
       "748         0.0      0.0      0.0     ...          0.0         0.0   \n",
       "752         0.0      0.0      0.0     ...          0.0         0.0   \n",
       "802         0.0      0.0      0.0     ...          1.0         0.0   \n",
       "803         0.0      0.0      0.0     ...          1.0         0.0   \n",
       "805         0.0      0.0      0.0     ...          1.0         0.0   \n",
       "806         0.0      0.0      0.0     ...          1.0         0.0   \n",
       "993         0.0      0.0      0.0     ...          0.0         0.0   \n",
       "1009        0.0      0.0      0.0     ...          0.0         0.0   \n",
       "1049        1.0      0.0      0.0     ...          0.0         0.0   \n",
       "1063        0.0      0.0      0.0     ...          1.0         0.0   \n",
       "1064        0.0      0.0      0.0     ...          1.0         0.0   \n",
       "1068        0.0      0.0      0.0     ...          1.0         0.0   \n",
       "1069        0.0      0.0      0.0     ...          1.0         0.0   \n",
       "...         ...      ...      ...     ...          ...         ...   \n",
       "499295      0.0      0.0      1.0     ...          0.0         0.0   \n",
       "499304      0.0      1.0      0.0     ...          0.0         0.0   \n",
       "499334      0.0      1.0      0.0     ...          0.0         0.0   \n",
       "499350      0.0      1.0      0.0     ...          0.0         0.0   \n",
       "499407      0.0      1.0      0.0     ...          0.0         0.0   \n",
       "499453      1.0      0.0      0.0     ...          0.0         0.0   \n",
       "499502      0.0      0.0      1.0     ...          0.0         0.0   \n",
       "499509      0.0      1.0      0.0     ...          0.0         0.0   \n",
       "499512      0.0      1.0      0.0     ...          0.0         0.0   \n",
       "499518      1.0      0.0      0.0     ...          0.0         0.0   \n",
       "499519      1.0      0.0      0.0     ...          0.0         0.0   \n",
       "499529      0.0      0.0      0.0     ...          0.0         0.0   \n",
       "499551      0.0      1.0      0.0     ...          0.0         0.0   \n",
       "499569      0.0      1.0      0.0     ...          0.0         0.0   \n",
       "499619      0.0      0.0      0.0     ...          0.0         0.0   \n",
       "499622      0.0      0.0      0.0     ...          0.0         0.0   \n",
       "499625      0.0      0.0      0.0     ...          0.0         0.0   \n",
       "499628      0.0      0.0      0.0     ...          0.0         0.0   \n",
       "499647      0.0      1.0      0.0     ...          0.0         0.0   \n",
       "499653      0.0      0.0      0.0     ...          0.0         0.0   \n",
       "499656      0.0      0.0      0.0     ...          0.0         0.0   \n",
       "499728      0.0      0.0      0.0     ...          0.0         0.0   \n",
       "499798      0.0      1.0      0.0     ...          0.0         0.0   \n",
       "499801      0.0      0.0      1.0     ...          0.0         0.0   \n",
       "499832      0.0      1.0      0.0     ...          0.0         0.0   \n",
       "499835      0.0      1.0      0.0     ...          0.0         0.0   \n",
       "499859      1.0      0.0      0.0     ...          0.0         0.0   \n",
       "499922      0.0      1.0      0.0     ...          0.0         0.0   \n",
       "499961      0.0      0.0      0.0     ...          0.0         0.0   \n",
       "499964      0.0      0.0      0.0     ...          0.0         0.0   \n",
       "\n",
       "        Gender_1.0  Gender_2.0  Depth_1  Depth_2  Depth_3  Position_1  \\\n",
       "54             1.0         0.0      0.0      0.0      1.0         0.0   \n",
       "55             1.0         0.0      0.0      0.0      1.0         0.0   \n",
       "86             1.0         0.0      0.0      0.0      1.0         1.0   \n",
       "140            1.0         0.0      0.0      0.0      1.0         1.0   \n",
       "251            1.0         0.0      0.0      0.0      1.0         1.0   \n",
       "340            0.0         1.0      0.0      1.0      0.0         0.0   \n",
       "341            0.0         1.0      1.0      0.0      0.0         1.0   \n",
       "349            0.0         1.0      1.0      0.0      0.0         1.0   \n",
       "385            0.0         1.0      1.0      0.0      0.0         1.0   \n",
       "441            0.0         1.0      0.0      0.0      1.0         1.0   \n",
       "442            0.0         1.0      0.0      0.0      1.0         0.0   \n",
       "512            0.0         1.0      1.0      0.0      0.0         1.0   \n",
       "530            1.0         0.0      0.0      0.0      1.0         0.0   \n",
       "617            1.0         0.0      0.0      0.0      1.0         0.0   \n",
       "632            1.0         0.0      0.0      1.0      0.0         1.0   \n",
       "635            1.0         0.0      0.0      0.0      1.0         0.0   \n",
       "687            0.0         1.0      0.0      0.0      1.0         0.0   \n",
       "748            1.0         0.0      0.0      0.0      1.0         0.0   \n",
       "752            1.0         0.0      0.0      0.0      1.0         0.0   \n",
       "802            1.0         0.0      0.0      0.0      1.0         0.0   \n",
       "803            1.0         0.0      0.0      0.0      1.0         1.0   \n",
       "805            1.0         0.0      0.0      0.0      1.0         0.0   \n",
       "806            1.0         0.0      0.0      0.0      1.0         0.0   \n",
       "993            1.0         0.0      0.0      1.0      0.0         0.0   \n",
       "1009           1.0         0.0      0.0      0.0      1.0         1.0   \n",
       "1049           1.0         0.0      1.0      0.0      0.0         1.0   \n",
       "1063           0.0         1.0      1.0      0.0      0.0         1.0   \n",
       "1064           0.0         1.0      0.0      1.0      0.0         1.0   \n",
       "1068           0.0         1.0      1.0      0.0      0.0         1.0   \n",
       "1069           0.0         1.0      1.0      0.0      0.0         1.0   \n",
       "...            ...         ...      ...      ...      ...         ...   \n",
       "499295         1.0         0.0      1.0      0.0      0.0         1.0   \n",
       "499304         1.0         0.0      0.0      0.0      1.0         0.0   \n",
       "499334         1.0         0.0      0.0      0.0      1.0         0.0   \n",
       "499350         1.0         0.0      0.0      0.0      1.0         0.0   \n",
       "499407         1.0         0.0      0.0      0.0      1.0         0.0   \n",
       "499453         1.0         0.0      1.0      0.0      0.0         1.0   \n",
       "499502         1.0         0.0      0.0      0.0      1.0         0.0   \n",
       "499509         0.0         1.0      0.0      0.0      1.0         0.0   \n",
       "499512         0.0         1.0      0.0      0.0      1.0         0.0   \n",
       "499518         1.0         0.0      0.0      0.0      1.0         0.0   \n",
       "499519         1.0         0.0      0.0      0.0      1.0         1.0   \n",
       "499529         1.0         0.0      0.0      0.0      1.0         0.0   \n",
       "499551         1.0         0.0      0.0      1.0      0.0         1.0   \n",
       "499569         1.0         0.0      0.0      0.0      1.0         1.0   \n",
       "499619         1.0         0.0      0.0      1.0      0.0         0.0   \n",
       "499622         1.0         0.0      0.0      0.0      1.0         0.0   \n",
       "499625         1.0         0.0      0.0      0.0      1.0         0.0   \n",
       "499628         1.0         0.0      0.0      0.0      1.0         0.0   \n",
       "499647         1.0         0.0      0.0      0.0      1.0         0.0   \n",
       "499653         1.0         0.0      0.0      1.0      0.0         1.0   \n",
       "499656         1.0         0.0      0.0      1.0      0.0         1.0   \n",
       "499728         1.0         0.0      0.0      0.0      1.0         0.0   \n",
       "499798         1.0         0.0      0.0      0.0      1.0         0.0   \n",
       "499801         1.0         0.0      0.0      0.0      1.0         0.0   \n",
       "499832         1.0         0.0      0.0      0.0      1.0         0.0   \n",
       "499835         1.0         0.0      0.0      0.0      1.0         0.0   \n",
       "499859         1.0         0.0      1.0      0.0      0.0         1.0   \n",
       "499922         1.0         0.0      0.0      0.0      1.0         1.0   \n",
       "499961         1.0         0.0      1.0      0.0      0.0         1.0   \n",
       "499964         1.0         0.0      0.0      1.0      0.0         1.0   \n",
       "\n",
       "        Position_2  Position_3  \n",
       "54             1.0         0.0  \n",
       "55             1.0         0.0  \n",
       "86             0.0         0.0  \n",
       "140            0.0         0.0  \n",
       "251            0.0         0.0  \n",
       "340            1.0         0.0  \n",
       "341            0.0         0.0  \n",
       "349            0.0         0.0  \n",
       "385            0.0         0.0  \n",
       "441            0.0         0.0  \n",
       "442            0.0         1.0  \n",
       "512            0.0         0.0  \n",
       "530            0.0         1.0  \n",
       "617            1.0         0.0  \n",
       "632            0.0         0.0  \n",
       "635            1.0         0.0  \n",
       "687            1.0         0.0  \n",
       "748            0.0         1.0  \n",
       "752            1.0         0.0  \n",
       "802            1.0         0.0  \n",
       "803            0.0         0.0  \n",
       "805            1.0         0.0  \n",
       "806            1.0         0.0  \n",
       "993            1.0         0.0  \n",
       "1009           0.0         0.0  \n",
       "1049           0.0         0.0  \n",
       "1063           0.0         0.0  \n",
       "1064           0.0         0.0  \n",
       "1068           0.0         0.0  \n",
       "1069           0.0         0.0  \n",
       "...            ...         ...  \n",
       "499295         0.0         0.0  \n",
       "499304         0.0         1.0  \n",
       "499334         1.0         0.0  \n",
       "499350         0.0         1.0  \n",
       "499407         0.0         1.0  \n",
       "499453         0.0         0.0  \n",
       "499502         0.0         1.0  \n",
       "499509         0.0         1.0  \n",
       "499512         0.0         1.0  \n",
       "499518         0.0         1.0  \n",
       "499519         0.0         0.0  \n",
       "499529         0.0         1.0  \n",
       "499551         0.0         0.0  \n",
       "499569         0.0         0.0  \n",
       "499619         1.0         0.0  \n",
       "499622         1.0         0.0  \n",
       "499625         1.0         0.0  \n",
       "499628         1.0         0.0  \n",
       "499647         1.0         0.0  \n",
       "499653         0.0         0.0  \n",
       "499656         0.0         0.0  \n",
       "499728         0.0         1.0  \n",
       "499798         0.0         1.0  \n",
       "499801         1.0         0.0  \n",
       "499832         0.0         1.0  \n",
       "499835         0.0         1.0  \n",
       "499859         0.0         0.0  \n",
       "499922         0.0         0.0  \n",
       "499961         0.0         0.0  \n",
       "499964         0.0         0.0  \n",
       "\n",
       "[21175 rows x 21 columns]"
      ]
     },
     "execution_count": 129,
     "metadata": {},
     "output_type": "execute_result"
    }
   ],
   "source": [
    "#sample[sample['#users']==0.0]"
   ]
  },
  {
   "cell_type": "code",
   "execution_count": 131,
   "metadata": {
    "collapsed": false,
    "scrolled": true
   },
   "outputs": [
    {
     "data": {
      "text/plain": [
       "24742.0    35300\n",
       "21246.0    31492\n",
       "14471.0    26593\n",
       "0.0        21175\n",
       "5474.0     11159\n",
       "5.0        10044\n",
       "176.0       9148\n",
       "4555.0      8732\n",
       "3834.0      8496\n",
       "805.0       8215\n",
       "1.0         7108\n",
       "3.0         6994\n",
       "2.0         6802\n",
       "9.0         6763\n",
       "695.0       6465\n",
       "1630.0      6055\n",
       "4.0         5967\n",
       "3547.0      5614\n",
       "3017.0      5061\n",
       "7.0         4876\n",
       "8.0         4785\n",
       "6.0         4530\n",
       "1739.0      4510\n",
       "1074.0      3673\n",
       "2749.0      3410\n",
       "326.0       3189\n",
       "2500.0      3049\n",
       "15.0        3036\n",
       "5935.0      3024\n",
       "2452.0      2938\n",
       "           ...  \n",
       "294.0        165\n",
       "214.0        162\n",
       "179.0        160\n",
       "137.0        158\n",
       "190.0        152\n",
       "570.0        139\n",
       "117.0        138\n",
       "177.0        136\n",
       "148.0        131\n",
       "104.0        128\n",
       "96.0         123\n",
       "136.0        119\n",
       "146.0        117\n",
       "85.0         117\n",
       "129.0        112\n",
       "167.0        105\n",
       "243.0         98\n",
       "126.0         96\n",
       "114.0         94\n",
       "200.0         78\n",
       "191.0         78\n",
       "368.0         77\n",
       "1227.0        63\n",
       "329.0         27\n",
       "147.0         25\n",
       "2696.0         9\n",
       "491.0          7\n",
       "164.0          4\n",
       "367.0          4\n",
       "78.0           4\n",
       "Name: #users, dtype: int64"
      ]
     },
     "execution_count": 131,
     "metadata": {},
     "output_type": "execute_result"
    }
   ],
   "source": [
    "sample['#users'].value_counts()"
   ]
  },
  {
   "cell_type": "code",
   "execution_count": 132,
   "metadata": {
    "collapsed": false,
    "scrolled": true
   },
   "outputs": [
    {
     "data": {
      "text/plain": [
       "1.0       36127\n",
       "1938.0    35300\n",
       "1240.0    31492\n",
       "3.0       26721\n",
       "3138.0    26593\n",
       "4.0       21871\n",
       "2.0       21186\n",
       "0.0       21175\n",
       "6.0       11908\n",
       "41.0      11821\n",
       "5.0       10721\n",
       "86.0       9539\n",
       "243.0      8732\n",
       "443.0      8496\n",
       "7.0        7626\n",
       "8.0        7040\n",
       "15.0       6880\n",
       "32.0       6449\n",
       "786.0      6055\n",
       "10.0       5832\n",
       "1799.0     5614\n",
       "16.0       5429\n",
       "25.0       5265\n",
       "11.0       5229\n",
       "18.0       5106\n",
       "766.0      5061\n",
       "9.0        4768\n",
       "12.0       4602\n",
       "863.0      4510\n",
       "24.0       4425\n",
       "          ...  \n",
       "46.0        591\n",
       "43.0        581\n",
       "323.0       559\n",
       "208.0       523\n",
       "42.0        507\n",
       "123.0       495\n",
       "113.0       443\n",
       "81.0        441\n",
       "39.0        404\n",
       "307.0       380\n",
       "146.0       367\n",
       "87.0        347\n",
       "108.0       315\n",
       "240.0       310\n",
       "89.0        304\n",
       "71.0        292\n",
       "169.0       289\n",
       "38.0        285\n",
       "80.0        281\n",
       "93.0        267\n",
       "211.0       266\n",
       "69.0        263\n",
       "56.0        246\n",
       "94.0        229\n",
       "47.0        213\n",
       "311.0       204\n",
       "125.0       170\n",
       "63.0         77\n",
       "99.0         27\n",
       "209.0         7\n",
       "Name: #ads, dtype: int64"
      ]
     },
     "execution_count": 132,
     "metadata": {},
     "output_type": "execute_result"
    }
   ],
   "source": [
    "sample['#ads'].value_counts()"
   ]
  },
  {
   "cell_type": "code",
   "execution_count": 133,
   "metadata": {
    "collapsed": false
   },
   "outputs": [
    {
     "data": {
      "text/plain": [
       "499999"
      ]
     },
     "execution_count": 133,
     "metadata": {},
     "output_type": "execute_result"
    }
   ],
   "source": [
    "len(sample)"
   ]
  },
  {
   "cell_type": "code",
   "execution_count": 134,
   "metadata": {
    "collapsed": true
   },
   "outputs": [],
   "source": [
    "sample.to_csv(\"/Users/phani/dev/projects/harriee/dsproject/test_data.txt\",sep='\\t')"
   ]
  },
  {
   "cell_type": "code",
   "execution_count": null,
   "metadata": {
    "collapsed": true
   },
   "outputs": [],
   "source": []
  }
 ],
 "metadata": {
  "anaconda-cloud": {},
  "kernelspec": {
   "display_name": "Python [Root]",
   "language": "python",
   "name": "Python [Root]"
  },
  "language_info": {
   "codemirror_mode": {
    "name": "ipython",
    "version": 2
   },
   "file_extension": ".py",
   "mimetype": "text/x-python",
   "name": "python",
   "nbconvert_exporter": "python",
   "pygments_lexer": "ipython2",
   "version": "2.7.12"
  }
 },
 "nbformat": 4,
 "nbformat_minor": 0
}
