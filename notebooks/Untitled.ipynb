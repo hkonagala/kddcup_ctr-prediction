{
 "cells": [
  {
   "cell_type": "code",
   "execution_count": 1,
   "metadata": {
    "collapsed": true
   },
   "outputs": [],
   "source": [
    "import os\n",
    "import numpy as np\n",
    "import pandas as pd\n",
    "import csv\n",
    "from io import StringIO"
   ]
  },
  {
   "cell_type": "code",
   "execution_count": 229,
   "metadata": {
    "collapsed": true
   },
   "outputs": [],
   "source": [
    "train = pd.read_csv(\"C:/Users/Harika Konagala/Desktop/kddcup/traintokens_100.txt\",sep=\"\\s+\")"
   ]
  },
  {
   "cell_type": "code",
   "execution_count": 230,
   "metadata": {
    "collapsed": true
   },
   "outputs": [],
   "source": [
    "test = pd.read_csv(\"C:/Users/Harika Konagala/Desktop/kddcup/testtokens_100.txt\",sep=\"\\s+\")"
   ]
  },
  {
   "cell_type": "code",
   "execution_count": 231,
   "metadata": {
    "collapsed": false
   },
   "outputs": [
    {
     "data": {
      "text/plain": [
       "Index([u'Click', u'Impression', u'#users', u'#ads', u'Tokenscore_query',\n",
       "       u'Tokenscore_title', u'Tokenscore_desc', u'Tokenscore_key', u'Depth_1',\n",
       "       u'Depth_2', u'Depth_3', u'Position_1', u'Position_2', u'Position_3'],\n",
       "      dtype='object')"
      ]
     },
     "execution_count": 231,
     "metadata": {},
     "output_type": "execute_result"
    }
   ],
   "source": [
    "train.columns"
   ]
  },
  {
   "cell_type": "code",
   "execution_count": 232,
   "metadata": {
    "collapsed": false
   },
   "outputs": [
    {
     "data": {
      "text/plain": [
       "Index([u'#users', u'#ads', u'Tokenscore_query', u'Tokenscore_title',\n",
       "       u'Tokenscore_desc', u'Tokenscore_key', u'Depth_1', u'Depth_2',\n",
       "       u'Depth_3', u'Position_1', u'Position_2', u'Position_3'],\n",
       "      dtype='object')"
      ]
     },
     "execution_count": 232,
     "metadata": {},
     "output_type": "execute_result"
    }
   ],
   "source": [
    "test.columns"
   ]
  },
  {
   "cell_type": "code",
   "execution_count": 233,
   "metadata": {
    "collapsed": false
   },
   "outputs": [
    {
     "data": {
      "text/plain": [
       "99999"
      ]
     },
     "execution_count": 233,
     "metadata": {},
     "output_type": "execute_result"
    }
   ],
   "source": [
    "len(train)"
   ]
  },
  {
   "cell_type": "code",
   "execution_count": 234,
   "metadata": {
    "collapsed": false
   },
   "outputs": [
    {
     "data": {
      "text/plain": [
       "99999"
      ]
     },
     "execution_count": 234,
     "metadata": {},
     "output_type": "execute_result"
    }
   ],
   "source": [
    "len(test)"
   ]
  },
  {
   "cell_type": "code",
   "execution_count": 235,
   "metadata": {
    "collapsed": false
   },
   "outputs": [
    {
     "data": {
      "text/plain": [
       "False"
      ]
     },
     "execution_count": 235,
     "metadata": {},
     "output_type": "execute_result"
    }
   ],
   "source": [
    "train.isnull().values.any()"
   ]
  },
  {
   "cell_type": "code",
   "execution_count": 236,
   "metadata": {
    "collapsed": false
   },
   "outputs": [
    {
     "data": {
      "text/plain": [
       "False"
      ]
     },
     "execution_count": 236,
     "metadata": {},
     "output_type": "execute_result"
    }
   ],
   "source": [
    "test.isnull().values.any()"
   ]
  },
  {
   "cell_type": "code",
   "execution_count": 237,
   "metadata": {
    "collapsed": true
   },
   "outputs": [],
   "source": [
    "t=train.copy()"
   ]
  },
  {
   "cell_type": "code",
   "execution_count": 238,
   "metadata": {
    "collapsed": true
   },
   "outputs": [],
   "source": [
    "t.drop_duplicates(inplace = True)"
   ]
  },
  {
   "cell_type": "code",
   "execution_count": 239,
   "metadata": {
    "collapsed": false
   },
   "outputs": [
    {
     "data": {
      "text/plain": [
       "83709"
      ]
     },
     "execution_count": 239,
     "metadata": {},
     "output_type": "execute_result"
    }
   ],
   "source": [
    "len(t)"
   ]
  },
  {
   "cell_type": "code",
   "execution_count": 240,
   "metadata": {
    "collapsed": false
   },
   "outputs": [
    {
     "data": {
      "text/html": [
       "<div>\n",
       "<table border=\"1\" class=\"dataframe\">\n",
       "  <thead>\n",
       "    <tr style=\"text-align: right;\">\n",
       "      <th></th>\n",
       "      <th>Click</th>\n",
       "      <th>Impression</th>\n",
       "      <th>#users</th>\n",
       "      <th>#ads</th>\n",
       "      <th>Tokenscore_query</th>\n",
       "      <th>Tokenscore_title</th>\n",
       "      <th>Tokenscore_desc</th>\n",
       "      <th>Tokenscore_key</th>\n",
       "      <th>Depth_1</th>\n",
       "      <th>Depth_2</th>\n",
       "      <th>Depth_3</th>\n",
       "      <th>Position_1</th>\n",
       "      <th>Position_2</th>\n",
       "      <th>Position_3</th>\n",
       "    </tr>\n",
       "  </thead>\n",
       "  <tbody>\n",
       "    <tr>\n",
       "      <th>0</th>\n",
       "      <td>0</td>\n",
       "      <td>1</td>\n",
       "      <td>739</td>\n",
       "      <td>480</td>\n",
       "      <td>3718</td>\n",
       "      <td>0</td>\n",
       "      <td>19463858.0</td>\n",
       "      <td>36065</td>\n",
       "      <td>0.0</td>\n",
       "      <td>0.0</td>\n",
       "      <td>1.0</td>\n",
       "      <td>0.0</td>\n",
       "      <td>0.0</td>\n",
       "      <td>1.0</td>\n",
       "    </tr>\n",
       "    <tr>\n",
       "      <th>1</th>\n",
       "      <td>0</td>\n",
       "      <td>1</td>\n",
       "      <td>12</td>\n",
       "      <td>5</td>\n",
       "      <td>199799</td>\n",
       "      <td>0</td>\n",
       "      <td>341421.0</td>\n",
       "      <td>27728</td>\n",
       "      <td>0.0</td>\n",
       "      <td>1.0</td>\n",
       "      <td>0.0</td>\n",
       "      <td>0.0</td>\n",
       "      <td>1.0</td>\n",
       "      <td>0.0</td>\n",
       "    </tr>\n",
       "  </tbody>\n",
       "</table>\n",
       "</div>"
      ],
      "text/plain": [
       "   Click  Impression  #users  #ads  Tokenscore_query  Tokenscore_title  \\\n",
       "0      0           1     739   480              3718                 0   \n",
       "1      0           1      12     5            199799                 0   \n",
       "\n",
       "   Tokenscore_desc  Tokenscore_key  Depth_1  Depth_2  Depth_3  Position_1  \\\n",
       "0       19463858.0           36065      0.0      0.0      1.0         0.0   \n",
       "1         341421.0           27728      0.0      1.0      0.0         0.0   \n",
       "\n",
       "   Position_2  Position_3  \n",
       "0         0.0         1.0  \n",
       "1         1.0         0.0  "
      ]
     },
     "execution_count": 240,
     "metadata": {},
     "output_type": "execute_result"
    }
   ],
   "source": [
    "t.head(2)"
   ]
  },
  {
   "cell_type": "code",
   "execution_count": 241,
   "metadata": {
    "collapsed": false
   },
   "outputs": [
    {
     "data": {
      "text/html": [
       "<div>\n",
       "<table border=\"1\" class=\"dataframe\">\n",
       "  <thead>\n",
       "    <tr style=\"text-align: right;\">\n",
       "      <th></th>\n",
       "      <th>#users</th>\n",
       "      <th>#ads</th>\n",
       "      <th>Tokenscore_query</th>\n",
       "      <th>Tokenscore_title</th>\n",
       "      <th>Tokenscore_desc</th>\n",
       "      <th>Tokenscore_key</th>\n",
       "      <th>Depth_1</th>\n",
       "      <th>Depth_2</th>\n",
       "      <th>Depth_3</th>\n",
       "      <th>Position_1</th>\n",
       "      <th>Position_2</th>\n",
       "      <th>Position_3</th>\n",
       "    </tr>\n",
       "  </thead>\n",
       "  <tbody>\n",
       "    <tr>\n",
       "      <th>0</th>\n",
       "      <td>11.0</td>\n",
       "      <td>4.0</td>\n",
       "      <td>2267</td>\n",
       "      <td>0</td>\n",
       "      <td>46000561.0</td>\n",
       "      <td>10820</td>\n",
       "      <td>0.0</td>\n",
       "      <td>0.0</td>\n",
       "      <td>1.0</td>\n",
       "      <td>0.0</td>\n",
       "      <td>0.0</td>\n",
       "      <td>1.0</td>\n",
       "    </tr>\n",
       "    <tr>\n",
       "      <th>1</th>\n",
       "      <td>2891.0</td>\n",
       "      <td>1140.0</td>\n",
       "      <td>2267</td>\n",
       "      <td>0</td>\n",
       "      <td>15211447.0</td>\n",
       "      <td>78</td>\n",
       "      <td>0.0</td>\n",
       "      <td>0.0</td>\n",
       "      <td>1.0</td>\n",
       "      <td>1.0</td>\n",
       "      <td>0.0</td>\n",
       "      <td>0.0</td>\n",
       "    </tr>\n",
       "  </tbody>\n",
       "</table>\n",
       "</div>"
      ],
      "text/plain": [
       "   #users    #ads  Tokenscore_query  Tokenscore_title  Tokenscore_desc  \\\n",
       "0    11.0     4.0              2267                 0       46000561.0   \n",
       "1  2891.0  1140.0              2267                 0       15211447.0   \n",
       "\n",
       "   Tokenscore_key  Depth_1  Depth_2  Depth_3  Position_1  Position_2  \\\n",
       "0           10820      0.0      0.0      1.0         0.0         0.0   \n",
       "1              78      0.0      0.0      1.0         1.0         0.0   \n",
       "\n",
       "   Position_3  \n",
       "0         1.0  \n",
       "1         0.0  "
      ]
     },
     "execution_count": 241,
     "metadata": {},
     "output_type": "execute_result"
    }
   ],
   "source": [
    "test.head(2)"
   ]
  },
  {
   "cell_type": "code",
   "execution_count": 242,
   "metadata": {
    "collapsed": false
   },
   "outputs": [
    {
     "data": {
      "text/plain": [
       "Index([u'#users', u'#ads', u'Tokenscore_query', u'Tokenscore_title',\n",
       "       u'Tokenscore_desc', u'Tokenscore_key', u'Depth_1', u'Depth_2',\n",
       "       u'Depth_3', u'Position_1', u'Position_2', u'Position_3'],\n",
       "      dtype='object')"
      ]
     },
     "execution_count": 242,
     "metadata": {},
     "output_type": "execute_result"
    }
   ],
   "source": [
    "test.columns"
   ]
  },
  {
   "cell_type": "code",
   "execution_count": 138,
   "metadata": {
    "collapsed": true
   },
   "outputs": [],
   "source": [
    "t.drop(['Tokenscore_query','Tokenscore_title','Tokenscore_desc','Tokenscore_key'], axis=1, inplace=True)"
   ]
  },
  {
   "cell_type": "code",
   "execution_count": 139,
   "metadata": {
    "collapsed": true
   },
   "outputs": [],
   "source": [
    "#t.drop(['Age_0.0','Age_1.0','Age_2.0','Age_3.0','Age_4.0','Age_5.0','Age_6.0','Gender_0.0','Gender_1.0','Gender_2.0'], axis=1, inplace=True)"
   ]
  },
  {
   "cell_type": "code",
   "execution_count": 140,
   "metadata": {
    "collapsed": false
   },
   "outputs": [
    {
     "data": {
      "text/html": [
       "<div>\n",
       "<table border=\"1\" class=\"dataframe\">\n",
       "  <thead>\n",
       "    <tr style=\"text-align: right;\">\n",
       "      <th></th>\n",
       "      <th>Click</th>\n",
       "      <th>Impression</th>\n",
       "      <th>#users</th>\n",
       "      <th>#ads</th>\n",
       "      <th>Age_0.0</th>\n",
       "      <th>Age_1.0</th>\n",
       "      <th>Age_2.0</th>\n",
       "      <th>Age_3.0</th>\n",
       "      <th>Age_4.0</th>\n",
       "      <th>Age_5.0</th>\n",
       "      <th>Age_6.0</th>\n",
       "      <th>Gender_0.0</th>\n",
       "      <th>Gender_1.0</th>\n",
       "      <th>Gender_2.0</th>\n",
       "      <th>Depth_1</th>\n",
       "      <th>Depth_2</th>\n",
       "      <th>Depth_3</th>\n",
       "      <th>Position_1</th>\n",
       "      <th>Position_2</th>\n",
       "      <th>Position_3</th>\n",
       "    </tr>\n",
       "  </thead>\n",
       "  <tbody>\n",
       "    <tr>\n",
       "      <th>0</th>\n",
       "      <td>0</td>\n",
       "      <td>1</td>\n",
       "      <td>739</td>\n",
       "      <td>480</td>\n",
       "      <td>0.0</td>\n",
       "      <td>0.0</td>\n",
       "      <td>0.0</td>\n",
       "      <td>1.0</td>\n",
       "      <td>0.0</td>\n",
       "      <td>0.0</td>\n",
       "      <td>0.0</td>\n",
       "      <td>0.0</td>\n",
       "      <td>1.0</td>\n",
       "      <td>0.0</td>\n",
       "      <td>0.0</td>\n",
       "      <td>0.0</td>\n",
       "      <td>1.0</td>\n",
       "      <td>0.0</td>\n",
       "      <td>0.0</td>\n",
       "      <td>1.0</td>\n",
       "    </tr>\n",
       "    <tr>\n",
       "      <th>1</th>\n",
       "      <td>0</td>\n",
       "      <td>1</td>\n",
       "      <td>12</td>\n",
       "      <td>5</td>\n",
       "      <td>0.0</td>\n",
       "      <td>0.0</td>\n",
       "      <td>0.0</td>\n",
       "      <td>1.0</td>\n",
       "      <td>0.0</td>\n",
       "      <td>0.0</td>\n",
       "      <td>0.0</td>\n",
       "      <td>0.0</td>\n",
       "      <td>1.0</td>\n",
       "      <td>0.0</td>\n",
       "      <td>0.0</td>\n",
       "      <td>1.0</td>\n",
       "      <td>0.0</td>\n",
       "      <td>0.0</td>\n",
       "      <td>1.0</td>\n",
       "      <td>0.0</td>\n",
       "    </tr>\n",
       "  </tbody>\n",
       "</table>\n",
       "</div>"
      ],
      "text/plain": [
       "   Click  Impression  #users  #ads  Age_0.0  Age_1.0  Age_2.0  Age_3.0  \\\n",
       "0      0           1     739   480      0.0      0.0      0.0      1.0   \n",
       "1      0           1      12     5      0.0      0.0      0.0      1.0   \n",
       "\n",
       "   Age_4.0  Age_5.0  Age_6.0  Gender_0.0  Gender_1.0  Gender_2.0  Depth_1  \\\n",
       "0      0.0      0.0      0.0         0.0         1.0         0.0      0.0   \n",
       "1      0.0      0.0      0.0         0.0         1.0         0.0      0.0   \n",
       "\n",
       "   Depth_2  Depth_3  Position_1  Position_2  Position_3  \n",
       "0      0.0      1.0         0.0         0.0         1.0  \n",
       "1      1.0      0.0         0.0         1.0         0.0  "
      ]
     },
     "execution_count": 140,
     "metadata": {},
     "output_type": "execute_result"
    }
   ],
   "source": [
    "t.head(2)"
   ]
  },
  {
   "cell_type": "code",
   "execution_count": 141,
   "metadata": {
    "collapsed": true
   },
   "outputs": [],
   "source": [
    "test.drop(['Tokenscore_query','Tokenscore_title','Tokenscore_desc','Tokenscore_key'], axis=1, inplace=True)"
   ]
  },
  {
   "cell_type": "code",
   "execution_count": 142,
   "metadata": {
    "collapsed": true
   },
   "outputs": [],
   "source": [
    "#test.drop(['Age_0.0','Age_1.0','Age_2.0','Age_3.0','Age_4.0','Age_5.0','Age_6.0','Gender_0.0','Gender_1.0','Gender_2.0'], axis=1, inplace=True)"
   ]
  },
  {
   "cell_type": "code",
   "execution_count": 143,
   "metadata": {
    "collapsed": false
   },
   "outputs": [
    {
     "data": {
      "text/html": [
       "<div>\n",
       "<table border=\"1\" class=\"dataframe\">\n",
       "  <thead>\n",
       "    <tr style=\"text-align: right;\">\n",
       "      <th></th>\n",
       "      <th>#users</th>\n",
       "      <th>#ads</th>\n",
       "      <th>Age_0.0</th>\n",
       "      <th>Age_1.0</th>\n",
       "      <th>Age_2.0</th>\n",
       "      <th>Age_3.0</th>\n",
       "      <th>Age_4.0</th>\n",
       "      <th>Age_5.0</th>\n",
       "      <th>Age_6.0</th>\n",
       "      <th>Gender_0.0</th>\n",
       "      <th>Gender_1.0</th>\n",
       "      <th>Gender_2.0</th>\n",
       "      <th>Depth_1</th>\n",
       "      <th>Depth_2</th>\n",
       "      <th>Depth_3</th>\n",
       "      <th>Position_1</th>\n",
       "      <th>Position_2</th>\n",
       "      <th>Position_3</th>\n",
       "    </tr>\n",
       "  </thead>\n",
       "  <tbody>\n",
       "    <tr>\n",
       "      <th>0</th>\n",
       "      <td>11.0</td>\n",
       "      <td>4.0</td>\n",
       "      <td>0.0</td>\n",
       "      <td>0.0</td>\n",
       "      <td>0.0</td>\n",
       "      <td>1.0</td>\n",
       "      <td>0.0</td>\n",
       "      <td>0.0</td>\n",
       "      <td>0.0</td>\n",
       "      <td>0.0</td>\n",
       "      <td>1.0</td>\n",
       "      <td>0.0</td>\n",
       "      <td>0.0</td>\n",
       "      <td>0.0</td>\n",
       "      <td>1.0</td>\n",
       "      <td>0.0</td>\n",
       "      <td>0.0</td>\n",
       "      <td>1.0</td>\n",
       "    </tr>\n",
       "    <tr>\n",
       "      <th>1</th>\n",
       "      <td>2891.0</td>\n",
       "      <td>1140.0</td>\n",
       "      <td>0.0</td>\n",
       "      <td>0.0</td>\n",
       "      <td>0.0</td>\n",
       "      <td>1.0</td>\n",
       "      <td>0.0</td>\n",
       "      <td>0.0</td>\n",
       "      <td>0.0</td>\n",
       "      <td>0.0</td>\n",
       "      <td>1.0</td>\n",
       "      <td>0.0</td>\n",
       "      <td>0.0</td>\n",
       "      <td>0.0</td>\n",
       "      <td>1.0</td>\n",
       "      <td>1.0</td>\n",
       "      <td>0.0</td>\n",
       "      <td>0.0</td>\n",
       "    </tr>\n",
       "  </tbody>\n",
       "</table>\n",
       "</div>"
      ],
      "text/plain": [
       "   #users    #ads  Age_0.0  Age_1.0  Age_2.0  Age_3.0  Age_4.0  Age_5.0  \\\n",
       "0    11.0     4.0      0.0      0.0      0.0      1.0      0.0      0.0   \n",
       "1  2891.0  1140.0      0.0      0.0      0.0      1.0      0.0      0.0   \n",
       "\n",
       "   Age_6.0  Gender_0.0  Gender_1.0  Gender_2.0  Depth_1  Depth_2  Depth_3  \\\n",
       "0      0.0         0.0         1.0         0.0      0.0      0.0      1.0   \n",
       "1      0.0         0.0         1.0         0.0      0.0      0.0      1.0   \n",
       "\n",
       "   Position_1  Position_2  Position_3  \n",
       "0         0.0         0.0         1.0  \n",
       "1         1.0         0.0         0.0  "
      ]
     },
     "execution_count": 143,
     "metadata": {},
     "output_type": "execute_result"
    }
   ],
   "source": [
    "test.head(2)"
   ]
  },
  {
   "cell_type": "code",
   "execution_count": null,
   "metadata": {
    "collapsed": true
   },
   "outputs": [],
   "source": []
  },
  {
   "cell_type": "code",
   "execution_count": null,
   "metadata": {
    "collapsed": true
   },
   "outputs": [],
   "source": []
  },
  {
   "cell_type": "code",
   "execution_count": null,
   "metadata": {
    "collapsed": true
   },
   "outputs": [],
   "source": []
  },
  {
   "cell_type": "code",
   "execution_count": null,
   "metadata": {
    "collapsed": true
   },
   "outputs": [],
   "source": []
  },
  {
   "cell_type": "code",
   "execution_count": null,
   "metadata": {
    "collapsed": true
   },
   "outputs": [],
   "source": []
  },
  {
   "cell_type": "code",
   "execution_count": null,
   "metadata": {
    "collapsed": true
   },
   "outputs": [],
   "source": []
  },
  {
   "cell_type": "code",
   "execution_count": null,
   "metadata": {
    "collapsed": true
   },
   "outputs": [],
   "source": []
  },
  {
   "cell_type": "code",
   "execution_count": null,
   "metadata": {
    "collapsed": true
   },
   "outputs": [],
   "source": []
  },
  {
   "cell_type": "code",
   "execution_count": null,
   "metadata": {
    "collapsed": true
   },
   "outputs": [],
   "source": []
  },
  {
   "cell_type": "code",
   "execution_count": null,
   "metadata": {
    "collapsed": true
   },
   "outputs": [],
   "source": []
  },
  {
   "cell_type": "code",
   "execution_count": null,
   "metadata": {
    "collapsed": true
   },
   "outputs": [],
   "source": []
  },
  {
   "cell_type": "code",
   "execution_count": null,
   "metadata": {
    "collapsed": true
   },
   "outputs": [],
   "source": []
  },
  {
   "cell_type": "code",
   "execution_count": null,
   "metadata": {
    "collapsed": true
   },
   "outputs": [],
   "source": []
  },
  {
   "cell_type": "code",
   "execution_count": 32,
   "metadata": {
    "collapsed": true
   },
   "outputs": [],
   "source": [
    "train.to_csv(\"C:/Users/Harika Konagala/Desktop/kddcup/train_100k.txt\",sep='\\t')"
   ]
  },
  {
   "cell_type": "code",
   "execution_count": 33,
   "metadata": {
    "collapsed": true
   },
   "outputs": [],
   "source": [
    "test.to_csv(\"C:/Users/Harika Konagala/Desktop/kddcup/test_100k.txt\",sep='\\t')"
   ]
  },
  {
   "cell_type": "code",
   "execution_count": 243,
   "metadata": {
    "collapsed": true
   },
   "outputs": [],
   "source": [
    "train=t.copy()"
   ]
  },
  {
   "cell_type": "code",
   "execution_count": 244,
   "metadata": {
    "collapsed": false
   },
   "outputs": [
    {
     "data": {
      "text/html": [
       "<div>\n",
       "<table border=\"1\" class=\"dataframe\">\n",
       "  <thead>\n",
       "    <tr style=\"text-align: right;\">\n",
       "      <th></th>\n",
       "      <th>Click</th>\n",
       "      <th>Impression</th>\n",
       "      <th>#users</th>\n",
       "      <th>#ads</th>\n",
       "      <th>Tokenscore_query</th>\n",
       "      <th>Tokenscore_title</th>\n",
       "      <th>Tokenscore_desc</th>\n",
       "      <th>Tokenscore_key</th>\n",
       "      <th>Depth_1</th>\n",
       "      <th>Depth_2</th>\n",
       "      <th>Depth_3</th>\n",
       "      <th>Position_1</th>\n",
       "      <th>Position_2</th>\n",
       "      <th>Position_3</th>\n",
       "    </tr>\n",
       "  </thead>\n",
       "  <tbody>\n",
       "    <tr>\n",
       "      <th>0</th>\n",
       "      <td>0</td>\n",
       "      <td>1</td>\n",
       "      <td>739</td>\n",
       "      <td>480</td>\n",
       "      <td>3718</td>\n",
       "      <td>0</td>\n",
       "      <td>19463858.0</td>\n",
       "      <td>36065</td>\n",
       "      <td>0.0</td>\n",
       "      <td>0.0</td>\n",
       "      <td>1.0</td>\n",
       "      <td>0.0</td>\n",
       "      <td>0.0</td>\n",
       "      <td>1.0</td>\n",
       "    </tr>\n",
       "    <tr>\n",
       "      <th>1</th>\n",
       "      <td>0</td>\n",
       "      <td>1</td>\n",
       "      <td>12</td>\n",
       "      <td>5</td>\n",
       "      <td>199799</td>\n",
       "      <td>0</td>\n",
       "      <td>341421.0</td>\n",
       "      <td>27728</td>\n",
       "      <td>0.0</td>\n",
       "      <td>1.0</td>\n",
       "      <td>0.0</td>\n",
       "      <td>0.0</td>\n",
       "      <td>1.0</td>\n",
       "      <td>0.0</td>\n",
       "    </tr>\n",
       "  </tbody>\n",
       "</table>\n",
       "</div>"
      ],
      "text/plain": [
       "   Click  Impression  #users  #ads  Tokenscore_query  Tokenscore_title  \\\n",
       "0      0           1     739   480              3718                 0   \n",
       "1      0           1      12     5            199799                 0   \n",
       "\n",
       "   Tokenscore_desc  Tokenscore_key  Depth_1  Depth_2  Depth_3  Position_1  \\\n",
       "0       19463858.0           36065      0.0      0.0      1.0         0.0   \n",
       "1         341421.0           27728      0.0      1.0      0.0         0.0   \n",
       "\n",
       "   Position_2  Position_3  \n",
       "0         0.0         1.0  \n",
       "1         1.0         0.0  "
      ]
     },
     "execution_count": 244,
     "metadata": {},
     "output_type": "execute_result"
    }
   ],
   "source": [
    "train.head(2)"
   ]
  },
  {
   "cell_type": "code",
   "execution_count": 245,
   "metadata": {
    "collapsed": false
   },
   "outputs": [
    {
     "name": "stdout",
     "output_type": "stream",
     "text": [
      "Original dataset shape Counter({0: 78785, 1: 4798, 2: 101, 3: 10, 4: 5, 5: 3, 7: 2, 6: 1, 8: 1, 9: 1, 11: 1, 24: 1})\n",
      "Resampled dataset shape Counter({0: 78785, 1: 78785, 2: 78785, 3: 78785, 4: 78785, 5: 78785, 6: 78785, 7: 78785, 8: 78785, 9: 78785, 11: 78785, 24: 78785})\n",
      "Original dataset shape Counter({1: 73418, 2: 6957, 3: 1706, 4: 656, 5: 363, 6: 218, 7: 88, 8: 66, 9: 41, 10: 34, 11: 30, 12: 18, 15: 15, 13: 13, 19: 11, 14: 9, 21: 8, 17: 7, 18: 7, 16: 5, 20: 5, 25: 5, 22: 4, 30: 4, 34: 4, 29: 3, 24: 2, 23: 1, 26: 1, 27: 1, 31: 1, 47: 1, 53: 1, 55: 1, 62: 1, 65: 1, 108: 1, 147: 1, 122: 1})\n",
      "Resampled dataset shape Counter({1: 73418, 2: 73418, 3: 73418, 4: 73418, 5: 73418, 6: 73418, 7: 73418, 8: 73418, 9: 73418, 10: 73418, 11: 73418, 12: 73418, 13: 73418, 14: 73418, 15: 73418, 16: 73418, 17: 73418, 18: 73418, 19: 73418, 20: 73418, 21: 73418, 22: 73418, 23: 73418, 24: 73418, 25: 73418, 26: 73418, 27: 73418, 29: 73418, 30: 73418, 31: 73418, 34: 73418, 47: 73418, 53: 73418, 55: 73418, 62: 73418, 65: 73418, 108: 73418, 147: 73418, 122: 73418})\n",
      "[ 25  20 108 ...,  22  24   8]\n",
      "[ 0.96        0.25        0.0462963  ...,  0.22727273  0.375       0.        ]\n",
      "0.513969614795\n"
     ]
    }
   ],
   "source": [
    "from collections import Counter\n",
    "from imblearn.over_sampling import RandomOverSampler\n",
    "from sklearn import metrics\n",
    "from sklearn.linear_model import LogisticRegression\n",
    "from sklearn import cross_validation\n",
    "from sklearn.cross_validation import train_test_split\n",
    "#from sklearn.metrics import precision_recall_fscore_support\n",
    "from sklearn.metrics import precision_recall_fscore_support as prfs\n",
    "\n",
    "def scoreClickAUC(num_clicks, num_impressions, predicted_ctr):\n",
    "    \"\"\"\n",
    "    Calculates the area under the ROC curve (AUC) for click rates\n",
    "\n",
    "    Parameters\n",
    "    ----------\n",
    "    num_clicks : a list containing the number of clicks\n",
    "\n",
    "    num_impressions : a list containing the number of impressions\n",
    "\n",
    "    predicted_ctr : a list containing the predicted click-through rates\n",
    "\n",
    "    Returns\n",
    "    -------\n",
    "    auc : the area under the ROC curve (AUC) for click rates\n",
    "    \"\"\"\n",
    "    i_sorted = sorted(range(len(predicted_ctr)),key=lambda i: predicted_ctr[i],\n",
    "                      reverse=True)\n",
    "    auc_temp = 0.0\n",
    "    click_sum = 0.0\n",
    "    old_click_sum = 0.0\n",
    "    no_click = 0.0\n",
    "    no_click_sum = 0.0\n",
    "\n",
    "    # treat all instances with the same predicted_ctr as coming from the\n",
    "    # same bucket\n",
    "    last_ctr = predicted_ctr[i_sorted[0]] + 1.0\n",
    "\n",
    "    for i in range(len(predicted_ctr)):\n",
    "        if last_ctr != predicted_ctr[i_sorted[i]]:\n",
    "            auc_temp += (click_sum+old_click_sum) * no_click / 2.0\n",
    "            old_click_sum = click_sum\n",
    "            no_click = 0.0\n",
    "            last_ctr = predicted_ctr[i_sorted[i]]\n",
    "        no_click += num_impressions[i_sorted[i]] - num_clicks[i_sorted[i]]\n",
    "        no_click_sum += num_impressions[i_sorted[i]] - num_clicks[i_sorted[i]]\n",
    "        click_sum += num_clicks[i_sorted[i]]\n",
    "    auc_temp += (click_sum+old_click_sum) * no_click / 2.0\n",
    "    auc = auc_temp / (click_sum * no_click_sum)\n",
    "    return auc\n",
    "\n",
    "\n",
    "\n",
    "#train = pd.read_csv(\"C:/Users/Harika Konagala/Desktop/kddcup/train_100k.txt\",sep=\"\\s+\")\n",
    "#test = pd.read_csv(\"C:/Users/Harika Konagala/Desktop/kddcup/test_100k.txt\",sep=\"\\s+\")\n",
    "# print(train.columns)\n",
    "# print(test.columns)\n",
    "# t=train.copy()\n",
    "# t.drop_duplicates(inplace = True)\n",
    "# # print(t.head(2))\n",
    "# # print(test.head(2))\n",
    "\n",
    "model = LogisticRegression()\n",
    "\n",
    "#over sampling\n",
    "\n",
    "X = train.as_matrix(columns=train.columns[2:])\n",
    "y_click = np.array(train['Click'])\n",
    "print('Original dataset shape {}'.format(Counter(y_click)))\n",
    "\n",
    "# Apply the random over-sampling\n",
    "ros = RandomOverSampler()\n",
    "X_ros, y_ros = ros.fit_sample(X, y_click)\n",
    "print('Resampled dataset shape {}'.format(Counter(y_ros)))\n",
    "\n",
    "X_train, X_test, Y_trainc, Y_testc = cross_validation.train_test_split(X_ros, y_ros, test_size=0.25, random_state=7)\n",
    "\n",
    "model = LogisticRegression()\n",
    "# model.fit(X_ros, y_ros)\n",
    "model.fit(X_ros, y_ros)\n",
    "#print(model)\n",
    "# make predictions\n",
    "# expected = Y_testc\n",
    "# predicted = model.predict(X_test)\n",
    "\n",
    "\n",
    "#result = model.score(X_test, Y_testc)\n",
    "# result = prfs(Y_testc, predicted)\n",
    "# print result\n",
    "          \n",
    "predicted_clicks = model.predict(test)\n",
    "#print(\"Accuracy: %.3f%%\") % (result*100.0)\n",
    "# summarize the fit of the model\n",
    "# print(metrics.classification_report(expected, predicted))\n",
    "# print(metrics.confusion_matrix(expected, predicted))\n",
    "\n",
    "#impression\n",
    "X = train.as_matrix(columns=train.columns[2:])\n",
    "y_imp = np.array(train['Impression'])\n",
    "print('Original dataset shape {}'.format(Counter(y_imp)))\n",
    "\n",
    "# Apply the random over-sampling\n",
    "ros = RandomOverSampler()\n",
    "X_rosi, y_rosi = ros.fit_sample(X, y_imp)\n",
    "print('Resampled dataset shape {}'.format(Counter(y_rosi)))\n",
    "\n",
    "X_train, X_test, Y_traini, Y_testi = cross_validation.train_test_split(X_rosi, y_rosi, test_size=0.25, random_state=7)\n",
    "\n",
    "model = LogisticRegression()\n",
    "# model.fit(X_rosi, y_rosi)\n",
    "model.fit(X_rosi, y_rosi)\n",
    "# print(model)\n",
    "# make predictions\n",
    "# expec_i = Y_testi\n",
    "# pred_i = model.predict(X_test)\n",
    "# result = model.score(X_test, Y_testi)\n",
    "# print(\"Accuracy: %.3f%%\") % (result*100.0)\n",
    "predicted_impressions = model.predict(test)\n",
    "\n",
    "print predicted_impressions\n",
    "\n",
    "labels = pd.read_csv(\"C:/Users/Harika Konagala/Desktop/kddcup/extras/KDD_Track2_solution.csv\",sep=\"\\s+\",nrows=99999)\n",
    "labels = labels['clicks,impressions,Indicator'].apply(lambda x: pd.Series(x.split(',')))\n",
    "labels = labels.rename(columns={0: 'clicks', 1: 'impressions', 2:'Indicator'})\n",
    "\n",
    "actual_clicks = labels['clicks']\n",
    "actual_impressions = labels['impressions']\n",
    "\n",
    "actual_clicks = [int(str) for str in actual_clicks]\n",
    "actual_impressions = [int(str) for str in actual_impressions]\n",
    "predicted_clicks = predicted_clicks.astype('float')\n",
    "predicted_impressions = predicted_impressions.astype('float')\n",
    "predicted_ctr = predicted_clicks / predicted_impressions\n",
    "\n",
    "print predicted_ctr\n",
    "\n",
    "auc_score = scoreClickAUC(actual_clicks, actual_impressions, predicted_ctr)\n",
    "print auc_score"
   ]
  },
  {
   "cell_type": "code",
   "execution_count": 286,
   "metadata": {
    "collapsed": false
   },
   "outputs": [
    {
     "name": "stdout",
     "output_type": "stream",
     "text": [
      "Original dataset shape Counter({0: 78785, 1: 4798, 2: 101, 3: 10, 4: 5, 5: 3, 7: 2, 6: 1, 8: 1, 9: 1, 11: 1, 24: 1})\n",
      "Resampled dataset shape Counter({0: 1, 1: 1, 2: 1, 3: 1, 4: 1, 5: 1, 6: 1, 7: 1, 8: 1, 9: 1, 11: 1, 24: 1})\n",
      "Original dataset shape Counter({1: 73418, 2: 6957, 3: 1706, 4: 656, 5: 363, 6: 218, 7: 88, 8: 66, 9: 41, 10: 34, 11: 30, 12: 18, 15: 15, 13: 13, 19: 11, 14: 9, 21: 8, 17: 7, 18: 7, 16: 5, 20: 5, 25: 5, 22: 4, 30: 4, 34: 4, 29: 3, 24: 2, 23: 1, 26: 1, 27: 1, 31: 1, 47: 1, 53: 1, 55: 1, 62: 1, 65: 1, 108: 1, 147: 1, 122: 1})\n",
      "Resampled dataset shape Counter({1: 1, 2: 1, 3: 1, 4: 1, 5: 1, 6: 1, 7: 1, 8: 1, 9: 1, 10: 1, 11: 1, 12: 1, 13: 1, 14: 1, 15: 1, 16: 1, 17: 1, 18: 1, 19: 1, 20: 1, 21: 1, 22: 1, 23: 1, 24: 1, 25: 1, 26: 1, 27: 1, 29: 1, 30: 1, 31: 1, 34: 1, 47: 1, 53: 1, 55: 1, 62: 1, 65: 1, 108: 1, 147: 1, 122: 1})\n",
      "[ 19  22 108 ...,   8   6  11]\n",
      "[ 1.26315789  0.22727273  0.0462963  ...,  0.          1.16666667\n",
      "  0.09090909]\n",
      "0.509599413184\n"
     ]
    }
   ],
   "source": [
    "from imblearn.under_sampling import RandomUnderSampler\n",
    "\n",
    "model = LogisticRegression()\n",
    "\n",
    "#over sampling\n",
    "\n",
    "X = train.as_matrix(columns=train.columns[2:])\n",
    "y_click = np.array(train['Click'])\n",
    "print('Original dataset shape {}'.format(Counter(y_click)))\n",
    "\n",
    "# Apply the random under-sampling\n",
    "rus = RandomUnderSampler()\n",
    "X_res, y_res = rus.fit_sample(X, y_click)\n",
    "print('Resampled dataset shape {}'.format(Counter(y_res)))\n",
    "\n",
    "X_train, X_test, Y_trainc, Y_testc = cross_validation.train_test_split(X_res, y_res, test_size=0.25, random_state=7)\n",
    "\n",
    "model = LogisticRegression()\n",
    "# model.fit(X_ros, y_ros)\n",
    "model.fit(X_res, y_res)\n",
    "#print(model)\n",
    "# make predictions\n",
    "# expected = Y_testc\n",
    "# predicted = model.predict(X_test)\n",
    "from sklearn.metrics import precision_recall_fscore_support as prfs\n",
    "#result = model.score(X_test, Y_testc)\n",
    "# result = prfs(Y_testc, predicted)\n",
    "# print result\n",
    "predicted_clicks = model.predict(test)\n",
    "#print(\"Accuracy: %.3f%%\") % (result*100.0)\n",
    "# summarize the fit of the model\n",
    "# print(metrics.classification_report(expected, predicted))\n",
    "# print(metrics.confusion_matrix(expected, predicted))\n",
    "\n",
    "#impression\n",
    "X = train.as_matrix(columns=train.columns[2:])\n",
    "y_imp = np.array(train['Impression'])\n",
    "print('Original dataset shape {}'.format(Counter(y_imp)))\n",
    "\n",
    "# Apply the random under-sampling\n",
    "rus = RandomUnderSampler()\n",
    "X_resi, y_resi = rus.fit_sample(X, y_imp)\n",
    "print('Resampled dataset shape {}'.format(Counter(y_resi)))\n",
    "\n",
    "\n",
    "\n",
    "X_train, X_test, Y_traini, Y_testi = cross_validation.train_test_split(X_resi, y_resi, test_size=0.25, random_state=7)\n",
    "\n",
    "model = LogisticRegression()\n",
    "# model.fit(X_rosi, y_rosi)\n",
    "model.fit(X_resi, y_resi)\n",
    "# print(model)\n",
    "# make predictions\n",
    "# expec_i = Y_testi\n",
    "# pred_i = model.predict(X_test)\n",
    "# result = model.score(X_test, Y_testi)\n",
    "# print(\"Accuracy: %.3f%%\") % (result*100.0)\n",
    "predicted_impressions = model.predict(test)\n",
    "\n",
    "print predicted_impressions\n",
    "\n",
    "#labels = pd.read_csv(\"C:/Users/Harika Konagala/Desktop/kddcup/extras/KDD_Track2_solution.csv\",sep=\"\\s+\",nrows=99999)\n",
    "#labels = labels['clicks,impressions,Indicator'].apply(lambda x: pd.Series(x.split(',')))\n",
    "#labels = labels.rename(columns={0: 'clicks', 1: 'impressions', 2:'Indicator'})\n",
    "\n",
    "actual_clicks = labels['clicks']\n",
    "actual_impressions = labels['impressions']\n",
    "\n",
    "actual_clicks = [int(str) for str in actual_clicks]\n",
    "actual_impressions = [int(str) for str in actual_impressions]\n",
    "\n",
    "predicted_clicks = predicted_clicks.astype('float')\n",
    "predicted_impressions = predicted_impressions.astype('float')\n",
    "\n",
    "predicted_ctr = predicted_clicks / predicted_impressions\n",
    "\n",
    "print predicted_ctr\n",
    "\n",
    "auc_score = scoreClickAUC(actual_clicks, actual_impressions, predicted_ctr)\n",
    "print auc_score"
   ]
  },
  {
   "cell_type": "code",
   "execution_count": 287,
   "metadata": {
    "collapsed": false
   },
   "outputs": [
    {
     "name": "stdout",
     "output_type": "stream",
     "text": [
      "Original dataset shape Counter({0: 78785, 1: 4798, 2: 101, 3: 10, 4: 5, 5: 3, 7: 2, 6: 1, 8: 1, 9: 1, 11: 1, 24: 1})\n",
      "Original dataset shape Counter({1: 73418, 2: 6957, 3: 1706, 4: 656, 5: 363, 6: 218, 7: 88, 8: 66, 9: 41, 10: 34, 11: 30, 12: 18, 15: 15, 13: 13, 19: 11, 14: 9, 21: 8, 17: 7, 18: 7, 16: 5, 20: 5, 25: 5, 22: 4, 30: 4, 34: 4, 29: 3, 24: 2, 23: 1, 26: 1, 27: 1, 31: 1, 47: 1, 53: 1, 55: 1, 62: 1, 65: 1, 108: 1, 147: 1, 122: 1})\n",
      "[1 1 1 ..., 1 1 1]\n",
      "[ 0.  0.  0. ...,  0.  0.  0.]\n",
      "0.5\n"
     ]
    }
   ],
   "source": [
    "\n",
    "\n",
    "def scoreClickAUC(num_clicks, num_impressions, predicted_ctr):\n",
    "    \"\"\"\n",
    "    Calculates the area under the ROC curve (AUC) for click rates\n",
    "\n",
    "    Parameters\n",
    "    ----------\n",
    "    num_clicks : a list containing the number of clicks\n",
    "\n",
    "    num_impressions : a list containing the number of impressions\n",
    "\n",
    "    predicted_ctr : a list containing the predicted click-through rates\n",
    "\n",
    "    Returns\n",
    "    -------\n",
    "    auc : the area under the ROC curve (AUC) for click rates\n",
    "    \"\"\"\n",
    "    i_sorted = sorted(range(len(predicted_ctr)),key=lambda i: predicted_ctr[i],\n",
    "                      reverse=True)\n",
    "    auc_temp = 0.0\n",
    "    click_sum = 0.0\n",
    "    old_click_sum = 0.0\n",
    "    no_click = 0.0\n",
    "    no_click_sum = 0.0\n",
    "\n",
    "    # treat all instances with the same predicted_ctr as coming from the\n",
    "    # same bucket\n",
    "    last_ctr = predicted_ctr[i_sorted[0]] + 1.0\n",
    "\n",
    "    for i in range(len(predicted_ctr)):\n",
    "        if last_ctr != predicted_ctr[i_sorted[i]]:\n",
    "            auc_temp += (click_sum+old_click_sum) * no_click / 2.0\n",
    "            old_click_sum = click_sum\n",
    "            no_click = 0.0\n",
    "            last_ctr = predicted_ctr[i_sorted[i]]\n",
    "        no_click += num_impressions[i_sorted[i]] - num_clicks[i_sorted[i]]\n",
    "        no_click_sum += num_impressions[i_sorted[i]] - num_clicks[i_sorted[i]]\n",
    "        click_sum += num_clicks[i_sorted[i]]\n",
    "    auc_temp += (click_sum+old_click_sum) * no_click / 2.0\n",
    "    auc = auc_temp / (click_sum * no_click_sum)\n",
    "    return auc\n",
    "\n",
    "\n",
    "\n",
    "#train = pd.read_csv(\"C:/Users/Harika Konagala/Desktop/kddcup/New folder/traindata_50k.txt\",sep=\"\\s+\")\n",
    "#test = pd.read_csv(\"C:/Users/Harika Konagala/Desktop/kddcup/New folder/testdata_50k.txt\",sep=\"\\s+\")\n",
    "# print(train.columns)\n",
    "# print(test.columns)\n",
    "# t=train.copy()\n",
    "# t.drop_duplicates(inplace = True)\n",
    "# # print(t.head(2))\n",
    "# # print(test.head(2))\n",
    "\n",
    "model = LogisticRegression()\n",
    "\n",
    "#over sampling\n",
    "\n",
    "X = train.as_matrix(columns=train.columns[2:])\n",
    "y_click = np.array(train['Click'])\n",
    "print('Original dataset shape {}'.format(Counter(y_click)))\n",
    "\n",
    "\n",
    "\n",
    "model = LogisticRegression()\n",
    "# model.fit(X_ros, y_ros)\n",
    "model.fit(X, y_click)\n",
    "#print(model)\n",
    "# make predictions\n",
    "# expected = Y_testc\n",
    "# predicted = model.predict(X_test)\n",
    "from sklearn.metrics import precision_recall_fscore_support as prfs\n",
    "#result = model.score(X_test, Y_testc)\n",
    "# result = prfs(Y_testc, predicted)\n",
    "# print result\n",
    "predicted_clicks = model.predict(test)\n",
    "#print(\"Accuracy: %.3f%%\") % (result*100.0)\n",
    "# summarize the fit of the model\n",
    "# print(metrics.classification_report(expected, predicted))\n",
    "# print(metrics.confusion_matrix(expected, predicted))\n",
    "\n",
    "#impression\n",
    "X = train.as_matrix(columns=train.columns[2:])\n",
    "y_imp = np.array(train['Impression'])\n",
    "print('Original dataset shape {}'.format(Counter(y_imp)))\n",
    "\n",
    "\n",
    "\n",
    "model = LogisticRegression()\n",
    "# model.fit(X_rosi, y_rosi)\n",
    "model.fit(X, y_imp)\n",
    "# print(model)\n",
    "# make predictions\n",
    "# expec_i = Y_testi\n",
    "# pred_i = model.predict(X_test)\n",
    "# result = model.score(X_test, Y_testi)\n",
    "# print(\"Accuracy: %.3f%%\") % (result*100.0)\n",
    "predicted_impressions = model.predict(test)\n",
    "\n",
    "print predicted_impressions\n",
    "\n",
    "labels = pd.read_csv(\"C:/Users/Harika Konagala/Desktop/kddcup/extras/KDD_Track2_solution.csv\",sep=\"\\s+\",nrows=99999)\n",
    "labels = labels['clicks,impressions,Indicator'].apply(lambda x: pd.Series(x.split(',')))\n",
    "labels = labels.rename(columns={0: 'clicks', 1: 'impressions', 2:'Indicator'})\n",
    "\n",
    "actual_clicks = labels['clicks']\n",
    "actual_impressions = labels['impressions']\n",
    "\n",
    "actual_clicks = [int(str) for str in actual_clicks]\n",
    "actual_impressions = [int(str) for str in actual_impressions]\n",
    "predicted_clicks = predicted_clicks.astype('float')\n",
    "predicted_impressions = predicted_impressions.astype('float')\n",
    "predicted_ctr = predicted_clicks / predicted_impressions\n",
    "\n",
    "print predicted_ctr\n",
    "\n",
    "auc_score = scoreClickAUC(actual_clicks, actual_impressions, predicted_ctr)\n",
    "print auc_score"
   ]
  },
  {
   "cell_type": "code",
   "execution_count": null,
   "metadata": {
    "collapsed": true
   },
   "outputs": [],
   "source": []
  },
  {
   "cell_type": "code",
   "execution_count": null,
   "metadata": {
    "collapsed": true
   },
   "outputs": [],
   "source": []
  },
  {
   "cell_type": "code",
   "execution_count": 34,
   "metadata": {
    "collapsed": true
   },
   "outputs": [],
   "source": [
    " from costcla.models import CostSensitiveLogisticRegression"
   ]
  },
  {
   "cell_type": "code",
   "execution_count": 35,
   "metadata": {
    "collapsed": true
   },
   "outputs": [],
   "source": [
    "from costcla.metrics import savings_score"
   ]
  },
  {
   "cell_type": "code",
   "execution_count": null,
   "metadata": {
    "collapsed": true
   },
   "outputs": [],
   "source": [
    "sets = train_test_split(data.data, data.target, data.cost_mat, test_size=0.33, random_state=0)\n",
    "X_train, X_test, y_train, y_test, cost_mat_train, cost_mat_test = sets\n",
    "y_pred_test_lr = LogisticRegression(random_state=0).fit(X_train, y_train).predict(X_test)\n",
    "f = CostSensitiveLogisticRegression()\n",
    "f.fit(X_train, y_train, cost_mat_train)\n",
    "y_pred_test_cslr = f.predict(X_test)\n",
    "# Savings using Logistic Regression\n",
    "print(savings_score(y_test, y_pred_test_lr, cost_mat_test))\n",
    "\n",
    "# Savings using Cost Sensitive Logistic Regression\n",
    "print(savings_score(y_test, y_pred_test_cslr, cost_mat_test))\n"
   ]
  },
  {
   "cell_type": "code",
   "execution_count": null,
   "metadata": {
    "collapsed": true
   },
   "outputs": [],
   "source": []
  },
  {
   "cell_type": "code",
   "execution_count": null,
   "metadata": {
    "collapsed": true
   },
   "outputs": [],
   "source": []
  },
  {
   "cell_type": "code",
   "execution_count": null,
   "metadata": {
    "collapsed": true
   },
   "outputs": [],
   "source": []
  },
  {
   "cell_type": "code",
   "execution_count": null,
   "metadata": {
    "collapsed": true
   },
   "outputs": [],
   "source": []
  },
  {
   "cell_type": "code",
   "execution_count": null,
   "metadata": {
    "collapsed": true
   },
   "outputs": [],
   "source": []
  },
  {
   "cell_type": "code",
   "execution_count": 87,
   "metadata": {
    "collapsed": false
   },
   "outputs": [],
   "source": [
    "#predicting clicks\n",
    "# Logistic Regression \n",
    "from sklearn import datasets\n",
    "from sklearn import metrics\n",
    "from sklearn.linear_model import LogisticRegression\n",
    "from sklearn import cross_validation\n",
    "from sklearn.cross_validation import train_test_split"
   ]
  },
  {
   "cell_type": "code",
   "execution_count": 88,
   "metadata": {
    "collapsed": true
   },
   "outputs": [],
   "source": [
    "model = LogisticRegression()"
   ]
  },
  {
   "cell_type": "code",
   "execution_count": 89,
   "metadata": {
    "collapsed": false,
    "scrolled": false
   },
   "outputs": [
    {
     "data": {
      "text/plain": [
       "LogisticRegression(C=1.0, class_weight=None, dual=False, fit_intercept=True,\n",
       "          intercept_scaling=1, max_iter=100, multi_class='ovr', n_jobs=1,\n",
       "          penalty='l2', random_state=None, solver='liblinear', tol=0.0001,\n",
       "          verbose=0, warm_start=False)"
      ]
     },
     "execution_count": 89,
     "metadata": {},
     "output_type": "execute_result"
    }
   ],
   "source": [
    "X = t.as_matrix(columns=t.columns[2:])\n",
    "test = test.as_matrix(columns=test.columns)\n",
    "y_click = np.array(t['Click'])\n",
    "model.fit(X, y_click)"
   ]
  },
  {
   "cell_type": "code",
   "execution_count": 90,
   "metadata": {
    "collapsed": false
   },
   "outputs": [],
   "source": [
    "# make predictions\n",
    "predicted = model.predict(test)"
   ]
  },
  {
   "cell_type": "code",
   "execution_count": 91,
   "metadata": {
    "collapsed": true
   },
   "outputs": [],
   "source": [
    "labels = pd.read_csv(\"C:/Users/Harika Konagala/Desktop/kddcup/extras/KDD_Track2_solution.csv\",sep=\"\\s+\",nrows=9999)"
   ]
  },
  {
   "cell_type": "code",
   "execution_count": 92,
   "metadata": {
    "collapsed": false
   },
   "outputs": [
    {
     "data": {
      "text/html": [
       "<div>\n",
       "<table border=\"1\" class=\"dataframe\">\n",
       "  <thead>\n",
       "    <tr style=\"text-align: right;\">\n",
       "      <th></th>\n",
       "      <th>clicks,impressions,Indicator</th>\n",
       "    </tr>\n",
       "  </thead>\n",
       "  <tbody>\n",
       "    <tr>\n",
       "      <th>0</th>\n",
       "      <td>0,1,Public</td>\n",
       "    </tr>\n",
       "    <tr>\n",
       "      <th>1</th>\n",
       "      <td>0,1,Private</td>\n",
       "    </tr>\n",
       "  </tbody>\n",
       "</table>\n",
       "</div>"
      ],
      "text/plain": [
       "  clicks,impressions,Indicator\n",
       "0                   0,1,Public\n",
       "1                  0,1,Private"
      ]
     },
     "execution_count": 92,
     "metadata": {},
     "output_type": "execute_result"
    }
   ],
   "source": [
    "labels.head(2)"
   ]
  },
  {
   "cell_type": "code",
   "execution_count": 93,
   "metadata": {
    "collapsed": false,
    "scrolled": true
   },
   "outputs": [],
   "source": [
    "labels = labels['clicks,impressions,Indicator'].apply(lambda x: pd.Series(x.split(',')))"
   ]
  },
  {
   "cell_type": "code",
   "execution_count": 94,
   "metadata": {
    "collapsed": false,
    "scrolled": true
   },
   "outputs": [
    {
     "data": {
      "text/plain": [
       "RangeIndex(start=0, stop=3, step=1)"
      ]
     },
     "execution_count": 94,
     "metadata": {},
     "output_type": "execute_result"
    }
   ],
   "source": [
    "labels.columns"
   ]
  },
  {
   "cell_type": "code",
   "execution_count": 95,
   "metadata": {
    "collapsed": false
   },
   "outputs": [
    {
     "data": {
      "text/html": [
       "<div>\n",
       "<table border=\"1\" class=\"dataframe\">\n",
       "  <thead>\n",
       "    <tr style=\"text-align: right;\">\n",
       "      <th></th>\n",
       "      <th>0</th>\n",
       "      <th>1</th>\n",
       "      <th>2</th>\n",
       "    </tr>\n",
       "  </thead>\n",
       "  <tbody>\n",
       "    <tr>\n",
       "      <th>0</th>\n",
       "      <td>0</td>\n",
       "      <td>1</td>\n",
       "      <td>Public</td>\n",
       "    </tr>\n",
       "    <tr>\n",
       "      <th>1</th>\n",
       "      <td>0</td>\n",
       "      <td>1</td>\n",
       "      <td>Private</td>\n",
       "    </tr>\n",
       "  </tbody>\n",
       "</table>\n",
       "</div>"
      ],
      "text/plain": [
       "   0  1        2\n",
       "0  0  1   Public\n",
       "1  0  1  Private"
      ]
     },
     "execution_count": 95,
     "metadata": {},
     "output_type": "execute_result"
    }
   ],
   "source": [
    "labels.head(2)"
   ]
  },
  {
   "cell_type": "code",
   "execution_count": 96,
   "metadata": {
    "collapsed": false
   },
   "outputs": [
    {
     "data": {
      "text/plain": [
       "9999"
      ]
     },
     "execution_count": 96,
     "metadata": {},
     "output_type": "execute_result"
    }
   ],
   "source": [
    "len(labels)"
   ]
  },
  {
   "cell_type": "code",
   "execution_count": 97,
   "metadata": {
    "collapsed": true
   },
   "outputs": [],
   "source": [
    "labels = labels.rename(columns={0: 'clicks', 1: 'impressions', 2:'Indicator'})"
   ]
  },
  {
   "cell_type": "code",
   "execution_count": 98,
   "metadata": {
    "collapsed": false
   },
   "outputs": [
    {
     "data": {
      "text/html": [
       "<div>\n",
       "<table border=\"1\" class=\"dataframe\">\n",
       "  <thead>\n",
       "    <tr style=\"text-align: right;\">\n",
       "      <th></th>\n",
       "      <th>clicks</th>\n",
       "      <th>impressions</th>\n",
       "      <th>Indicator</th>\n",
       "    </tr>\n",
       "  </thead>\n",
       "  <tbody>\n",
       "    <tr>\n",
       "      <th>0</th>\n",
       "      <td>0</td>\n",
       "      <td>1</td>\n",
       "      <td>Public</td>\n",
       "    </tr>\n",
       "    <tr>\n",
       "      <th>1</th>\n",
       "      <td>0</td>\n",
       "      <td>1</td>\n",
       "      <td>Private</td>\n",
       "    </tr>\n",
       "  </tbody>\n",
       "</table>\n",
       "</div>"
      ],
      "text/plain": [
       "  clicks impressions Indicator\n",
       "0      0           1    Public\n",
       "1      0           1   Private"
      ]
     },
     "execution_count": 98,
     "metadata": {},
     "output_type": "execute_result"
    }
   ],
   "source": [
    "labels.head(2)"
   ]
  },
  {
   "cell_type": "code",
   "execution_count": 99,
   "metadata": {
    "collapsed": false
   },
   "outputs": [
    {
     "data": {
      "text/plain": [
       "'clicks'"
      ]
     },
     "execution_count": 99,
     "metadata": {},
     "output_type": "execute_result"
    }
   ],
   "source": [
    "labels.columns[0]"
   ]
  },
  {
   "cell_type": "code",
   "execution_count": 100,
   "metadata": {
    "collapsed": false
   },
   "outputs": [],
   "source": [
    "label = np.array(labels['clicks'])"
   ]
  },
  {
   "cell_type": "code",
   "execution_count": 101,
   "metadata": {
    "collapsed": false
   },
   "outputs": [
    {
     "name": "stdout",
     "output_type": "stream",
     "text": [
      "Accuracy: 0.000%\n"
     ]
    }
   ],
   "source": [
    "result = model.score(test, label)\n",
    "print(\"Accuracy: %.3f%%\") % (result*100.0)"
   ]
  },
  {
   "cell_type": "code",
   "execution_count": 102,
   "metadata": {
    "collapsed": false
   },
   "outputs": [
    {
     "data": {
      "text/plain": [
       "0.045804580458045807"
      ]
     },
     "execution_count": 102,
     "metadata": {},
     "output_type": "execute_result"
    }
   ],
   "source": [
    "from sklearn.metrics import mean_squared_error\n",
    "mean_squared_error(predicted, label)"
   ]
  },
  {
   "cell_type": "code",
   "execution_count": 106,
   "metadata": {
    "collapsed": true
   },
   "outputs": [],
   "source": [
    "model = LogisticRegression()\n",
    "\n"
   ]
  },
  {
   "cell_type": "code",
   "execution_count": 107,
   "metadata": {
    "collapsed": false
   },
   "outputs": [
    {
     "ename": "AttributeError",
     "evalue": "'numpy.ndarray' object has no attribute 'as_matrix'",
     "output_type": "error",
     "traceback": [
      "\u001b[1;31m---------------------------------------------------------------------------\u001b[0m",
      "\u001b[1;31mAttributeError\u001b[0m                            Traceback (most recent call last)",
      "\u001b[1;32m<ipython-input-107-a6827da6c464>\u001b[0m in \u001b[0;36m<module>\u001b[1;34m()\u001b[0m\n\u001b[0;32m      1\u001b[0m \u001b[0mX\u001b[0m \u001b[1;33m=\u001b[0m \u001b[0mt\u001b[0m\u001b[1;33m.\u001b[0m\u001b[0mas_matrix\u001b[0m\u001b[1;33m(\u001b[0m\u001b[0mcolumns\u001b[0m\u001b[1;33m=\u001b[0m\u001b[0mt\u001b[0m\u001b[1;33m.\u001b[0m\u001b[0mcolumns\u001b[0m\u001b[1;33m[\u001b[0m\u001b[1;36m2\u001b[0m\u001b[1;33m:\u001b[0m\u001b[1;33m]\u001b[0m\u001b[1;33m)\u001b[0m\u001b[1;33m\u001b[0m\u001b[0m\n\u001b[1;32m----> 2\u001b[1;33m \u001b[0mtest1\u001b[0m \u001b[1;33m=\u001b[0m \u001b[0mtest\u001b[0m\u001b[1;33m.\u001b[0m\u001b[0mas_matrix\u001b[0m\u001b[1;33m(\u001b[0m\u001b[0mcolumns\u001b[0m\u001b[1;33m=\u001b[0m\u001b[0mtest\u001b[0m\u001b[1;33m.\u001b[0m\u001b[0mcolumns\u001b[0m\u001b[1;33m)\u001b[0m\u001b[1;33m\u001b[0m\u001b[0m\n\u001b[0m\u001b[0;32m      3\u001b[0m \u001b[0my_imp\u001b[0m \u001b[1;33m=\u001b[0m \u001b[0mnp\u001b[0m\u001b[1;33m.\u001b[0m\u001b[0marray\u001b[0m\u001b[1;33m(\u001b[0m\u001b[0mt\u001b[0m\u001b[1;33m[\u001b[0m\u001b[1;34m'Impression'\u001b[0m\u001b[1;33m]\u001b[0m\u001b[1;33m)\u001b[0m\u001b[1;33m\u001b[0m\u001b[0m\n",
      "\u001b[1;31mAttributeError\u001b[0m: 'numpy.ndarray' object has no attribute 'as_matrix'"
     ]
    }
   ],
   "source": [
    "X = t.as_matrix(columns=t.columns[2:])\n",
    "test1 = test.as_matrix(columns=test.columns)\n",
    "y_imp = np.array(t['Impression'])\n"
   ]
  },
  {
   "cell_type": "code",
   "execution_count": null,
   "metadata": {
    "collapsed": true
   },
   "outputs": [],
   "source": [
    "model.fit(X, y_imp)\n",
    "predicted = model.predict(test1)\n",
    "label = np.array(labels['impressions'])\n",
    "result = model.score(test1, label)\n",
    "print(\"Accuracy: %.3f%%\") % (result*100.0)\n",
    "mean_squared_error(predicted, label)"
   ]
  },
  {
   "cell_type": "code",
   "execution_count": 108,
   "metadata": {
    "collapsed": true
   },
   "outputs": [],
   "source": [
    " from sklearn.decomposition import PCA"
   ]
  },
  {
   "cell_type": "code",
   "execution_count": 109,
   "metadata": {
    "collapsed": true
   },
   "outputs": [],
   "source": [
    "pca = PCA(n_components=2)"
   ]
  },
  {
   "cell_type": "code",
   "execution_count": 113,
   "metadata": {
    "collapsed": false
   },
   "outputs": [
    {
     "data": {
      "text/plain": [
       "array([[  18.22000645,  -95.10318818],\n",
       "       [ -92.40411402,  -98.03963094],\n",
       "       [ -92.90562769,  -98.02394917],\n",
       "       ..., \n",
       "       [ -98.63921398,   70.68168879],\n",
       "       [ -93.79562429,  -71.84686204],\n",
       "       [ 301.87333866,  -85.89786917]])"
      ]
     },
     "execution_count": 113,
     "metadata": {},
     "output_type": "execute_result"
    }
   ],
   "source": [
    "X = t.as_matrix(columns=t.columns)\n",
    "pca.fit(X).transform(X)"
   ]
  },
  {
   "cell_type": "code",
   "execution_count": 114,
   "metadata": {
    "collapsed": false
   },
   "outputs": [
    {
     "name": "stdout",
     "output_type": "stream",
     "text": [
      "[ 0.57124602  0.33173581]\n"
     ]
    }
   ],
   "source": [
    "print(pca.explained_variance_ratio_) "
   ]
  },
  {
   "cell_type": "code",
   "execution_count": 115,
   "metadata": {
    "collapsed": true
   },
   "outputs": [],
   "source": [
    "#till here"
   ]
  },
  {
   "cell_type": "code",
   "execution_count": null,
   "metadata": {
    "collapsed": true
   },
   "outputs": [],
   "source": []
  },
  {
   "cell_type": "code",
   "execution_count": null,
   "metadata": {
    "collapsed": true
   },
   "outputs": [],
   "source": []
  },
  {
   "cell_type": "code",
   "execution_count": null,
   "metadata": {
    "collapsed": true
   },
   "outputs": [],
   "source": []
  },
  {
   "cell_type": "code",
   "execution_count": null,
   "metadata": {
    "collapsed": true
   },
   "outputs": [],
   "source": []
  },
  {
   "cell_type": "code",
   "execution_count": null,
   "metadata": {
    "collapsed": true
   },
   "outputs": [],
   "source": []
  },
  {
   "cell_type": "code",
   "execution_count": null,
   "metadata": {
    "collapsed": true
   },
   "outputs": [],
   "source": []
  },
  {
   "cell_type": "code",
   "execution_count": null,
   "metadata": {
    "collapsed": true
   },
   "outputs": [],
   "source": []
  },
  {
   "cell_type": "code",
   "execution_count": 29,
   "metadata": {
    "collapsed": false
   },
   "outputs": [],
   "source": [
    "#model.score(X,y_click)"
   ]
  },
  {
   "cell_type": "code",
   "execution_count": 30,
   "metadata": {
    "collapsed": true
   },
   "outputs": [],
   "source": [
    "#impressions"
   ]
  },
  {
   "cell_type": "code",
   "execution_count": 33,
   "metadata": {
    "collapsed": false,
    "scrolled": true
   },
   "outputs": [
    {
     "name": "stdout",
     "output_type": "stream",
     "text": [
      "LogisticRegression(C=1.0, class_weight=None, dual=False, fit_intercept=True,\n",
      "          intercept_scaling=1, max_iter=100, multi_class='ovr', n_jobs=1,\n",
      "          penalty='l2', random_state=None, solver='liblinear', tol=0.0001,\n",
      "          verbose=0, warm_start=False)\n",
      "Accuracy: 82.809%\n",
      "             precision    recall  f1-score   support\n",
      "\n",
      "          1       0.83      1.00      0.91     47844\n",
      "          2       0.00      0.00      0.00      6414\n",
      "          3       0.00      0.00      0.00      1788\n",
      "          4       0.00      0.00      0.00       697\n",
      "          5       0.00      0.00      0.00       369\n",
      "          6       0.00      0.00      0.00       255\n",
      "          7       0.00      0.00      0.00        98\n",
      "          8       0.00      0.00      0.00        60\n",
      "          9       0.00      0.00      0.00        47\n",
      "         10       0.00      0.00      0.00        43\n",
      "         11       0.00      0.00      0.00        34\n",
      "         12       0.00      0.00      0.00        19\n",
      "         13       0.00      0.00      0.00        15\n",
      "         14       0.00      0.00      0.00         5\n",
      "         15       0.00      0.00      0.00         9\n",
      "         16       0.00      0.00      0.00         6\n",
      "         17       0.00      0.00      0.00        15\n",
      "         18       0.00      0.00      0.00         7\n",
      "         19       0.00      0.00      0.00         2\n",
      "         20       0.00      0.00      0.00         5\n",
      "         21       0.00      0.00      0.00         1\n",
      "         22       0.00      0.00      0.00         3\n",
      "         23       0.00      0.00      0.00         3\n",
      "         24       0.00      0.00      0.00         1\n",
      "         27       0.00      0.00      0.00         4\n",
      "         28       0.00      0.00      0.00         1\n",
      "         29       0.00      0.00      0.00         2\n",
      "         30       0.00      0.00      0.00         1\n",
      "         31       0.00      0.00      0.00         2\n",
      "         33       0.00      0.00      0.00         1\n",
      "         34       0.00      0.00      0.00         5\n",
      "         36       0.00      0.00      0.00         1\n",
      "         37       0.00      0.00      0.00         2\n",
      "         38       0.00      0.00      0.00         1\n",
      "         39       0.00      0.00      0.00         1\n",
      "         40       0.00      0.00      0.00         1\n",
      "         43       0.00      0.00      0.00         1\n",
      "         46       0.00      0.00      0.00         1\n",
      "         47       0.00      0.00      0.00         2\n",
      "         51       0.00      0.00      0.00         1\n",
      "         52       0.00      0.00      0.00         2\n",
      "         55       0.00      0.00      0.00         1\n",
      "         62       0.00      0.00      0.00         2\n",
      "         65       0.00      0.00      0.00         1\n",
      "         71       0.00      0.00      0.00         1\n",
      "         72       0.00      0.00      0.00         1\n",
      "        169       0.00      0.00      0.00         1\n",
      "\n",
      "avg / total       0.69      0.83      0.75     57776\n",
      "\n",
      "[[47844     0     0 ...,     0     0     0]\n",
      " [ 6414     0     0 ...,     0     0     0]\n",
      " [ 1788     0     0 ...,     0     0     0]\n",
      " ..., \n",
      " [    1     0     0 ...,     0     0     0]\n",
      " [    1     0     0 ...,     0     0     0]\n",
      " [    1     0     0 ...,     0     0     0]]\n"
     ]
    }
   ],
   "source": [
    "X = train.as_matrix(columns=train.columns[2:])\n",
    "#X_test = test.as_matrix(columns=test.columns)\n",
    "y_imp = np.array(train['Impression'])\n",
    "X_train, X_test, Y_traini, Y_testi = cross_validation.train_test_split(X, y_imp, test_size=0.25, random_state=7)\n",
    "\n",
    "model = LogisticRegression()\n",
    "model.fit(X_train, Y_traini)\n",
    "print(model)\n",
    "# make predictions\n",
    "expec_i = Y_testi\n",
    "pred_i = model.predict(X_test)\n",
    "result = model.score(X_test, Y_testi)\n",
    "print(\"Accuracy: %.3f%%\") % (result*100.0)\n",
    "# summarize the fit of the model\n",
    "print(metrics.classification_report(expec_i, pred_i))\n",
    "print(metrics.confusion_matrix(expec_i, pred_i))"
   ]
  },
  {
   "cell_type": "code",
   "execution_count": 34,
   "metadata": {
    "collapsed": true
   },
   "outputs": [],
   "source": [
    "np.savetxt(\"/Users/phani/dev/projects/harriee/dsproject/extras/pred_c.out\", predicted, delimiter=',')\n",
    "np.savetxt(\"/Users/phani/dev/projects/harriee/dsproject/extras/pred_i.out\", pred_i, delimiter=',')"
   ]
  },
  {
   "cell_type": "code",
   "execution_count": 35,
   "metadata": {
    "collapsed": true
   },
   "outputs": [],
   "source": [
    "#imbalanced dataset"
   ]
  },
  {
   "cell_type": "code",
   "execution_count": 36,
   "metadata": {
    "collapsed": true
   },
   "outputs": [],
   "source": [
    "#over sampling"
   ]
  },
  {
   "cell_type": "code",
   "execution_count": 38,
   "metadata": {
    "collapsed": false
   },
   "outputs": [
    {
     "name": "stdout",
     "output_type": "stream",
     "text": [
      "Original dataset shape Counter({0: 212284, 1: 18075, 2: 567, 3: 89, 4: 26, 5: 19, 6: 12, 7: 9, 8: 3, 9: 3, 11: 3, 17: 2, 24: 2, 12: 1, 13: 1, 25: 1, 31: 1, 34: 1, 43: 1, 47: 1, 48: 1, 63: 1})\n",
      "Resampled dataset shape Counter({0: 212284, 1: 212284, 2: 212284, 3: 212284, 4: 212284, 5: 212284, 6: 212284, 7: 212284, 8: 212284, 9: 212284, 11: 212284, 12: 212284, 13: 212284, 17: 212284, 24: 212284, 25: 212284, 31: 212284, 34: 212284, 43: 212284, 47: 212284, 48: 212284, 63: 212284})\n"
     ]
    }
   ],
   "source": [
    "from collections import Counter\n",
    "from imblearn import under_sampling, over_sampling\n",
    "from imblearn.over_sampling import RandomOverSampler\n",
    "\n",
    "X = train.as_matrix(columns=train.columns[2:])\n",
    "y_click = np.array(train['Click'])\n",
    "print('Original dataset shape {}'.format(Counter(y_click)))\n",
    "\n",
    "# Apply the random over-sampling\n",
    "ros = RandomOverSampler()\n",
    "X_ros, y_ros = ros.fit_sample(X, y_click)\n",
    "print('Resampled dataset shape {}'.format(Counter(y_ros)))"
   ]
  },
  {
   "cell_type": "code",
   "execution_count": 39,
   "metadata": {
    "collapsed": false,
    "scrolled": true
   },
   "outputs": [
    {
     "name": "stdout",
     "output_type": "stream",
     "text": [
      "LogisticRegression(C=1.0, class_weight=None, dual=False, fit_intercept=True,\n",
      "          intercept_scaling=1, max_iter=100, multi_class='ovr', n_jobs=1,\n",
      "          penalty='l2', random_state=None, solver='liblinear', tol=0.0001,\n",
      "          verbose=0, warm_start=False)\n",
      "Accuracy: 44.081%\n",
      "             precision    recall  f1-score   support\n",
      "\n",
      "          0       0.33      0.29      0.31     53164\n",
      "          1       0.30      0.07      0.12     52925\n",
      "          2       0.16      0.12      0.14     53177\n",
      "          3       0.36      0.04      0.08     53277\n",
      "          4       0.20      0.15      0.17     52641\n",
      "          5       0.31      0.37      0.34     53271\n",
      "          6       0.23      0.25      0.24     53064\n",
      "          7       0.20      0.22      0.21     53059\n",
      "          8       0.60      0.67      0.63     53041\n",
      "          9       0.65      0.67      0.66     53130\n",
      "         11       0.38      0.33      0.36     52999\n",
      "         12       0.00      0.00      0.00     53212\n",
      "         13       0.81      1.00      0.90     53165\n",
      "         17       0.67      0.50      0.57     52988\n",
      "         24       0.00      0.00      0.00     53118\n",
      "         25       0.00      0.00      0.00     53035\n",
      "         31       0.47      1.00      0.64     52783\n",
      "         34       0.64      1.00      0.78     53165\n",
      "         43       0.27      1.00      0.43     53049\n",
      "         47       0.73      1.00      0.84     53023\n",
      "         48       0.00      0.00      0.00     53058\n",
      "         63       0.50      1.00      0.66     53218\n",
      "\n",
      "avg / total       0.36      0.44      0.37   1167562\n",
      "\n",
      "[[15634  3230  2805  1339  3740  4319  6672  8828  1849  1948   697    23\n",
      "    193   320    70   180   286   306    49   564     0   112]\n",
      " [10251  3902  4046  1242  5992  4356  6209  9504  2157  2309   823    40\n",
      "     82   475    86    96   403   359    52   481     0    60]\n",
      " [ 3990  2036  6625  1640  5805  7134  7496  8407  3788  2533   919    79\n",
      "    187   988    74   103   398   476   206   200     0    93]\n",
      " [ 4856  1151  6030  2368  4773  6591  6146  5314  4807  4700  2407     0\n",
      "      0  1216     0   548     0     0  1160   643     0   567]\n",
      " [ 6095     0  6176     0  8031  8141 10120  6044  2006  1999     0     0\n",
      "      0     0     0  1990     0  2039     0     0     0     0]\n",
      " [ 2689  2737     0     0     0 19584  8575  5552  2841  5634  5659     0\n",
      "      0     0     0     0     0     0     0     0     0     0]\n",
      " [ 4439     0  8782     0     0 13150 13305  4493     0     0     0     0\n",
      "      0  4474     0     0  4421     0     0     0     0     0]\n",
      " [    0     0  5889     0 11747     0     0 11821  5947     0     0     0\n",
      "  11800  5855     0     0     0     0     0     0     0     0]\n",
      " [    0     0     0     0     0     0     0     0 35350     0 17691     0\n",
      "      0     0     0     0     0     0     0     0     0     0]\n",
      " [    0     0     0     0     0     0     0     0     0 35537     0     0\n",
      "      0     0     0     0     0     0     0 17593     0     0]\n",
      " [    0     0     0     0     0     0     0     0     0     0 17553     0\n",
      "      0     0     0     0     0     0 35446     0     0     0]\n",
      " [    0     0     0     0     0     0     0     0     0     0     0     0\n",
      "      0     0     0     0 53212     0     0     0     0     0]\n",
      " [    0     0     0     0     0     0     0     0     0     0     0     0\n",
      "  53165     0     0     0     0     0     0     0     0     0]\n",
      " [    0     0     0     0     0     0     0     0     0     0     0     0\n",
      "      0 26563     0     0     0 26425     0     0     0     0]\n",
      " [    0     0     0     0     0     0     0     0     0     0     0     0\n",
      "      0     0     0     0     0     0 53118     0     0     0]\n",
      " [    0     0     0     0     0     0     0     0     0     0     0     0\n",
      "      0     0     0     0     0     0     0     0     0 53035]\n",
      " [    0     0     0     0     0     0     0     0     0     0     0     0\n",
      "      0     0     0     0 52783     0     0     0     0     0]\n",
      " [    0     0     0     0     0     0     0     0     0     0     0     0\n",
      "      0     0     0     0     0 53165     0     0     0     0]\n",
      " [    0     0     0     0     0     0     0     0     0     0     0     0\n",
      "      0     0     0     0     0     0 53049     0     0     0]\n",
      " [    0     0     0     0     0     0     0     0     0     0     0     0\n",
      "      0     0     0     0     0     0     0 53023     0     0]\n",
      " [    0     0     0     0     0     0     0     0     0     0     0     0\n",
      "      0     0     0     0     0     0 53058     0     0     0]\n",
      " [    0     0     0     0     0     0     0     0     0     0     0     0\n",
      "      0     0     0     0     0     0     0     0     0 53218]]\n"
     ]
    }
   ],
   "source": [
    "#X = train.as_matrix(columns=train.columns[2:])\n",
    "#X_test = test.as_matrix(columns=test.columns)\n",
    "#y_click = np.array(train['Click'])\n",
    "X_train, X_test, Y_trainc, Y_testc = cross_validation.train_test_split(X_ros, y_ros, test_size=0.25, random_state=7)\n",
    "\n",
    "model = LogisticRegression()\n",
    "model.fit(X_train, Y_trainc)\n",
    "print(model)\n",
    "# make predictions\n",
    "expected = Y_testc\n",
    "predicted = model.predict(X_test)\n",
    "result = model.score(X_test, Y_testc)\n",
    "print(\"Accuracy: %.3f%%\") % (result*100.0)\n",
    "# summarize the fit of the model\n",
    "print(metrics.classification_report(expected, predicted))\n",
    "print(metrics.confusion_matrix(expected, predicted))"
   ]
  },
  {
   "cell_type": "code",
   "execution_count": null,
   "metadata": {
    "collapsed": false
   },
   "outputs": [],
   "source": [
    "#impression\n",
    "X = train.as_matrix(columns=train.columns[2:])\n",
    "y_imp = np.array(train['Impression'])\n",
    "print('Original dataset shape {}'.format(Counter(y_imp)))\n",
    "\n",
    "# Apply the random over-sampling\n",
    "ros = RandomOverSampler()\n",
    "X_rosi, y_rosi = ros.fit_sample(X, y_imp)\n",
    "print('Resampled dataset shape {}'.format(Counter(y_rosi)))"
   ]
  },
  {
   "cell_type": "code",
   "execution_count": null,
   "metadata": {
    "collapsed": true
   },
   "outputs": [],
   "source": [
    "#X = train.as_matrix(columns=train.columns[2:])\n",
    "#X_test = test.as_matrix(columns=test.columns)\n",
    "y_imp = np.array(train['Impression'])\n",
    "X_train, X_test, Y_traini, Y_testi = cross_validation.train_test_split(X_rosi, y_rosi, test_size=0.25, random_state=7)\n",
    "\n",
    "model = LogisticRegression()\n",
    "model.fit(X_train, Y_traini)\n",
    "print(model)\n",
    "# make predictions\n",
    "expec_i = Y_testi\n",
    "pred_i = model.predict(X_test)\n",
    "result = model.score(X_test, Y_testi)\n",
    "print(\"Accuracy: %.3f%%\") % (result*100.0)\n",
    "# summarize the fit of the model\n",
    "print(metrics.classification_report(expec_i, pred_i))\n",
    "print(metrics.confusion_matrix(expec_i, pred_i))"
   ]
  },
  {
   "cell_type": "code",
   "execution_count": null,
   "metadata": {
    "collapsed": true
   },
   "outputs": [],
   "source": [
    "#under sampling\n",
    "from imblearn.under_sampling import RandomUnderSampler\n",
    "\n",
    "X = train.as_matrix(columns=train.columns[2:])\n",
    "y_click = np.array(train['Click'])\n",
    "print('Original dataset shape {}'.format(Counter(y_click)))\n",
    "\n",
    "# Apply the random under-sampling\n",
    "rus = RandomUnderSampler()\n",
    "X_rus, y_rus = rus.fit_sample(X, y_click)\n",
    "print('Resampled dataset shape {}'.format(Counter(y_rus)))"
   ]
  },
  {
   "cell_type": "code",
   "execution_count": null,
   "metadata": {
    "collapsed": true
   },
   "outputs": [],
   "source": [
    "#X = train.as_matrix(columns=train.columns[2:])\n",
    "#X_test = test.as_matrix(columns=test.columns)\n",
    "#y_click = np.array(train['Click'])\n",
    "X_train, X_test, Y_traincu, Y_testcu = cross_validation.train_test_split(X_rus, y_rus, test_size=0.25, random_state=7)\n",
    "\n",
    "model = LogisticRegression()\n",
    "model.fit(X_train, Y_traincu)\n",
    "print(model)\n",
    "# make predictions\n",
    "expected = Y_testcu\n",
    "predicted = model.predict(X_test)\n",
    "result = model.score(X_test, Y_testcu)\n",
    "print(\"Accuracy: %.3f%%\") % (result*100.0)\n",
    "# summarize the fit of the model\n",
    "print(metrics.classification_report(expected, predicted))\n",
    "print(metrics.confusion_matrix(expected, predicted))"
   ]
  },
  {
   "cell_type": "code",
   "execution_count": null,
   "metadata": {
    "collapsed": true
   },
   "outputs": [],
   "source": [
    "#impression\n",
    "\n",
    "X = train.as_matrix(columns=train.columns[2:])\n",
    "y_imp = np.array(train['Impression'])\n",
    "print('Original dataset shape {}'.format(Counter(y_imp)))\n",
    "\n",
    "# Apply the random under-sampling\n",
    "rus = RandomUnderSampler()\n",
    "X_rusi, y_rusi = rus.fit_sample(X, y_imp)\n",
    "print('Resampled dataset shape {}'.format(Counter(y_rusi)))"
   ]
  },
  {
   "cell_type": "code",
   "execution_count": null,
   "metadata": {
    "collapsed": true
   },
   "outputs": [],
   "source": [
    "#X = train.as_matrix(columns=train.columns[2:])\n",
    "#X_test = test.as_matrix(columns=test.columns)\n",
    "y_imp = np.array(train['Impression'])\n",
    "X_train, X_test, Y_trainiu, Y_testiu = cross_validation.train_test_split(X_rusi, y_rusi, test_size=0.25, random_state=7)\n",
    "\n",
    "model = LogisticRegression()\n",
    "model.fit(X_train, Y_trainiu)\n",
    "print(model)\n",
    "# make predictions\n",
    "expec_i = Y_testiu\n",
    "pred_i = model.predict(X_test)\n",
    "result = model.score(X_test, Y_testiu)\n",
    "print(\"Accuracy: %.3f%%\") % (result*100.0)\n",
    "# summarize the fit of the model\n",
    "print(metrics.classification_report(expec_i, pred_i))\n",
    "print(metrics.confusion_matrix(expec_i, pred_i))"
   ]
  },
  {
   "cell_type": "code",
   "execution_count": null,
   "metadata": {
    "collapsed": true
   },
   "outputs": [],
   "source": []
  }
 ],
 "metadata": {
  "anaconda-cloud": {},
  "kernelspec": {
   "display_name": "Python [Root]",
   "language": "python",
   "name": "Python [Root]"
  },
  "language_info": {
   "codemirror_mode": {
    "name": "ipython",
    "version": 2
   },
   "file_extension": ".py",
   "mimetype": "text/x-python",
   "name": "python",
   "nbconvert_exporter": "python",
   "pygments_lexer": "ipython2",
   "version": "2.7.12"
  }
 },
 "nbformat": 4,
 "nbformat_minor": 1
}
